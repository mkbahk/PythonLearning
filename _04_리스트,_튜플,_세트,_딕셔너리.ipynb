{
  "nbformat": 4,
  "nbformat_minor": 0,
  "metadata": {
    "colab": {
      "name": "_04 리스트, 튜플, 세트, 딕셔너리.ipynb",
      "provenance": [],
      "collapsed_sections": [],
      "toc_visible": true,
      "include_colab_link": true
    },
    "kernelspec": {
      "name": "python3",
      "display_name": "Python 3"
    }
  },
  "cells": [
    {
      "cell_type": "markdown",
      "metadata": {
        "id": "view-in-github",
        "colab_type": "text"
      },
      "source": [
        "<a href=\"https://colab.research.google.com/github/mkbahk/PythonLearning/blob/main/_04_%EB%A6%AC%EC%8A%A4%ED%8A%B8%2C_%ED%8A%9C%ED%94%8C%2C_%EC%84%B8%ED%8A%B8%2C_%EB%94%95%EC%85%94%EB%84%88%EB%A6%AC.ipynb\" target=\"_parent\"><img src=\"https://colab.research.google.com/assets/colab-badge.svg\" alt=\"Open In Colab\"/></a>"
      ]
    },
    {
      "cell_type": "markdown",
      "metadata": {
        "id": "bg5ZXMV2sn1M"
      },
      "source": [
        "# 리스트, 튜플, 세트, 딕셔너리"
      ]
    },
    {
      "cell_type": "markdown",
      "metadata": {
        "id": "Lj_iZPKnCRP0"
      },
      "source": [
        "\n",
        "\n",
        "---\n",
        "\n"
      ]
    },
    {
      "cell_type": "markdown",
      "metadata": {
        "id": "aKsMBDZohTu4"
      },
      "source": [
        "## 리스트(List)\n",
        "* 변경 가능한 시퀀스 자료형\n",
        "* 하나의 변수에 여러 값 할당 가능\n",
        "* 같은 자료형이 아니라 다른 자료형을 가지는 값들을 포함 가능\n",
        "* 일반적으로 비슷한 항목들의 모음을 순서대로 저장하는데 사용\n"
      ]
    },
    {
      "cell_type": "code",
      "metadata": {
        "id": "qLh1E-1_hxR_",
        "colab": {
          "base_uri": "https://localhost:8080/"
        },
        "outputId": "c4cd25e2-b560-48ec-a996-b99f43358ac2"
      },
      "source": [
        "print([])\n",
        "print([1, 2, 3])\n",
        "print(['One', 'Two', 'Three'])\n",
        "print(['One', 'Two', 'Three'][0])\n",
        "print(['One', 'Two', 'Three'][1])\n",
        "print(['One', 'Two', 'Three'][2])\n",
        "print(['One', 'Two', 'Three'][-1])\n",
        "print(['One', 'Two', 'Three'][-2])\n",
        "print(['One', 'Two', 'Three'][-3])\n",
        "\n",
        "print([1, 'One', 2, 'Two', 3, 'Three'])\n",
        "\n",
        "l = [1, 2, 3, ['One', 'Two', 'Three']]\n",
        "print(l)\n",
        "print(l[0])\n",
        "print(l[3])\n",
        "print(l[3][0][2])"
      ],
      "execution_count": 104,
      "outputs": [
        {
          "output_type": "stream",
          "name": "stdout",
          "text": [
            "[]\n",
            "[1, 2, 3]\n",
            "['One', 'Two', 'Three']\n",
            "One\n",
            "Two\n",
            "Three\n",
            "Three\n",
            "Two\n",
            "One\n",
            "[1, 'One', 2, 'Two', 3, 'Three']\n",
            "[1, 2, 3, ['One', 'Two', 'Three']]\n",
            "1\n",
            "['One', 'Two', 'Three']\n",
            "e\n"
          ]
        }
      ]
    },
    {
      "cell_type": "markdown",
      "metadata": {
        "id": "YApkWxX_Yo7K"
      },
      "source": [
        "\n",
        "\n",
        "\n",
        "### 리스트 인덱싱(List Indexing)\n",
        "\n",
        "* 리스트의 각 위치에 해당하는 값에 접근하기 위해서 주소 개념의 숫자를 사용\n",
        "\n",
        "'One','Two','Three'<br>\n",
        "[0],[1],[2]<br>\n",
        "[-3],[-2],[-1]<br>"
      ]
    },
    {
      "cell_type": "code",
      "metadata": {
        "id": "DapQSgP4ZEM_",
        "colab": {
          "base_uri": "https://localhost:8080/"
        },
        "outputId": "70505f61-476c-4601-c2d3-4988fd7e09ca"
      },
      "source": [
        "print(['One', 'Two', 'Three'])\n",
        "print(['One', 'Two', 'Three'][0])\n",
        "print(['One', 'Two', 'Three'][1])\n",
        "print(['One', 'Two', 'Three'][2])\n",
        "print(['One', 'Two', 'Three'][-1])\n",
        "print(['One', 'Two', 'Three'][-2])\n",
        "print(['One', 'Two', 'Three'][-3])\n",
        "\n",
        "print([1, 'One', 2, 'Two', 3, 'Three'])\n",
        "\n",
        "l = [1, 2, 3, ['One', 'Two', 'Three']]\n",
        "print(l)\n",
        "print(l[0])\n",
        "print(l[3])\n",
        "print(l[3][0][2])"
      ],
      "execution_count": 105,
      "outputs": [
        {
          "output_type": "stream",
          "name": "stdout",
          "text": [
            "['One', 'Two', 'Three']\n",
            "One\n",
            "Two\n",
            "Three\n",
            "Three\n",
            "Two\n",
            "One\n",
            "[1, 'One', 2, 'Two', 3, 'Three']\n",
            "[1, 2, 3, ['One', 'Two', 'Three']]\n",
            "1\n",
            "['One', 'Two', 'Three']\n",
            "e\n"
          ]
        }
      ]
    },
    {
      "cell_type": "code",
      "metadata": {
        "colab": {
          "base_uri": "https://localhost:8080/"
        },
        "id": "yZ3V-4nafXzZ",
        "outputId": "10041834-9234-4b26-bc90-ad28c25396d5"
      },
      "source": [
        "list = ['One', 'Two', 'Three']\n",
        "print(list)\n",
        "print(list[0])\n",
        "print(list[1])\n",
        "print(list[2])\n",
        "print(list[-1])\n",
        "print(list[-2])\n",
        "print(list[-3])"
      ],
      "execution_count": 106,
      "outputs": [
        {
          "output_type": "stream",
          "name": "stdout",
          "text": [
            "['One', 'Two', 'Three']\n",
            "One\n",
            "Two\n",
            "Three\n",
            "Three\n",
            "Two\n",
            "One\n"
          ]
        }
      ]
    },
    {
      "cell_type": "markdown",
      "metadata": {
        "id": "szH7uH46fO-9"
      },
      "source": [
        "\n"
      ]
    },
    {
      "cell_type": "markdown",
      "metadata": {
        "id": "zudx4zfHdAvz"
      },
      "source": [
        "### 중첩 리스트 인덱싱(Nested List Indexing)\n",
        "\n",
        "* 리스트 안에 리스트가 있을 경우 인덱스 접근 방법\n",
        "\n",
        "[1, 2, 3, ['one', 'two', 'three']]<br>\n",
        "[0] [1] [2] [3][0] [3][1] [3][2]"
      ]
    },
    {
      "cell_type": "code",
      "metadata": {
        "id": "4-AbAyBsdiu4",
        "colab": {
          "base_uri": "https://localhost:8080/"
        },
        "outputId": "be641daa-18c8-4bb9-e29a-4d80fee42dc3"
      },
      "source": [
        "list = [1, 2, 3, ['One', 'Two', 'Three']]\n",
        "print(list)\n",
        "print(list[3])\n",
        "print(list[3][0])\n",
        "print(list[3][0][0])\n",
        "\n",
        "a = b = c = 5\n",
        "print(a, b, c)"
      ],
      "execution_count": 107,
      "outputs": [
        {
          "output_type": "stream",
          "name": "stdout",
          "text": [
            "[1, 2, 3, ['One', 'Two', 'Three']]\n",
            "['One', 'Two', 'Three']\n",
            "One\n",
            "O\n",
            "5 5 5\n"
          ]
        }
      ]
    },
    {
      "cell_type": "markdown",
      "metadata": {
        "id": "qYff3UXAd_gZ"
      },
      "source": [
        "### 리스트 슬라이싱(List Slicing)\n",
        "\n",
        "* 리스트의 인덱스를 통해서 부분만 가져올 때 사용"
      ]
    },
    {
      "cell_type": "code",
      "metadata": {
        "id": "XV6YtlM8eFZ7",
        "colab": {
          "base_uri": "https://localhost:8080/"
        },
        "outputId": "d15238d3-b6cd-48f2-b255-8dc901e11dde"
      },
      "source": [
        "list = ['One', 'Two', 'Three']\n",
        "print(list)\n",
        "print(list[0:])\n",
        "print(list[:-1]) #우리가 의도한데로 나오지 않음\n",
        "print(list[:])\n",
        "print(list[1:2])\n",
        "print(list[1:])"
      ],
      "execution_count": 108,
      "outputs": [
        {
          "output_type": "stream",
          "name": "stdout",
          "text": [
            "['One', 'Two', 'Three']\n",
            "['One', 'Two', 'Three']\n",
            "['One', 'Two']\n",
            "['One', 'Two', 'Three']\n",
            "['Two']\n",
            "['Two', 'Three']\n"
          ]
        }
      ]
    },
    {
      "cell_type": "markdown",
      "metadata": {
        "id": "7BBUTCoWfRFY"
      },
      "source": [
        "### 중첩 리스트 슬라이싱(Nested List Slicing)\n",
        "\n",
        "* 중첩된 리스트에서 일부분만 인덱스를 통해서 가져올 때 사용"
      ]
    },
    {
      "cell_type": "code",
      "metadata": {
        "id": "KXqdQhpminGG",
        "colab": {
          "base_uri": "https://localhost:8080/"
        },
        "outputId": "18af09c0-ef6e-48f0-a667-68ceb0453435"
      },
      "source": [
        "list = [1, 2, 3, ['One', 'Two', 'Three']]\n",
        "print(list)\n",
        "print(list[2:4])\n",
        "print(list[3][:2])"
      ],
      "execution_count": 109,
      "outputs": [
        {
          "output_type": "stream",
          "name": "stdout",
          "text": [
            "[1, 2, 3, ['One', 'Two', 'Three']]\n",
            "[3, ['One', 'Two', 'Three']]\n",
            "['One', 'Two']\n"
          ]
        }
      ]
    },
    {
      "cell_type": "markdown",
      "metadata": {
        "id": "q_9BaaINjg2l"
      },
      "source": [
        "### 리스트 연산자/함수(List Operators/Function)\n",
        "\n",
        "* 더하기 + 연산자\n",
        "* 곱하기 * 연산자\n",
        "* 리스트 길이를 구하는 `len()` 함수"
      ]
    },
    {
      "cell_type": "code",
      "metadata": {
        "id": "iylo3yUBjpBW",
        "colab": {
          "base_uri": "https://localhost:8080/"
        },
        "outputId": "cad85f72-63ea-4fc0-9a0a-60234f271ef8"
      },
      "source": [
        "list_1 =  ['One', 'Two', 'Three']\n",
        "list_2 = ['Four', \"Five\", 'Six']\n",
        "\n",
        "print(list_1)\n",
        "print(list_2)\n",
        "print(list_1 + list_2)\n",
        "#print(list_1 + 3)\n",
        "print(list_1 * 3)\n",
        "#print(list_1 * list_2)\n",
        "print(len(list_1))\n",
        "print(len(list_1) * 3)\n"
      ],
      "execution_count": 110,
      "outputs": [
        {
          "output_type": "stream",
          "name": "stdout",
          "text": [
            "['One', 'Two', 'Three']\n",
            "['Four', 'Five', 'Six']\n",
            "['One', 'Two', 'Three', 'Four', 'Five', 'Six']\n",
            "['One', 'Two', 'Three', 'One', 'Two', 'Three', 'One', 'Two', 'Three']\n",
            "3\n",
            "9\n"
          ]
        }
      ]
    },
    {
      "cell_type": "markdown",
      "metadata": {
        "id": "XTQWWsI7j-g0"
      },
      "source": [
        "### 리스트 수정(List Modify)\n",
        "\n",
        "* 리스트 인덱스 주소를 이용한 값 수정"
      ]
    },
    {
      "cell_type": "code",
      "metadata": {
        "id": "ZAvCJXhPkDIN",
        "colab": {
          "base_uri": "https://localhost:8080/"
        },
        "outputId": "30c394ba-77fc-442f-b8e9-0f7702b1773f"
      },
      "source": [
        "list =  ['One', 'Two', 'Three']\n",
        "print(list)\n",
        "list[2] = 3\n",
        "print(list)\n",
        "list[1] = 2\n",
        "list[0] = 1\n",
        "print(list)\n"
      ],
      "execution_count": 111,
      "outputs": [
        {
          "output_type": "stream",
          "name": "stdout",
          "text": [
            "['One', 'Two', 'Three']\n",
            "['One', 'Two', 3]\n",
            "[1, 2, 3]\n"
          ]
        }
      ]
    },
    {
      "cell_type": "markdown",
      "metadata": {
        "id": "OolpuGcLlHrs"
      },
      "source": [
        "### 리스트 메소드(List Methods)\n"
      ]
    },
    {
      "cell_type": "markdown",
      "metadata": {
        "id": "m5xHM2-jlQh3"
      },
      "source": [
        "#### append()\n",
        "\n",
        "* 리스트 요소 추가"
      ]
    },
    {
      "cell_type": "code",
      "metadata": {
        "id": "8AaEGUxSlU_a",
        "colab": {
          "base_uri": "https://localhost:8080/"
        },
        "outputId": "5c3010a8-ecd1-4112-dfac-a35b20461b8b"
      },
      "source": [
        "list =  ['One', 'Two', 'Three']\n",
        "list.append('Four')\n",
        "print(list)\n",
        "#list =  list + \"Five\"\n",
        "list =  list + [\"Five\"]\n",
        "print(list)\n",
        "list.append([1, 2, 3])\n",
        "print(list)"
      ],
      "execution_count": 112,
      "outputs": [
        {
          "output_type": "stream",
          "name": "stdout",
          "text": [
            "['One', 'Two', 'Three', 'Four']\n",
            "['One', 'Two', 'Three', 'Four', 'Five']\n",
            "['One', 'Two', 'Three', 'Four', 'Five', [1, 2, 3]]\n"
          ]
        }
      ]
    },
    {
      "cell_type": "markdown",
      "metadata": {
        "id": "sIkoHvkJmQjD"
      },
      "source": [
        "#### sort()\n",
        "\n",
        "* 리스트 정렬"
      ]
    },
    {
      "cell_type": "code",
      "metadata": {
        "id": "XxCsua37mU7R",
        "colab": {
          "base_uri": "https://localhost:8080/",
          "height": 123
        },
        "outputId": "c96f1ec6-b503-429f-b6fd-f2bdf897de33"
      },
      "source": [
        "list = [10, 40, 20, 30]\n",
        "print(list)\n",
        "list.sort()\n",
        "print(list)\n",
        "\n",
        "list = ['orange', 'apple', 'bananas', 'strawberry']\n",
        "print(list)\n",
        "list.sort()\n",
        "print(list)\n",
        "\n",
        "'''\n",
        "list = ['orange', 'apple', 'bananas', 'strawberry', 1, \"Three\", 3, 2]\n",
        "print(list)\n",
        "list.sort()\n",
        "print(list)\n",
        "'''\n",
        "\n",
        "'''\n",
        "list = ['orange', 'apple', 'bananas', 'strawberry', ['One', 'Two', \"Three\"]]\n",
        "print(list)\n",
        "list.sort()\n",
        "print(list)\n",
        "'''"
      ],
      "execution_count": 113,
      "outputs": [
        {
          "output_type": "stream",
          "name": "stdout",
          "text": [
            "[10, 40, 20, 30]\n",
            "[10, 20, 30, 40]\n",
            "['orange', 'apple', 'bananas', 'strawberry']\n",
            "['apple', 'bananas', 'orange', 'strawberry']\n"
          ]
        },
        {
          "output_type": "execute_result",
          "data": {
            "application/vnd.google.colaboratory.intrinsic+json": {
              "type": "string"
            },
            "text/plain": [
              "'\\nlist = [\\'orange\\', \\'apple\\', \\'bananas\\', \\'strawberry\\', [\\'One\\', \\'Two\\', \"Three\"]]\\nprint(list)\\nlist.sort()\\nprint(list)\\n'"
            ]
          },
          "metadata": {},
          "execution_count": 113
        }
      ]
    },
    {
      "cell_type": "markdown",
      "metadata": {
        "id": "YdfEfFUEmmBZ"
      },
      "source": [
        "#### reverse()\n",
        "\n",
        "* 리스트 요소 반전"
      ]
    },
    {
      "cell_type": "code",
      "metadata": {
        "id": "gaqQQwm0mrAs",
        "colab": {
          "base_uri": "https://localhost:8080/",
          "height": 70
        },
        "outputId": "7d8bcdc2-4146-401a-e6fb-7b0f4deca5b9"
      },
      "source": [
        "list = ['orange', 'apple', 'bananas', 'strawberry']\n",
        "print(list)\n",
        "list.reverse()\n",
        "print(list)\n",
        "\n",
        "'''\n",
        "list.reverse().sort()\n",
        "print(list)\n",
        "'''"
      ],
      "execution_count": 114,
      "outputs": [
        {
          "output_type": "stream",
          "name": "stdout",
          "text": [
            "['orange', 'apple', 'bananas', 'strawberry']\n",
            "['strawberry', 'bananas', 'apple', 'orange']\n"
          ]
        },
        {
          "output_type": "execute_result",
          "data": {
            "application/vnd.google.colaboratory.intrinsic+json": {
              "type": "string"
            },
            "text/plain": [
              "'\\nlist.reverse().sort()\\nprint(list)\\n'"
            ]
          },
          "metadata": {},
          "execution_count": 114
        }
      ]
    },
    {
      "cell_type": "markdown",
      "metadata": {
        "id": "B9GFsndRnwor"
      },
      "source": [
        "#### index()\n",
        "\n",
        "* 리스트의 요소 값에 대한 인덱스를 반환"
      ]
    },
    {
      "cell_type": "code",
      "metadata": {
        "id": "xs1Nlc_Hn1S3",
        "colab": {
          "base_uri": "https://localhost:8080/"
        },
        "outputId": "2d6609f1-60e5-45b2-9b77-01b0a39ce114"
      },
      "source": [
        "list = [10, 40, 20, 30]\n",
        "print(list)\n",
        "print(list.index(10), '번째')\n",
        "print(list)\n",
        "print(list.index(20), '번째')"
      ],
      "execution_count": 115,
      "outputs": [
        {
          "output_type": "stream",
          "name": "stdout",
          "text": [
            "[10, 40, 20, 30]\n",
            "0 번째\n",
            "[10, 40, 20, 30]\n",
            "2 번째\n"
          ]
        }
      ]
    },
    {
      "cell_type": "markdown",
      "metadata": {
        "id": "nSuJKFcUn9UK"
      },
      "source": [
        "#### insert()\n",
        "\n",
        "* 리스트 요소 삽입"
      ]
    },
    {
      "cell_type": "code",
      "metadata": {
        "id": "3crOTMcLoAdE",
        "colab": {
          "base_uri": "https://localhost:8080/"
        },
        "outputId": "8ce952fb-e62d-4ede-94ab-d3c71ffd7340"
      },
      "source": [
        "list = [10, 40, 20, 30]\n",
        "print(list)\n",
        "list.insert(2, 50)\n",
        "print(list)\n",
        "list.insert(0, 60)\n",
        "print(list)"
      ],
      "execution_count": 116,
      "outputs": [
        {
          "output_type": "stream",
          "name": "stdout",
          "text": [
            "[10, 40, 20, 30]\n",
            "[10, 40, 50, 20, 30]\n",
            "[60, 10, 40, 50, 20, 30]\n"
          ]
        }
      ]
    },
    {
      "cell_type": "markdown",
      "metadata": {
        "id": "u9_0Hh5NyXXh"
      },
      "source": [
        "#### remove()\n",
        "\n",
        "* 리스트 요소 제거"
      ]
    },
    {
      "cell_type": "code",
      "metadata": {
        "id": "55jgJF1ZyjIp",
        "colab": {
          "base_uri": "https://localhost:8080/"
        },
        "outputId": "eeaaf3ca-824a-45be-8418-d59e6e12b37c"
      },
      "source": [
        "list = [10, 40, 20, 30]\n",
        "print(list)\n",
        "list.remove(40)\n",
        "print(list)\n",
        "list.remove(30)\n",
        "print(list)"
      ],
      "execution_count": 117,
      "outputs": [
        {
          "output_type": "stream",
          "name": "stdout",
          "text": [
            "[10, 40, 20, 30]\n",
            "[10, 20, 30]\n",
            "[10, 20]\n"
          ]
        }
      ]
    },
    {
      "cell_type": "markdown",
      "metadata": {
        "id": "XE2VEcqyywE4"
      },
      "source": [
        "#### del\n",
        "\n",
        "* 리스트 요소 제거 연산"
      ]
    },
    {
      "cell_type": "code",
      "metadata": {
        "id": "AMDGcMSTy7RO",
        "colab": {
          "base_uri": "https://localhost:8080/"
        },
        "outputId": "f25e0756-2180-4d78-f54a-58e2ebb86018"
      },
      "source": [
        "list = [10, 40, 20, 30]\n",
        "print(list)\n",
        "del list[0]  #index를 이용한 접근\n",
        "print(list)\n",
        "del list[2]  #index를 이용한 접근\n",
        "print(list)"
      ],
      "execution_count": 118,
      "outputs": [
        {
          "output_type": "stream",
          "name": "stdout",
          "text": [
            "[10, 40, 20, 30]\n",
            "[40, 20, 30]\n",
            "[40, 20]\n"
          ]
        }
      ]
    },
    {
      "cell_type": "markdown",
      "metadata": {
        "id": "0R1KumQ8zPqj"
      },
      "source": [
        "#### pop()\n",
        "\n",
        "* 리스트 요소를 방출"
      ]
    },
    {
      "cell_type": "code",
      "metadata": {
        "id": "AES7G1e-za4k",
        "colab": {
          "base_uri": "https://localhost:8080/"
        },
        "outputId": "286e02e1-9d48-42fc-976c-71f90f40e4e9"
      },
      "source": [
        "list = [10, 40, 20, 30]\n",
        "print(list)\n",
        "list.pop()\n",
        "print(list)\n",
        "list.pop(0)\n",
        "print(list)"
      ],
      "execution_count": 119,
      "outputs": [
        {
          "output_type": "stream",
          "name": "stdout",
          "text": [
            "[10, 40, 20, 30]\n",
            "[10, 40, 20]\n",
            "[40, 20]\n"
          ]
        }
      ]
    },
    {
      "cell_type": "markdown",
      "metadata": {
        "id": "BnKMoBtrzkUP"
      },
      "source": [
        "#### count()\n",
        "\n",
        "* 리스트 요소의 갯수 계산"
      ]
    },
    {
      "cell_type": "code",
      "metadata": {
        "id": "iv13N4uWznsm",
        "colab": {
          "base_uri": "https://localhost:8080/"
        },
        "outputId": "a86b44bd-6412-445d-8134-4c80868a8cd8"
      },
      "source": [
        "list = [10, 40, 20, 30, 30, 20, 30]\n",
        "print(list)\n",
        "print(list.count(30))\n",
        "print(list.count(20))"
      ],
      "execution_count": 120,
      "outputs": [
        {
          "output_type": "stream",
          "name": "stdout",
          "text": [
            "[10, 40, 20, 30, 30, 20, 30]\n",
            "3\n",
            "2\n"
          ]
        }
      ]
    },
    {
      "cell_type": "markdown",
      "metadata": {
        "id": "XtM96Zm91CZZ"
      },
      "source": [
        ""
      ]
    },
    {
      "cell_type": "markdown",
      "metadata": {
        "id": "sI87ApvJzxcM"
      },
      "source": [
        "#### extend()\n",
        "\n",
        "* 리스트 확장"
      ]
    },
    {
      "cell_type": "code",
      "metadata": {
        "id": "0q944_Znz0XJ",
        "colab": {
          "base_uri": "https://localhost:8080/"
        },
        "outputId": "77b77ff3-9758-4519-87b9-07057c9a7d6a"
      },
      "source": [
        "list = [10, 40, 20, 30]\n",
        "print(list)\n",
        "list.extend(['One', \"Two\", [50, 60]])\n",
        "print(list)"
      ],
      "execution_count": 121,
      "outputs": [
        {
          "output_type": "stream",
          "name": "stdout",
          "text": [
            "[10, 40, 20, 30]\n",
            "[10, 40, 20, 30, 'One', 'Two', [50, 60]]\n"
          ]
        }
      ]
    },
    {
      "cell_type": "code",
      "metadata": {
        "colab": {
          "base_uri": "https://localhost:8080/"
        },
        "id": "kkycQvwQ8RaH",
        "outputId": "ef16943e-4e03-4538-8a3b-aa3674515e03"
      },
      "source": [
        "list_1 = [5, 4, 3, 2, 1]\n",
        "list_2 = [0, 0, 0, 0, 0]\n",
        "for item in list_1:\n",
        "  list_2[-1] = item\n",
        "  print(list_2)\n",
        "###end of for\n",
        "print(list_2)"
      ],
      "execution_count": 122,
      "outputs": [
        {
          "output_type": "stream",
          "name": "stdout",
          "text": [
            "[0, 0, 0, 0, 5]\n",
            "[0, 0, 0, 0, 4]\n",
            "[0, 0, 0, 0, 3]\n",
            "[0, 0, 0, 0, 2]\n",
            "[0, 0, 0, 0, 1]\n",
            "[0, 0, 0, 0, 1]\n"
          ]
        }
      ]
    },
    {
      "cell_type": "markdown",
      "metadata": {
        "id": "PzXHy8FxoW5l"
      },
      "source": [
        "\n",
        "\n",
        "---\n",
        "\n"
      ]
    },
    {
      "cell_type": "markdown",
      "metadata": {
        "id": "d38eO6_roX5E"
      },
      "source": [
        "## 튜플(Tuple)\n",
        "\n",
        "* 리스트와 유사하지만 변경 불가능한 시퀀스 자료형\n",
        "* 하나의 변수에 여러 값 할당 가능\n",
        "* ‘(‘와 ‘)’를 사용하여 표현"
      ]
    },
    {
      "cell_type": "code",
      "metadata": {
        "id": "1s9_Z7hQ0Ft0",
        "colab": {
          "base_uri": "https://localhost:8080/"
        },
        "outputId": "7c0e9c5b-9d12-438c-ee09-696fcb62b9ee"
      },
      "source": [
        "print(())\n",
        "print((1, 2, 3))\n",
        "print(('One', 'Two', 'Three'))\n",
        "print((1, 'One', 2, 'Two', 3, 'Three'))\n",
        "print((1, 2, 3, ('One', 'Two', 'Three'))) #임의의 자료형(tuple 속에 tuple)도 들어올 수 있다.\n",
        "print((1, 2, 3, ['One', 'Two', 'Three'])) #임의의 자료형(tuple 속에 list)도 들어올 수 있다.\n",
        "print((1, 2, 3, {'One', 'Two', 'Three'})) #임의의 자료형(tuple 속에 set)도 들어올 수 있다."
      ],
      "execution_count": 123,
      "outputs": [
        {
          "output_type": "stream",
          "name": "stdout",
          "text": [
            "()\n",
            "(1, 2, 3)\n",
            "('One', 'Two', 'Three')\n",
            "(1, 'One', 2, 'Two', 3, 'Three')\n",
            "(1, 2, 3, ('One', 'Two', 'Three'))\n",
            "(1, 2, 3, ['One', 'Two', 'Three'])\n",
            "(1, 2, 3, {'Two', 'Three', 'One'})\n"
          ]
        }
      ]
    },
    {
      "cell_type": "markdown",
      "metadata": {
        "id": "e3TE7eO00UKJ"
      },
      "source": [
        "### 튜플 인덱싱(Tuple Indexing)\n",
        "\n",
        "* 튜플의 각 위치에 해당하는 값에 접근하기 위해서 주소 개념의 숫자를 사용"
      ]
    },
    {
      "cell_type": "code",
      "metadata": {
        "id": "_usfNdhc0a_7",
        "colab": {
          "base_uri": "https://localhost:8080/"
        },
        "outputId": "0158d0ca-11f5-4249-a203-a5b85330bca6"
      },
      "source": [
        "tuple = ('One', 'Two', 'Three')\n",
        "print(tuple)\n",
        "print(tuple[0]) #tuple index접근은 '[]'방식으로\n",
        "print(tuple[-1])"
      ],
      "execution_count": 126,
      "outputs": [
        {
          "output_type": "stream",
          "name": "stdout",
          "text": [
            "('One', 'Two', 'Three')\n",
            "One\n",
            "Three\n"
          ]
        }
      ]
    },
    {
      "cell_type": "markdown",
      "metadata": {
        "id": "bFGXVZ8-05z2"
      },
      "source": [
        "### 중첩 튜플 인덱싱(Nested Tuple Indexing)\n",
        "\n",
        "* 튜플 안에 튜플이 중첩되어 있을 경우, 인덱스 접근 방법"
      ]
    },
    {
      "cell_type": "code",
      "metadata": {
        "id": "eq996H91097z",
        "colab": {
          "base_uri": "https://localhost:8080/"
        },
        "outputId": "0a889d59-9451-4576-8ae5-893595dfa094"
      },
      "source": [
        "tuple = (1, 2, 3, ('One', 'Two', 'Three'))\n",
        "\n",
        "print(tuple)\n",
        "print(tuple[3])\n",
        "print(tuple[3][1])"
      ],
      "execution_count": 127,
      "outputs": [
        {
          "output_type": "stream",
          "name": "stdout",
          "text": [
            "(1, 2, 3, ('One', 'Two', 'Three'))\n",
            "('One', 'Two', 'Three')\n",
            "Two\n"
          ]
        }
      ]
    },
    {
      "cell_type": "markdown",
      "metadata": {
        "id": "nYYF6L223714"
      },
      "source": [
        "### 튜플 슬라이싱(Tuple Slicing)\n",
        "\n",
        "* 튜플의 인덱스를 통해서 부분만 가져올 때 사용"
      ]
    },
    {
      "cell_type": "code",
      "metadata": {
        "colab": {
          "base_uri": "https://localhost:8080/"
        },
        "id": "ytGJMiN6S0cw",
        "outputId": "5682e10f-16a2-4e42-8685-2e57c8952d4b"
      },
      "source": [
        "tuple = (1, 2, 3, ('One', 'Two', 'Three'))\n",
        "\n",
        "print(tuple)\n",
        "print(tuple[0:])\n",
        "print(tuple[0:2])\n",
        "print(tuple[1:])"
      ],
      "execution_count": 129,
      "outputs": [
        {
          "output_type": "stream",
          "name": "stdout",
          "text": [
            "(1, 2, 3, ('One', 'Two', 'Three'))\n",
            "(1, 2, 3, ('One', 'Two', 'Three'))\n",
            "(1, 2)\n",
            "(2, 3, ('One', 'Two', 'Three'))\n"
          ]
        }
      ]
    },
    {
      "cell_type": "markdown",
      "metadata": {
        "id": "ddlDZ-iH7JI0"
      },
      "source": [
        "### 중첩 튜플 슬라이싱(Nested Tuple Slicing)\n",
        "\n",
        "* 중첩된 튜플에서 일부분만 인덱스를 통해서 가져올 때 사용"
      ]
    },
    {
      "cell_type": "code",
      "metadata": {
        "id": "2GeXCqV37Nc3",
        "colab": {
          "base_uri": "https://localhost:8080/"
        },
        "outputId": "14233fea-3c6b-4e94-a0a6-9993cdc1c421"
      },
      "source": [
        "tuple = (1, 2, 3, ('One', 'Two', 'Three'))\n",
        "\n",
        "print(tuple)\n",
        "print(tuple[3])\n",
        "print(tuple[3][2:])\n",
        "print(tuple[3][:2])"
      ],
      "execution_count": 131,
      "outputs": [
        {
          "output_type": "stream",
          "name": "stdout",
          "text": [
            "(1, 2, 3, ('One', 'Two', 'Three'))\n",
            "('One', 'Two', 'Three')\n",
            "('Three',)\n",
            "('One', 'Two')\n"
          ]
        }
      ]
    },
    {
      "cell_type": "markdown",
      "metadata": {
        "id": "V7H6n4Ps7u5M"
      },
      "source": [
        "### 튜플 연산자/함수(Tuple Operators/Function)\n",
        "\n",
        "* 더하기 + 연산\n",
        "* 곱하기 * 연산\n",
        "* 튜플 길이를 구하는 `len()` 함수\n",
        "\n"
      ]
    },
    {
      "cell_type": "code",
      "metadata": {
        "id": "QJstv3_T9LiY",
        "colab": {
          "base_uri": "https://localhost:8080/"
        },
        "outputId": "e799674b-9278-4541-bd6e-178597a445d2"
      },
      "source": [
        "tuple_1 = ('One', 'Two', 'Three')\n",
        "tuple_2 = ('Four', 'Five', 'Six')\n",
        "print(tuple_1)\n",
        "print(tuple_2)\n",
        "print(tuple_1 + tuple_2)\n",
        "print(tuple_1 * 3)\n",
        "print(len(tuple_1))\n",
        "print(len(tuple_1 + tuple_2))"
      ],
      "execution_count": 136,
      "outputs": [
        {
          "output_type": "stream",
          "name": "stdout",
          "text": [
            "('One', 'Two', 'Three')\n",
            "('Four', 'Five', 'Six')\n",
            "('One', 'Two', 'Three', 'Four', 'Five', 'Six')\n",
            "('One', 'Two', 'Three', 'One', 'Two', 'Three', 'One', 'Two', 'Three')\n",
            "3\n",
            "6\n"
          ]
        }
      ]
    },
    {
      "cell_type": "markdown",
      "metadata": {
        "id": "-drrAXi3xY3y"
      },
      "source": [
        "\n",
        "\n",
        "---\n",
        "\n"
      ]
    },
    {
      "cell_type": "markdown",
      "metadata": {
        "id": "zXbENjlMCrkU"
      },
      "source": [
        "## 세트(Set)\n",
        "\n",
        "* 데이터 \"**중복**\"을 허용하지 않는 구조\n",
        "* \"**순서**\"가 없는 데이터 집합을 위한 구조\n",
        "* 인덱싱으로 값을 접근할 수 \"**없음**\"\n",
        "\n"
      ]
    },
    {
      "cell_type": "code",
      "metadata": {
        "id": "Rqyuh9dNC_FZ",
        "colab": {
          "base_uri": "https://localhost:8080/"
        },
        "outputId": "9fd214e5-ed78-471c-b429-c772de74c65a"
      },
      "source": [
        "print({})\n",
        "print({\"One\", \"Two\", \"Three\"})\n",
        "print({10, 40, 20, 30})\n",
        "\n",
        "s = {60}\n",
        "# s = set() \n",
        "\n",
        "s.add(10)\n",
        "s.add(20)\n",
        "s.add(30)\n",
        "s.add(40)\n",
        "print(s)\n",
        "#print(s[0]) #Error/Index접근이 않됨"
      ],
      "execution_count": 165,
      "outputs": [
        {
          "output_type": "stream",
          "name": "stdout",
          "text": [
            "{}\n",
            "{'Two', 'Three', 'One'}\n",
            "{40, 10, 20, 30}\n",
            "{40, 10, 20, 60, 30}\n"
          ]
        }
      ]
    },
    {
      "cell_type": "markdown",
      "metadata": {
        "id": "QerabWfwCvtt"
      },
      "source": [
        "### 세트 연산자(Set Operators)\n",
        "\n",
        "* 교집합: &\n",
        "* 합집합: |\n",
        "* 차집합: -\n",
        "* 여집합: ^"
      ]
    },
    {
      "cell_type": "code",
      "metadata": {
        "id": "22ALZ21LE60j",
        "colab": {
          "base_uri": "https://localhost:8080/"
        },
        "outputId": "008bd6e5-3212-4c3a-eb53-10297c098d5f"
      },
      "source": [
        "set1 = {10, 20, 20, 30}\n",
        "set2 = {30, 30, 40, 50}\n",
        "print(set1)\n",
        "print(set2)\n",
        "print(set1 & set2)\n",
        "print(set1 | set2)\n",
        "print(set1 - set2)\n",
        "print(set1 ^ set2)"
      ],
      "execution_count": 141,
      "outputs": [
        {
          "output_type": "stream",
          "name": "stdout",
          "text": [
            "{10, 20, 30}\n",
            "{40, 50, 30}\n",
            "{30}\n",
            "{50, 20, 40, 10, 30}\n",
            "{10, 20}\n",
            "{40, 10, 50, 20}\n"
          ]
        }
      ]
    },
    {
      "cell_type": "markdown",
      "metadata": {
        "id": "of4Jq8l-McX7"
      },
      "source": [
        "### 세트 메소드(Set Methods)\n",
        "\n",
        "* 교집합: intersection()\n",
        "* 합집합: union()\n",
        "* 차집합: difference()\n",
        "* 여집합: symmetric_difference()"
      ]
    },
    {
      "cell_type": "code",
      "metadata": {
        "id": "w4JB__zpL_BW",
        "colab": {
          "base_uri": "https://localhost:8080/"
        },
        "outputId": "120db0c1-ac16-4c3d-9173-1b7ea9b99210"
      },
      "source": [
        "set1 = {10, 20, 20, 30}\n",
        "set2 = {30, 30, 40, 50}\n",
        "print(set1)\n",
        "print(set2)\n",
        "print(set1.intersection(set2))\n",
        "print(set1.union(set2))\n",
        "print(set1.difference(set2))\n",
        "print(set1.symmetric_difference(set2))"
      ],
      "execution_count": 142,
      "outputs": [
        {
          "output_type": "stream",
          "name": "stdout",
          "text": [
            "{10, 20, 30}\n",
            "{40, 50, 30}\n",
            "{30}\n",
            "{50, 20, 40, 10, 30}\n",
            "{10, 20}\n",
            "{40, 10, 50, 20}\n"
          ]
        }
      ]
    },
    {
      "cell_type": "markdown",
      "metadata": {
        "id": "lcdJvb_vFiKf"
      },
      "source": [
        "* 요소 추가: add()\n",
        "* 여러 요소 추가: update()\n",
        "* 요소 제거: remove()\n",
        "* 요소 제거: discard()\n",
        "* 모든 요소 제거: clear()"
      ]
    },
    {
      "cell_type": "code",
      "metadata": {
        "id": "xlo8NoTeF0dV",
        "colab": {
          "base_uri": "https://localhost:8080/"
        },
        "outputId": "c37a1237-c4de-4760-b73c-83cb3c211384"
      },
      "source": [
        "set = {10, 20, 30, 40}\n",
        "print(set)\n",
        "\n",
        "set.add(50)\n",
        "print(set)\n",
        "\n",
        "#set.update(10, 60, 70)\n",
        "set.update([10, 60, 70])\n",
        "print(set)\n",
        "\n",
        "set.remove(70)\n",
        "set.remove(60)\n",
        "print(set)\n",
        "\n",
        "#set.remove([10, 20])\n",
        "#print(set)\n",
        "\n",
        "set.discard(30)  #remove와 discard는 뭔 차이지?\n",
        "'''\n",
        "https://dev.plusblog.co.kr/41\n",
        "remove() 메소드는 지우려는 엘리먼트가 존잰하지 않으면 KeyError가 발생하지만\n",
        "discard() 메소드는 엘리먼트가 없어도 정상종료한다. remove()는 실제 존재하는 \n",
        "대상을 지우는 동작에, discard()는 존재하지 않음을 보장하려고 할때 사용하면 될 것 같다.\n",
        "'''\n",
        "print(set)\n",
        "\n",
        "set.clear()\n",
        "print(set)\n"
      ],
      "execution_count": 156,
      "outputs": [
        {
          "output_type": "stream",
          "name": "stdout",
          "text": [
            "{40, 10, 20, 30}\n",
            "{40, 10, 50, 20, 30}\n",
            "{70, 40, 10, 50, 20, 60, 30}\n",
            "{40, 10, 50, 20, 30}\n",
            "{40, 10, 50, 20}\n",
            "set()\n"
          ]
        }
      ]
    },
    {
      "cell_type": "markdown",
      "metadata": {
        "id": "0BWIlqrPCr__"
      },
      "source": [
        "\n",
        "\n",
        "---\n",
        "\n"
      ]
    },
    {
      "cell_type": "markdown",
      "metadata": {
        "id": "ZfKg8LniN113"
      },
      "source": [
        "## 딕셔너리(Dictionary)\n",
        "\n",
        "* 키(key)와 값(value)의 쌍으로 구성된 데이터\n",
        "* 순서가 없는 데이터\n",
        "* 키를 통해 값을 얻음\n",
        "* 동일한 키가 있을경우 덮어씀"
      ]
    },
    {
      "cell_type": "code",
      "metadata": {
        "id": "Ij33VNSGN7_D",
        "colab": {
          "base_uri": "https://localhost:8080/"
        },
        "outputId": "f77dcd68-e494-4352-a9cf-d9b35473907e"
      },
      "source": [
        "dic = {1: \"One\", 2:\"Two\", 3: \"Three\"}\n",
        "print(dic)\n",
        "dic = {1: \"One\", 2:\"Two\", 3: \"Three\", 1: \"One\", 2:\"Two\", 3: \"Three\"}\n",
        "print(dic)"
      ],
      "execution_count": 168,
      "outputs": [
        {
          "output_type": "stream",
          "name": "stdout",
          "text": [
            "{1: 'One', 2: 'Two', 3: 'Three'}\n",
            "{1: 'One', 2: 'Two', 3: 'Three'}\n"
          ]
        }
      ]
    },
    {
      "cell_type": "markdown",
      "metadata": {
        "id": "Vq8tORypPmPX"
      },
      "source": [
        "### 딕셔너리 요소 추가/삭제\n",
        "\n",
        "* 딕셔너리의 해당 키 값에 값을 추가하여 요소 추가\n",
        "* del을 이용하여 요소 제거"
      ]
    },
    {
      "cell_type": "code",
      "metadata": {
        "id": "zjBqbHUhPjUX",
        "colab": {
          "base_uri": "https://localhost:8080/"
        },
        "outputId": "0a08ad75-00d3-451d-d088-aac96970d7dd"
      },
      "source": [
        "dic = {1: \"One\", 2:\"Two\", 3: \"Three\"}\n",
        "print(dic[2]) #2는 인텍스 값이 아니로 키값임, 2가 인덱스라면 \"three\"가 출력되어야 함\n",
        "dic[4] = 'Four'\n",
        "print(dic[4])\n",
        "print(dic)\n",
        "del dic[4]\n",
        "print(dic)\n",
        "\n",
        "\n",
        "dic = {\"One\":1, \"Two\":2, \"Three\":3}\n",
        "print(dic[\"Two\"])"
      ],
      "execution_count": 175,
      "outputs": [
        {
          "output_type": "stream",
          "name": "stdout",
          "text": [
            "Two\n",
            "Four\n",
            "{1: 'One', 2: 'Two', 3: 'Three', 4: 'Four'}\n",
            "{1: 'One', 2: 'Two', 3: 'Three'}\n",
            "2\n"
          ]
        }
      ]
    },
    {
      "cell_type": "markdown",
      "metadata": {
        "id": "SlUKOt2tSatr"
      },
      "source": [
        "### 딕셔너리 메소드(Dictionary Methods)\n",
        "\n",
        "\n",
        "* keys(): 딕셔너리의 키 가져오기\n",
        "* values(): 딕셔너리의 값 가져오기\n",
        "* items(): 딕셔너리의 키와 값을 모두 가져오기\n",
        "* get(): 딕셔너리에서 키에 해당하는 값 가져오기\n",
        "* pop(): 딕셔너리에서 키에 해당하는 값 추출하기\n",
        "* clear(): 딕셔너리의 모든 요소를 제거하기\n"
      ]
    },
    {
      "cell_type": "code",
      "metadata": {
        "id": "JjF0-2zFP4vN",
        "colab": {
          "base_uri": "https://localhost:8080/"
        },
        "outputId": "220765ac-34ea-4945-d1d1-2d3dbc2e4e87"
      },
      "source": [
        "dic = {1: \"One\", 2:\"Two\", 3: \"Three\"}\n",
        "print(dic)\n",
        "print(dic.keys())\n",
        "print(dic.values())\n",
        "print(dic.items())\n",
        "\n",
        "print(dic.get(1))\n",
        "print(dic)\n",
        "print(dic.pop(2))\n",
        "print(dic)\n",
        "dic.clear()\n",
        "print(dic) #이렇게 출력되면 {}게 집합인지, dic인지 어떻게 알까?"
      ],
      "execution_count": 185,
      "outputs": [
        {
          "output_type": "stream",
          "name": "stdout",
          "text": [
            "{1: 'One', 2: 'Two', 3: 'Three'}\n",
            "dict_keys([1, 2, 3])\n",
            "dict_values(['One', 'Two', 'Three'])\n",
            "dict_items([(1, 'One'), (2, 'Two'), (3, 'Three')])\n",
            "One\n",
            "{1: 'One', 2: 'Two', 3: 'Three'}\n",
            "Two\n",
            "{1: 'One', 3: 'Three'}\n",
            "{}\n"
          ]
        }
      ]
    },
    {
      "cell_type": "code",
      "metadata": {
        "id": "Wy6LwQgtfKo8"
      },
      "source": [
        "###end of codes"
      ],
      "execution_count": 186,
      "outputs": []
    }
  ]
}