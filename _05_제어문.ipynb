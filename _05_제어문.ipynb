{
  "nbformat": 4,
  "nbformat_minor": 0,
  "metadata": {
    "colab": {
      "name": "_05 제어문.ipynb",
      "provenance": [],
      "collapsed_sections": [],
      "toc_visible": true,
      "include_colab_link": true
    },
    "kernelspec": {
      "name": "python3",
      "display_name": "Python 3"
    }
  },
  "cells": [
    {
      "cell_type": "markdown",
      "metadata": {
        "id": "view-in-github",
        "colab_type": "text"
      },
      "source": [
        "<a href=\"https://colab.research.google.com/github/mkbahk/PythonLearning/blob/main/_05_%EC%A0%9C%EC%96%B4%EB%AC%B8.ipynb\" target=\"_parent\"><img src=\"https://colab.research.google.com/assets/colab-badge.svg\" alt=\"Open In Colab\"/></a>"
      ]
    },
    {
      "cell_type": "markdown",
      "metadata": {
        "id": "bg5ZXMV2sn1M"
      },
      "source": [
        "# 제어문(Control Statement)"
      ]
    },
    {
      "cell_type": "markdown",
      "metadata": {
        "id": "Lj_iZPKnCRP0"
      },
      "source": [
        "\n",
        "\n",
        "---\n",
        "\n"
      ]
    },
    {
      "cell_type": "markdown",
      "metadata": {
        "id": "zXbENjlMCrkU"
      },
      "source": [
        "## 조건문(Conditional Statement)\n"
      ]
    },
    {
      "cell_type": "markdown",
      "metadata": {
        "id": "QerabWfwCvtt"
      },
      "source": [
        "### if 문\n"
      ]
    },
    {
      "cell_type": "markdown",
      "metadata": {
        "id": "UkYuDgdYjW1p"
      },
      "source": [
        "* if 문을 이용한 미세먼지 측정\n",
        "  + 미세먼지 농도 pm\n",
        "  + 35 초과는 미세먼지 농도 나쁨"
      ]
    },
    {
      "cell_type": "code",
      "metadata": {
        "id": "22ALZ21LE60j",
        "colab": {
          "base_uri": "https://localhost:8080/"
        },
        "outputId": "9a5114b9-c7ca-4af9-da09-fa3f81fe3e62"
      },
      "source": [
        "pm = 40\n",
        "\n",
        "if pm > 35:\n",
        "  print(\"미세먼지 농도: 나쁨\")\n",
        "###end of if:"
      ],
      "execution_count": null,
      "outputs": [
        {
          "output_type": "stream",
          "name": "stdout",
          "text": [
            "미세먼지 농도: 나쁨\n"
          ]
        }
      ]
    },
    {
      "cell_type": "markdown",
      "metadata": {
        "id": "of4Jq8l-McX7"
      },
      "source": [
        "### if-else 문\n"
      ]
    },
    {
      "cell_type": "markdown",
      "metadata": {
        "id": "KBi_DsHtkj5R"
      },
      "source": [
        "* if-else 문을 이용한 미세먼지 측정\n",
        "  + 미세먼지 농도 pm\n",
        "  + 36 이상은 미세먼지 농도 나쁨\n",
        "  + 35 이하는 미세먼지 농도 좋음"
      ]
    },
    {
      "cell_type": "code",
      "metadata": {
        "id": "w4JB__zpL_BW",
        "colab": {
          "base_uri": "https://localhost:8080/"
        },
        "outputId": "a5bdcddf-0136-4737-c5c7-92e6bab286cc"
      },
      "source": [
        "pm = 40\n",
        "if pm >= 36:\n",
        "  print(\"미세먼지 농도: 나쁨\")\n",
        "else:\n",
        "  print(\"미세먼지 농도: 좋음\")\n",
        "###end of if:"
      ],
      "execution_count": null,
      "outputs": [
        {
          "output_type": "stream",
          "name": "stdout",
          "text": [
            "미세먼지 농도: 나쁨\n"
          ]
        }
      ]
    },
    {
      "cell_type": "markdown",
      "metadata": {
        "id": "lcdJvb_vFiKf"
      },
      "source": [
        "### if-elif-else 문\n"
      ]
    },
    {
      "cell_type": "markdown",
      "metadata": {
        "id": "DV4n1qxhnFIV"
      },
      "source": [
        "* if-elif-else 문을 이용한 미세먼지 측정\n",
        "  + 미세먼지 농도 pm\n",
        "  + 미세먼지 농도 0~15: 좋음\n",
        "  + 미세먼지 농도 16~35: 보통\n",
        "  + 미세먼지 농도 36~75: 나쁨\n",
        "  + 미세먼지 농도 76~: 매우나쁨"
      ]
    },
    {
      "cell_type": "code",
      "metadata": {
        "id": "xlo8NoTeF0dV",
        "colab": {
          "base_uri": "https://localhost:8080/"
        },
        "outputId": "fdd6b984-d0c6-4cf7-903b-cf29039f3ad6"
      },
      "source": [
        "pm = 40\n",
        "\n",
        "if pm >= 76:\n",
        "  print(\"미세먼지 농도: 매우나쁨\")\n",
        "elif pm >= 36:\n",
        "   print(\"미세먼지 농도: 나쁨\") \n",
        "elif pm >=16:\n",
        "  print(\"미세먼지 농도: 보통\")  \n",
        "else:\n",
        "  print(\"미세먼지 농도: 좋음\")\n",
        "###end of if:"
      ],
      "execution_count": null,
      "outputs": [
        {
          "output_type": "stream",
          "name": "stdout",
          "text": [
            "미세먼지 농도: 나쁨\n"
          ]
        }
      ]
    },
    {
      "cell_type": "markdown",
      "metadata": {
        "id": "PdkLJlqioT_b"
      },
      "source": [
        "### 중첩 if 문\n",
        "\n",
        "\n"
      ]
    },
    {
      "cell_type": "markdown",
      "metadata": {
        "id": "8JdYeATzowCy"
      },
      "source": [
        "* 중첩 if 문을 이용한 미세먼지 측정\n",
        "  + 미세먼지 농도 pm\n",
        "  + 미세먼지 농도 0~15: 좋음\n",
        "  + 미세먼지 농도 16~35: 보통\n",
        "  + 미세먼지 농도 36~75: 나쁨\n",
        "  + 미세먼지 농도 76~: 매우나쁨"
      ]
    },
    {
      "cell_type": "code",
      "metadata": {
        "id": "ZuYX5TCro3B9",
        "outputId": "29ac5ba2-9f5e-42d9-a787-1089ec9bd20f",
        "colab": {
          "base_uri": "https://localhost:8080/"
        }
      },
      "source": [
        "pm = 80\n",
        "\n",
        "if pm < 36:\n",
        "  if pm < 16:\n",
        "    print(\"미세먼지 농도: 좋음\")\n",
        "  else:\n",
        "    print(\"미세먼지 농도: 보통\")\n",
        "  ###end of if:\n",
        "else:\n",
        "  if pm < 76:\n",
        "    print(\"미세먼지 농도: 나쁨\")\n",
        "  else:\n",
        "    print(\"미세먼지 농도: 매우나쁨\")\n",
        "  ###end of if:\n",
        "###end of if:"
      ],
      "execution_count": 1,
      "outputs": [
        {
          "output_type": "stream",
          "name": "stdout",
          "text": [
            "미세먼지 농도: 매우나쁨\n"
          ]
        }
      ]
    },
    {
      "cell_type": "markdown",
      "metadata": {
        "id": "sB6Li0FmU9eM"
      },
      "source": [
        "### if-pass 문\n",
        "\n",
        "* 조건문은 있지만 실행할 문장이 없는 경우, 오류가 발생하지 않도록 무시하고 넘어가는 기능"
      ]
    },
    {
      "cell_type": "code",
      "metadata": {
        "id": "iIOjo8LEVPqy",
        "outputId": "8dcd67fa-8768-4bef-e6ac-38a009192650",
        "colab": {
          "base_uri": "https://localhost:8080/"
        }
      },
      "source": [
        "if 10 > 5:\n",
        "  print(10)\n",
        "else:\n",
        "  pass\n",
        "###end of if:\n"
      ],
      "execution_count": 2,
      "outputs": [
        {
          "output_type": "stream",
          "name": "stdout",
          "text": [
            "10\n"
          ]
        }
      ]
    },
    {
      "cell_type": "markdown",
      "metadata": {
        "id": "ERFC5XXnqTab"
      },
      "source": [
        "### if 조건 연산자\n",
        "\n",
        "* 비교연산자: <, >, ==, !=, >=, <=\n"
      ]
    },
    {
      "cell_type": "code",
      "metadata": {
        "id": "oON1NgdYvSVj",
        "outputId": "b7637616-2d00-4091-dcb4-f1682d0f7660",
        "colab": {
          "base_uri": "https://localhost:8080/"
        }
      },
      "source": [
        "if 2 > 1:\n",
        "  print(2)\n",
        "###end of if:\n",
        "\n",
        "if 3 == 3:\n",
        "  print(3)\n",
        "###end of if:\n",
        "\n",
        "if 1 != 2:\n",
        "  print(1)\n",
        "###end of if:\n",
        "\n",
        "\n",
        "\n"
      ],
      "execution_count": 4,
      "outputs": [
        {
          "output_type": "stream",
          "name": "stdout",
          "text": [
            "2\n",
            "3\n",
            "1\n"
          ]
        }
      ]
    },
    {
      "cell_type": "markdown",
      "metadata": {
        "id": "tsZNODf8vMdM"
      },
      "source": [
        "* 논리연산자: and, or, not"
      ]
    },
    {
      "cell_type": "code",
      "metadata": {
        "id": "xbhbbC_urU5t",
        "outputId": "8ed206cb-60c0-4f42-a524-eccbe84501eb",
        "colab": {
          "base_uri": "https://localhost:8080/"
        }
      },
      "source": [
        "rain = True\n",
        "snow = True\n",
        "sun = False\n",
        "\n",
        "if rain and snow:\n",
        "  print(\"진눈깨비\")\n",
        "###end of if:\n",
        "\n",
        "if not sun:\n",
        "  print(\"흐림\")\n",
        "else:\n",
        "  print(\"맑음\")\n",
        "###end of if:\n"
      ],
      "execution_count": 7,
      "outputs": [
        {
          "output_type": "stream",
          "name": "stdout",
          "text": [
            "진눈깨비\n",
            "흐림\n"
          ]
        }
      ]
    },
    {
      "cell_type": "markdown",
      "metadata": {
        "id": "neifpa1BvNya"
      },
      "source": [
        "* 멤버연산자: in, not in\n"
      ]
    },
    {
      "cell_type": "code",
      "metadata": {
        "id": "WWu4uaX5rcTb",
        "outputId": "08dbd166-d69a-46cd-b83e-6a26d406ea75",
        "colab": {
          "base_uri": "https://localhost:8080/"
        }
      },
      "source": [
        "list = [\"One\", 'Two', \"Three\"]\n",
        "\n",
        "if 'One' in list:\n",
        "  print(\"One이 들어있음\")\n",
        "###end of if:\n",
        "\n",
        "\n",
        "if 'Four' not in list:\n",
        "  print(\"Four는 않들어있음\")\n",
        "###end of if:"
      ],
      "execution_count": 8,
      "outputs": [
        {
          "output_type": "stream",
          "name": "stdout",
          "text": [
            "One이 들어있음\n",
            "Four는 않들어있음\n"
          ]
        }
      ]
    },
    {
      "cell_type": "markdown",
      "metadata": {
        "id": "0V1ky9ZMucnL"
      },
      "source": [
        "* 식별연산자: is, is not"
      ]
    },
    {
      "cell_type": "code",
      "metadata": {
        "id": "puETQb28t3ua",
        "outputId": "b16ec078-df20-4b83-855e-754c823566ce",
        "colab": {
          "base_uri": "https://localhost:8080/"
        }
      },
      "source": [
        "if 'One' is 'One':\n",
        "  print(\"어 맞아 One\")\n",
        "###end of if:\n",
        "\n",
        "if 'One' is not 'Two':\n",
        "  print(\"One is not Two\")\n",
        "###end of if:\n",
        "\n"
      ],
      "execution_count": 9,
      "outputs": [
        {
          "output_type": "stream",
          "name": "stdout",
          "text": [
            "어 맞아 One\n",
            "One is not Two\n"
          ]
        }
      ]
    },
    {
      "cell_type": "markdown",
      "metadata": {
        "id": "9iV-FsBWzZ0k"
      },
      "source": [
        "### 조건부 표현식(Conditional Expression)\n",
        "\n",
        "* 한 라인으로 조건식을 사용한 표현"
      ]
    },
    {
      "cell_type": "code",
      "metadata": {
        "id": "_oS5aQybzfxw",
        "outputId": "bf6fea18-1c96-4996-f1e8-600b2b947d95",
        "colab": {
          "base_uri": "https://localhost:8080/",
          "height": 130
        }
      },
      "source": [
        "score = 75\n",
        "msg = \"통과\" if score >=70 else \"탈락\"\n",
        "print(msg)\n"
      ],
      "execution_count": 13,
      "outputs": [
        {
          "output_type": "error",
          "ename": "SyntaxError",
          "evalue": "ignored",
          "traceback": [
            "\u001b[0;36m  File \u001b[0;32m\"<ipython-input-13-de404390fe07>\"\u001b[0;36m, line \u001b[0;32m5\u001b[0m\n\u001b[0;31m    msg = \"통과\" if score >=70 elif score >= 60 \"미달\" else \"탈락\"\u001b[0m\n\u001b[0m                                ^\u001b[0m\n\u001b[0;31mSyntaxError\u001b[0m\u001b[0;31m:\u001b[0m invalid syntax\n"
          ]
        }
      ]
    },
    {
      "cell_type": "markdown",
      "metadata": {
        "id": "iaXO0nIe4IsM"
      },
      "source": [
        "### [Lab] 학생 종류\n",
        "\n",
        "* 8세 미만 \"학생 아님\"\n",
        "* 14세 미만 \"초등학생\"\n",
        "* 17세 미만 \"중학생\"\n",
        "* 20세 미만 \"고등학생\"\n",
        "* 26세 미만 \"대학생\"\n",
        "* 그 외에 \"학생 아님\""
      ]
    },
    {
      "cell_type": "code",
      "metadata": {
        "id": "tiSoSbvB4yZa",
        "outputId": "3e2c00e7-66be-43c9-86f7-ac6f8795c0c6",
        "colab": {
          "base_uri": "https://localhost:8080/"
        }
      },
      "source": [
        "age = 22\n",
        "\n",
        "if age < 8:\n",
        "  print(\"유치원\")\n",
        "elif age < 14:\n",
        "  print(\"초등학생\")\n",
        "elif age < 17:\n",
        "  print(\"중학생\")\n",
        "elif age < 20:\n",
        "  print(\"고등학생\")\n",
        "elif age < 26:\n",
        "  print(\"대학생\")\n",
        "else:\n",
        "  print(\"일반인\")\n",
        "###end of if:"
      ],
      "execution_count": 12,
      "outputs": [
        {
          "output_type": "stream",
          "name": "stdout",
          "text": [
            "대학생\n"
          ]
        }
      ]
    },
    {
      "cell_type": "markdown",
      "metadata": {
        "id": "Xaqknnv_5weC"
      },
      "source": [
        "### [Lab] 학점 계산\n",
        "\n",
        "* 95점 이상 \"A+\"\n",
        "* 90점 이상 \"A\"\n",
        "* 85점 이상 \"B+\"\n",
        "* 80점 이상 \"B\"\n",
        "* 75점 이상 \"C+\"\n",
        "* 70점 이상 \"C\"\n",
        "* 65점 이상 \"D+\"\n",
        "* 60점 이상 \"D\"\n",
        "* 그 외 \"F\""
      ]
    },
    {
      "cell_type": "code",
      "metadata": {
        "id": "4fn4sB6a6BUL",
        "outputId": "06d846b3-b8e7-4937-e7b0-2b25f4290156",
        "colab": {
          "base_uri": "https://localhost:8080/"
        }
      },
      "source": [
        "score == 75\n",
        "\n",
        "if score >= 95:\n",
        "  print(\"A+\")\n",
        "elif score >= 90:\n",
        "  print(\"A\")\n",
        "elif score >=85:\n",
        "  print(\"B+\")\n",
        "elif score >= 80:\n",
        "  print(\"B\")\n",
        "elif score >= 75:\n",
        "  print(\"C+\")\n",
        "elif score >= 70:\n",
        "  print(\"C\")\n",
        "elif score >=65:\n",
        "  print(\"D\")\n",
        "else:\n",
        "  print(\"F\")\n",
        "###end of if:\n",
        "\n",
        "\n"
      ],
      "execution_count": 14,
      "outputs": [
        {
          "output_type": "stream",
          "name": "stdout",
          "text": [
            "C+\n"
          ]
        }
      ]
    },
    {
      "cell_type": "markdown",
      "metadata": {
        "id": "0BWIlqrPCr__"
      },
      "source": [
        "\n",
        "\n",
        "---\n",
        "\n"
      ]
    },
    {
      "cell_type": "markdown",
      "metadata": {
        "id": "ZfKg8LniN113"
      },
      "source": [
        "## 반복문(Repetitive Statement)\n"
      ]
    },
    {
      "cell_type": "markdown",
      "metadata": {
        "id": "tsxOiKAD7Lfw"
      },
      "source": [
        "### while 문\n"
      ]
    },
    {
      "cell_type": "markdown",
      "metadata": {
        "id": "q9SCeICMB32o"
      },
      "source": [
        "* while 문 예제: 1부터 10까지 반복"
      ]
    },
    {
      "cell_type": "code",
      "metadata": {
        "id": "zjBqbHUhPjUX",
        "outputId": "802c7007-fccb-4b07-ceb9-2bbd1a8aee47",
        "colab": {
          "base_uri": "https://localhost:8080/"
        }
      },
      "source": [
        "i = 1\n",
        "\n",
        "while i <= 10:\n",
        "  print(i)\n",
        "  i += 1\n",
        "###end of while:\n"
      ],
      "execution_count": 15,
      "outputs": [
        {
          "output_type": "stream",
          "name": "stdout",
          "text": [
            "1\n",
            "2\n",
            "3\n",
            "4\n",
            "5\n",
            "6\n",
            "7\n",
            "8\n",
            "9\n",
            "10\n"
          ]
        }
      ]
    },
    {
      "cell_type": "markdown",
      "metadata": {
        "id": "GWKxC-EyB-ou"
      },
      "source": [
        "* while 문 예제: 1부터 10까지 더하기"
      ]
    },
    {
      "cell_type": "code",
      "metadata": {
        "id": "KamhbhLtBjyu",
        "outputId": "52627ac9-baf6-4146-f10f-83a854dc35f4",
        "colab": {
          "base_uri": "https://localhost:8080/"
        }
      },
      "source": [
        "i = 1\n",
        "sum = 0 #미리 sum을 초기화하지 않으면 에러발생\n",
        "\n",
        "while i <= 10:\n",
        "  sum += i\n",
        "  i += 1\n",
        "###end of while:\n",
        "\n",
        "print(sum)"
      ],
      "execution_count": 20,
      "outputs": [
        {
          "output_type": "stream",
          "name": "stdout",
          "text": [
            "55\n"
          ]
        }
      ]
    },
    {
      "cell_type": "markdown",
      "metadata": {
        "id": "fE4el4w8CVnn"
      },
      "source": [
        "### for 문\n"
      ]
    },
    {
      "cell_type": "markdown",
      "metadata": {
        "id": "ug09KE7g44ko"
      },
      "source": [
        "\n",
        "\n",
        "*   숫자 더하기\n",
        "\n",
        "\n"
      ]
    },
    {
      "cell_type": "code",
      "metadata": {
        "id": "1EPOzb8s6Efh",
        "outputId": "c793dcb6-21ba-45af-fdbc-7de75267d90a",
        "colab": {
          "base_uri": "https://localhost:8080/"
        }
      },
      "source": [
        "sum = 0\n",
        "for i in [1, 2, 3, 4, 5, 6, 7, 8, 9, 10]:\n",
        "  print(i)\n",
        "  sum += i\n",
        "###end of for:\n",
        "\n",
        "print(\"\\n\" +  str(sum))"
      ],
      "execution_count": 29,
      "outputs": [
        {
          "output_type": "stream",
          "name": "stdout",
          "text": [
            "1\n",
            "2\n",
            "3\n",
            "4\n",
            "5\n",
            "6\n",
            "7\n",
            "8\n",
            "9\n",
            "10\n",
            "\n",
            "55\n"
          ]
        }
      ]
    },
    {
      "cell_type": "code",
      "metadata": {
        "id": "PiWSd0ai5GAU",
        "outputId": "c4281a24-810b-4072-91f1-42b5e0decee7",
        "colab": {
          "base_uri": "https://localhost:8080/"
        }
      },
      "source": [
        "sum = 0\n",
        "for i in range(11):\n",
        "  print(i)\n",
        "  sum += i\n",
        "###end of for:\n",
        "\n",
        "print(\"\\n\" +  str(sum))"
      ],
      "execution_count": 27,
      "outputs": [
        {
          "output_type": "stream",
          "name": "stdout",
          "text": [
            "0\n",
            "1\n",
            "2\n",
            "3\n",
            "4\n",
            "5\n",
            "6\n",
            "7\n",
            "8\n",
            "9\n",
            "10\n",
            "\n",
            "55\n"
          ]
        }
      ]
    },
    {
      "cell_type": "markdown",
      "metadata": {
        "id": "Szg_RE0dDVUI"
      },
      "source": [
        "* 리스트 요소 반복"
      ]
    },
    {
      "cell_type": "code",
      "metadata": {
        "id": "q-6XmZ7pCKfu",
        "outputId": "91b75367-81bd-4dd5-f0eb-cd89eb5cddc8",
        "colab": {
          "base_uri": "https://localhost:8080/"
        }
      },
      "source": [
        "list = ['One', 'Two', 'Three']\n",
        "for i in list:\n",
        "  print(i)\n",
        "###end of for:\n",
        "\n"
      ],
      "execution_count": 28,
      "outputs": [
        {
          "output_type": "stream",
          "name": "stdout",
          "text": [
            "One\n",
            "Two\n",
            "Three\n"
          ]
        }
      ]
    },
    {
      "cell_type": "markdown",
      "metadata": {
        "id": "Jxy-YCKaJy6U"
      },
      "source": [
        "* 튜플 요소 반복"
      ]
    },
    {
      "cell_type": "code",
      "metadata": {
        "id": "bPTK1Da9DifT",
        "outputId": "0593dcba-1be1-4c40-ec26-de6467375f7d",
        "colab": {
          "base_uri": "https://localhost:8080/"
        }
      },
      "source": [
        "tuple = ('One', 'Two', 'Three')\n",
        "for i in tuple:\n",
        "  print(i)\n",
        "###end of for:\n"
      ],
      "execution_count": 30,
      "outputs": [
        {
          "output_type": "stream",
          "name": "stdout",
          "text": [
            "One\n",
            "Two\n",
            "Three\n"
          ]
        }
      ]
    },
    {
      "cell_type": "markdown",
      "metadata": {
        "id": "-a5BBmWHJ08e"
      },
      "source": [
        "* 문자열 요소 반복"
      ]
    },
    {
      "cell_type": "code",
      "metadata": {
        "id": "sg2jzObGDk5u",
        "outputId": "7d97b4c4-58bc-4d54-a49a-387126f5aa96",
        "colab": {
          "base_uri": "https://localhost:8080/"
        }
      },
      "source": [
        "string = '박문기'\n",
        "for i in string:\n",
        "  print(i)\n",
        "###end of for:\n"
      ],
      "execution_count": 31,
      "outputs": [
        {
          "output_type": "stream",
          "name": "stdout",
          "text": [
            "박\n",
            "문\n",
            "기\n"
          ]
        }
      ]
    },
    {
      "cell_type": "markdown",
      "metadata": {
        "id": "6bel7wU6EFp4"
      },
      "source": [
        "#### range()\n",
        "\n",
        "* 범위 반복에 사용\n",
        "# range() 문법\n",
        "\n",
        "```\n",
        "# for 변수 in range(시작값, 마지막값, 증가값):\n",
        "  <문장>\n",
        "```\n",
        "\n",
        "* 시작값과 증가값은 생략 가능\n",
        "* 생략할 때 시작값은 0, 증가값은 1\n",
        "* [주의] 마지막값은 포함않됨\n",
        "\n",
        "\n",
        "\n"
      ]
    },
    {
      "cell_type": "code",
      "metadata": {
        "id": "sIV6ouO3D1Pj",
        "outputId": "9418fa7b-61e2-4776-af85-6f7ffb8de70e",
        "colab": {
          "base_uri": "https://localhost:8080/"
        }
      },
      "source": [
        "sum = 0\n",
        "for i in range(11):\n",
        "  sum += i\n",
        "###end of for:\n",
        "\n",
        "print(sum)"
      ],
      "execution_count": 37,
      "outputs": [
        {
          "output_type": "stream",
          "name": "stdout",
          "text": [
            "55\n"
          ]
        }
      ]
    },
    {
      "cell_type": "code",
      "metadata": {
        "id": "VtCQOfDpGG59",
        "outputId": "a5704340-b638-4460-b8d0-033a47d15961",
        "colab": {
          "base_uri": "https://localhost:8080/"
        }
      },
      "source": [
        "sum = 0\n",
        "for i in range(1, 11, 2):\n",
        "  sum += i\n",
        "###end of for:\n",
        "\n",
        "print(sum)"
      ],
      "execution_count": 40,
      "outputs": [
        {
          "output_type": "stream",
          "name": "stdout",
          "text": [
            "25\n"
          ]
        }
      ]
    },
    {
      "cell_type": "markdown",
      "metadata": {
        "id": "1otcwtcWGU-Z"
      },
      "source": [
        "* 범위 반복 range를 이용한 구구단"
      ]
    },
    {
      "cell_type": "code",
      "metadata": {
        "id": "0AgNJV5LGJLf",
        "outputId": "06531bb0-b85f-41a4-be09-89a48e4b8d31",
        "colab": {
          "base_uri": "https://localhost:8080/"
        }
      },
      "source": [
        "for i in range(2, 10):\n",
        "  for j in range(1, 10):\n",
        "    print('{0} x {1} = {2}'.format(i, j, i*j))\n",
        "  ###end of for:\n",
        "  print('\\n')\n",
        "###end of for:\n",
        "\n"
      ],
      "execution_count": 43,
      "outputs": [
        {
          "output_type": "stream",
          "name": "stdout",
          "text": [
            "2 x 1 = 2\n",
            "2 x 2 = 4\n",
            "2 x 3 = 6\n",
            "2 x 4 = 8\n",
            "2 x 5 = 10\n",
            "2 x 6 = 12\n",
            "2 x 7 = 14\n",
            "2 x 8 = 16\n",
            "2 x 9 = 18\n",
            "\n",
            "\n",
            "3 x 1 = 3\n",
            "3 x 2 = 6\n",
            "3 x 3 = 9\n",
            "3 x 4 = 12\n",
            "3 x 5 = 15\n",
            "3 x 6 = 18\n",
            "3 x 7 = 21\n",
            "3 x 8 = 24\n",
            "3 x 9 = 27\n",
            "\n",
            "\n",
            "4 x 1 = 4\n",
            "4 x 2 = 8\n",
            "4 x 3 = 12\n",
            "4 x 4 = 16\n",
            "4 x 5 = 20\n",
            "4 x 6 = 24\n",
            "4 x 7 = 28\n",
            "4 x 8 = 32\n",
            "4 x 9 = 36\n",
            "\n",
            "\n",
            "5 x 1 = 5\n",
            "5 x 2 = 10\n",
            "5 x 3 = 15\n",
            "5 x 4 = 20\n",
            "5 x 5 = 25\n",
            "5 x 6 = 30\n",
            "5 x 7 = 35\n",
            "5 x 8 = 40\n",
            "5 x 9 = 45\n",
            "\n",
            "\n",
            "6 x 1 = 6\n",
            "6 x 2 = 12\n",
            "6 x 3 = 18\n",
            "6 x 4 = 24\n",
            "6 x 5 = 30\n",
            "6 x 6 = 36\n",
            "6 x 7 = 42\n",
            "6 x 8 = 48\n",
            "6 x 9 = 54\n",
            "\n",
            "\n",
            "7 x 1 = 7\n",
            "7 x 2 = 14\n",
            "7 x 3 = 21\n",
            "7 x 4 = 28\n",
            "7 x 5 = 35\n",
            "7 x 6 = 42\n",
            "7 x 7 = 49\n",
            "7 x 8 = 56\n",
            "7 x 9 = 63\n",
            "\n",
            "\n",
            "8 x 1 = 8\n",
            "8 x 2 = 16\n",
            "8 x 3 = 24\n",
            "8 x 4 = 32\n",
            "8 x 5 = 40\n",
            "8 x 6 = 48\n",
            "8 x 7 = 56\n",
            "8 x 8 = 64\n",
            "8 x 9 = 72\n",
            "\n",
            "\n",
            "9 x 1 = 9\n",
            "9 x 2 = 18\n",
            "9 x 3 = 27\n",
            "9 x 4 = 36\n",
            "9 x 5 = 45\n",
            "9 x 6 = 54\n",
            "9 x 7 = 63\n",
            "9 x 8 = 72\n",
            "9 x 9 = 81\n",
            "\n",
            "\n"
          ]
        }
      ]
    },
    {
      "cell_type": "markdown",
      "metadata": {
        "id": "y9DVAjy0r5Ty"
      },
      "source": [
        "#### _ 기능\n",
        "\n",
        "* for 문을 사용하면서 iterator 역할을 위해서 i 변수가 필요\n",
        "* for 문 이후에는 iterator변수 i가 필요하지 않음\n",
        "* 이후에 사용되지 않을 변수에 어떤 이름을 부여하고 싶지 않을 때 _를 사용"
      ]
    },
    {
      "cell_type": "code",
      "metadata": {
        "id": "qv8HZNCTsDFf",
        "outputId": "548afc0c-0ae4-45f6-bb25-b5dc447d9749",
        "colab": {
          "base_uri": "https://localhost:8080/"
        }
      },
      "source": [
        "for _ in range(5):\n",
        "  print(\"박문기\")"
      ],
      "execution_count": 44,
      "outputs": [
        {
          "output_type": "stream",
          "name": "stdout",
          "text": [
            "박문기\n",
            "박문기\n",
            "박문기\n",
            "박문기\n",
            "박문기\n"
          ]
        }
      ]
    },
    {
      "cell_type": "code",
      "metadata": {
        "id": "dve40WvpAChc",
        "outputId": "1918e0ea-2566-470e-8bb0-710afe24b91c",
        "colab": {
          "base_uri": "https://localhost:8080/"
        }
      },
      "source": [
        "sum = 0\n",
        "for _ in range(11):\n",
        "  sum += _\n",
        "else:\n",
        "  print(sum)\n",
        "###end of for:"
      ],
      "execution_count": 53,
      "outputs": [
        {
          "output_type": "stream",
          "name": "stdout",
          "text": [
            "55\n"
          ]
        }
      ]
    },
    {
      "cell_type": "code",
      "metadata": {
        "id": "pf8fIpSBsHZL",
        "outputId": "1ba4f5d8-2404-4b32-bbf9-4f15fac6107f",
        "colab": {
          "base_uri": "https://localhost:8080/"
        }
      },
      "source": [
        "for i in range(5):\n",
        "  print(\"박문기\")"
      ],
      "execution_count": 45,
      "outputs": [
        {
          "output_type": "stream",
          "name": "stdout",
          "text": [
            "박문기\n",
            "박문기\n",
            "박문기\n",
            "박문기\n",
            "박문기\n"
          ]
        }
      ]
    },
    {
      "cell_type": "markdown",
      "metadata": {
        "id": "-t7UubcSKJHY"
      },
      "source": [
        "### else 문\n",
        "\n",
        "* 반복이 종료된 후에 한번 더 실행되는 문장"
      ]
    },
    {
      "cell_type": "code",
      "metadata": {
        "id": "clXMvxeyMFj_",
        "outputId": "3834f6e8-5f37-477b-de5e-265355b5e9d7",
        "colab": {
          "base_uri": "https://localhost:8080/"
        }
      },
      "source": [
        "i = 1\n",
        "sum = 0\n",
        "while i <= 10:\n",
        "  sum += 1\n",
        "  i += 1\n",
        "###end of while:\n",
        "print(sum)"
      ],
      "execution_count": 46,
      "outputs": [
        {
          "output_type": "stream",
          "name": "stdout",
          "text": [
            "10\n"
          ]
        }
      ]
    },
    {
      "cell_type": "code",
      "metadata": {
        "id": "4B6-nPWEGjvG",
        "outputId": "92afa5a1-8980-4c1e-f8b0-8761842d9f7b",
        "colab": {
          "base_uri": "https://localhost:8080/"
        }
      },
      "source": [
        "i = 1\n",
        "sum = 0\n",
        "while i <= 10:\n",
        "  sum += 1\n",
        "  i += 1\n",
        "else:\n",
        "  print(sum)\n",
        "###end of while\n"
      ],
      "execution_count": 47,
      "outputs": [
        {
          "output_type": "stream",
          "name": "stdout",
          "text": [
            "10\n"
          ]
        }
      ]
    },
    {
      "cell_type": "code",
      "metadata": {
        "id": "WNHgFfmT_3wC",
        "outputId": "dc1bc963-769e-478f-bbe8-2b6066e68ad4",
        "colab": {
          "base_uri": "https://localhost:8080/"
        }
      },
      "source": [
        "sum = 0\n",
        "for i in range(11):\n",
        "  sum += i\n",
        "else:\n",
        "  print(sum)\n",
        "###end of for:"
      ],
      "execution_count": 50,
      "outputs": [
        {
          "output_type": "stream",
          "name": "stdout",
          "text": [
            "55\n"
          ]
        }
      ]
    },
    {
      "cell_type": "code",
      "metadata": {
        "id": "9ElBTGWc_p2D",
        "outputId": "902df937-66e1-47d1-eff5-157affa0f56e",
        "colab": {
          "base_uri": "https://localhost:8080/"
        }
      },
      "source": [
        "sum = 0\n",
        "for _ in range(11):\n",
        "  sum += _\n",
        "else:\n",
        "  print(sum)\n",
        "###end of for:"
      ],
      "execution_count": 52,
      "outputs": [
        {
          "output_type": "stream",
          "name": "stdout",
          "text": [
            "55\n"
          ]
        }
      ]
    },
    {
      "cell_type": "markdown",
      "metadata": {
        "id": "BlF9QvR5LTar"
      },
      "source": [
        "### break 문\n",
        "\n",
        "* 반복문 종료"
      ]
    },
    {
      "cell_type": "code",
      "metadata": {
        "id": "u0HvxKWvKSou"
      },
      "source": [
        "i = 0\n",
        "while i < 100:\n",
        "  print(i)\n",
        "  i += 1\n",
        "  "
      ],
      "execution_count": null,
      "outputs": []
    },
    {
      "cell_type": "code",
      "metadata": {
        "id": "TJyNX_deMUvq"
      },
      "source": [
        ""
      ],
      "execution_count": null,
      "outputs": []
    },
    {
      "cell_type": "markdown",
      "metadata": {
        "id": "m7jZ8oc8Mezu"
      },
      "source": [
        "### continue 문\n",
        "\n",
        "* 반복 조건문으로 이동"
      ]
    },
    {
      "cell_type": "code",
      "metadata": {
        "id": "MpTJ5WtPMbYm"
      },
      "source": [
        ""
      ],
      "execution_count": null,
      "outputs": []
    },
    {
      "cell_type": "code",
      "metadata": {
        "id": "2oWKM2NDMqJ4"
      },
      "source": [
        ""
      ],
      "execution_count": null,
      "outputs": []
    },
    {
      "cell_type": "markdown",
      "metadata": {
        "id": "qQoq1VqQMxdR"
      },
      "source": [
        "### 리스트 내포(List Comprehension)\n",
        "\n",
        "* 리스트 안에 for 문과 if 문 사용"
      ]
    },
    {
      "cell_type": "code",
      "metadata": {
        "id": "dYS40UmTMuHf"
      },
      "source": [
        ""
      ],
      "execution_count": null,
      "outputs": []
    },
    {
      "cell_type": "markdown",
      "metadata": {
        "id": "BNJU3Dz8NEtW"
      },
      "source": [
        "### [Lab] 문자열 반전\n",
        "\n",
        "* 문자열을 역순으로 만들기"
      ]
    },
    {
      "cell_type": "code",
      "metadata": {
        "id": "vtOOAlwBM7Ls"
      },
      "source": [
        ""
      ],
      "execution_count": null,
      "outputs": []
    },
    {
      "cell_type": "markdown",
      "metadata": {
        "id": "e-5QZsGNXsrz"
      },
      "source": [
        "\n",
        "\n",
        "---\n",
        "\n"
      ]
    },
    {
      "cell_type": "markdown",
      "metadata": {
        "id": "9ygGlaKjKZRs"
      },
      "source": [
        "## 에러와 예외(Errors and Exceptions)\n",
        "\n",
        "* 프로그램에서는 에러가 발생\n",
        "* 에러에 대한 예외 처리가 필요"
      ]
    },
    {
      "cell_type": "markdown",
      "metadata": {
        "id": "Sem87gmsXux8"
      },
      "source": [
        "### 에러 예제\n",
        "\n",
        "* ZeroDivisionError"
      ]
    },
    {
      "cell_type": "code",
      "metadata": {
        "id": "nea-tg6gNSQB"
      },
      "source": [
        ""
      ],
      "execution_count": null,
      "outputs": []
    },
    {
      "cell_type": "markdown",
      "metadata": {
        "id": "5Ape-cL37GWg"
      },
      "source": [
        "* NameError"
      ]
    },
    {
      "cell_type": "code",
      "metadata": {
        "id": "rX3x3eE_6zcJ"
      },
      "source": [
        ""
      ],
      "execution_count": null,
      "outputs": []
    },
    {
      "cell_type": "markdown",
      "metadata": {
        "id": "Ij6ieZ6v7JXo"
      },
      "source": [
        "* TypeError"
      ]
    },
    {
      "cell_type": "code",
      "metadata": {
        "id": "EwuWO4tP68OT"
      },
      "source": [
        ""
      ],
      "execution_count": null,
      "outputs": []
    },
    {
      "cell_type": "markdown",
      "metadata": {
        "id": "TSahjFWRNFSY"
      },
      "source": [
        "* ValueError"
      ]
    },
    {
      "cell_type": "code",
      "metadata": {
        "id": "QkZGJiqcNElu"
      },
      "source": [
        ""
      ],
      "execution_count": null,
      "outputs": []
    },
    {
      "cell_type": "markdown",
      "metadata": {
        "id": "6gu37rq_AciU"
      },
      "source": [
        "### 예외 처리(Exception Handling)"
      ]
    },
    {
      "cell_type": "markdown",
      "metadata": {
        "id": "FYZUyQqgK5Z_"
      },
      "source": [
        "#### try, except 문\n",
        "\n",
        "* try 문을 통해 예외 발생 가능한 코드에 정의\n",
        "* except 문을 이용해 예외 처리 방법을 정의"
      ]
    },
    {
      "cell_type": "code",
      "metadata": {
        "id": "wfONldWmjWjI"
      },
      "source": [
        ""
      ],
      "execution_count": null,
      "outputs": []
    },
    {
      "cell_type": "markdown",
      "metadata": {
        "id": "wCZtKuol63ET"
      },
      "source": [
        "#### 에러 분류에 따른 except 문\n",
        "\n",
        "* `ZeroDivisionError`에 대한 except 처리"
      ]
    },
    {
      "cell_type": "code",
      "metadata": {
        "id": "iI9q62ukjhLI"
      },
      "source": [
        ""
      ],
      "execution_count": null,
      "outputs": []
    },
    {
      "cell_type": "markdown",
      "metadata": {
        "id": "5xb7qltz7EkZ"
      },
      "source": [
        "#### 에러 메시지가 포함된 except 문\n",
        "\n",
        "* `ZeroDivisionError`에 포함된 에러 메시지 `e`를 출력"
      ]
    },
    {
      "cell_type": "code",
      "metadata": {
        "id": "Hd8posBzjmQa"
      },
      "source": [
        ""
      ],
      "execution_count": null,
      "outputs": []
    },
    {
      "cell_type": "markdown",
      "metadata": {
        "id": "JAasRBB0-BLK"
      },
      "source": [
        "#### 여러 에러 분류가 포함된 except 문"
      ]
    },
    {
      "cell_type": "code",
      "metadata": {
        "id": "IHqjg-lf6-SG"
      },
      "source": [
        ""
      ],
      "execution_count": null,
      "outputs": []
    },
    {
      "cell_type": "markdown",
      "metadata": {
        "id": "1yvDiPGN9ko0"
      },
      "source": [
        "### 에러 발생"
      ]
    },
    {
      "cell_type": "markdown",
      "metadata": {
        "id": "UZVye8Ot9r3u"
      },
      "source": [
        "#### raise 문\n",
        "\n",
        "* 직접적으로 에러를 발생시킬 수 있음\n",
        "* 에러의 종류와 에러 상황을 정의하고 발생"
      ]
    },
    {
      "cell_type": "code",
      "metadata": {
        "id": "YhXCjSq-D0oX"
      },
      "source": [
        ""
      ],
      "execution_count": null,
      "outputs": []
    },
    {
      "cell_type": "code",
      "metadata": {
        "id": "seVpG5qoEDUL"
      },
      "source": [
        ""
      ],
      "execution_count": null,
      "outputs": []
    },
    {
      "cell_type": "code",
      "metadata": {
        "id": "Sg6jO8soEFRQ"
      },
      "source": [
        ""
      ],
      "execution_count": null,
      "outputs": []
    },
    {
      "cell_type": "code",
      "metadata": {
        "id": "44cMcYh6EGmQ"
      },
      "source": [
        ""
      ],
      "execution_count": null,
      "outputs": []
    },
    {
      "cell_type": "markdown",
      "metadata": {
        "id": "1tlN-WGZ9the"
      },
      "source": [
        "#### assert 문\n",
        "\n",
        "* raise 문과 달리 주로 검증을 위한 목적으로 작성\n",
        "* 상태를 검증하는 목적으로 작성되며 검증식이 포함됨\n",
        "* 검증식이 `False`일 경우 `AssertionErro` 발생"
      ]
    },
    {
      "cell_type": "code",
      "metadata": {
        "id": "RDT6GAzpMtFu"
      },
      "source": [
        ""
      ],
      "execution_count": null,
      "outputs": []
    },
    {
      "cell_type": "code",
      "metadata": {
        "id": "Wi5Dhu2yFzfW"
      },
      "source": [
        ""
      ],
      "execution_count": null,
      "outputs": []
    },
    {
      "cell_type": "code",
      "metadata": {
        "id": "__lmGJw2G323"
      },
      "source": [
        ""
      ],
      "execution_count": null,
      "outputs": []
    },
    {
      "cell_type": "code",
      "metadata": {
        "id": "vmNwfDLcF0dm"
      },
      "source": [
        ""
      ],
      "execution_count": null,
      "outputs": []
    },
    {
      "cell_type": "code",
      "metadata": {
        "id": "7ebqv6zTF3dv"
      },
      "source": [
        ""
      ],
      "execution_count": null,
      "outputs": []
    }
  ]
}