{
  "nbformat": 4,
  "nbformat_minor": 0,
  "metadata": {
    "colab": {
      "name": "_07 함수.ipynb",
      "provenance": [],
      "collapsed_sections": [],
      "include_colab_link": true
    },
    "kernelspec": {
      "name": "python3",
      "display_name": "Python 3"
    }
  },
  "cells": [
    {
      "cell_type": "markdown",
      "metadata": {
        "id": "view-in-github",
        "colab_type": "text"
      },
      "source": [
        "<a href=\"https://colab.research.google.com/github/mkbahk/PythonLearning/blob/main/_07_%ED%95%A8%EC%88%98.ipynb\" target=\"_parent\"><img src=\"https://colab.research.google.com/assets/colab-badge.svg\" alt=\"Open In Colab\"/></a>"
      ]
    },
    {
      "cell_type": "markdown",
      "metadata": {
        "id": "bg5ZXMV2sn1M"
      },
      "source": [
        "# 함수(Function)"
      ]
    },
    {
      "cell_type": "markdown",
      "metadata": {
        "id": "mJ-mqgFql9qH"
      },
      "source": [
        "### 함수의 정의\n",
        "\n",
        "* 특정값 x를 인자로 받고, 결과값을 반환: Y = f(x)\n",
        "* 함수가 필요할 때마다 호출 가능\n",
        "* 논리적인 단위로 분할 가능\n",
        "* 코드의 캡슐화(Capsulation)\n",
        "* 중복되는 소스코드를 최소화\n",
        "* 소스코드의 재사용성을 높임\n"
      ]
    },
    {
      "cell_type": "markdown",
      "metadata": {
        "id": "zXbENjlMCrkU"
      },
      "source": [
        "## 함수 기본"
      ]
    },
    {
      "cell_type": "markdown",
      "metadata": {
        "id": "GWTyreZRzzmW"
      },
      "source": [
        "### 함수 선언\n",
        "* 함수 선언 문법\n",
        "\n",
        "\n",
        "```\n",
        "def 함수명(매개변수):\n",
        "   <수행문>\n",
        "   return <반환값>\n",
        "```\n",
        "\n",
        "* def: 정의(definition)의 줄임으로 사용\n",
        "* 함수명: 사용자가 임으로 지정\n",
        "* 함수명 컨벤션(convention)\n",
        " * 짧고 명료한 이름\n",
        " * 소문자로 입력\n",
        " * 띄어쓰기는 '_'기호 사용(hello_world)\n",
        " * 동사와 명사를 함께 사용(find_name)\n",
        "* 매개변수(parameter): 함수에서 입력값으로 사용하는 변수\n",
        "* 반환값: 함수에서 반환할 결과값 지정\n",
        "\n"
      ]
    },
    {
      "cell_type": "markdown",
      "metadata": {
        "id": "qQc_0nwV1YyE"
      },
      "source": [
        "### 매개변수와 반환값이 없는 함수\n",
        "\n",
        "* 함수에 매개변수와 반환값이 없이 사용 가능\n",
        "* 함수를 호출하면 함수의 수행문이 실행"
      ]
    },
    {
      "cell_type": "code",
      "metadata": {
        "id": "VIauKM25w6Aw",
        "colab": {
          "base_uri": "https://localhost:8080/"
        },
        "outputId": "d6f93ea2-28e5-4b9a-fb52-695cd0db9ccd"
      },
      "source": [
        "def hello_python():\n",
        "  print(\"Hello Python\")\n",
        "###\n",
        "\n",
        "hello_python()\n"
      ],
      "execution_count": 2,
      "outputs": [
        {
          "output_type": "stream",
          "name": "stdout",
          "text": [
            "Hello Python\n"
          ]
        }
      ]
    },
    {
      "cell_type": "markdown",
      "metadata": {
        "id": "eeldN6Kq20h4"
      },
      "source": [
        "### 매개변수만 있는 함수\n",
        "\n",
        "* 문자열 매개변수를 사용한 함수"
      ]
    },
    {
      "cell_type": "code",
      "metadata": {
        "id": "DhVqlr5f24Px",
        "colab": {
          "base_uri": "https://localhost:8080/"
        },
        "outputId": "38b687d3-ff11-4c73-c9e6-9e1cee3648d5"
      },
      "source": [
        "def hello_something(string):\n",
        "  print(\"Hello\", string)\n",
        "###\n",
        "\n",
        "hello_something(\"Python\")\n",
        "\n"
      ],
      "execution_count": 5,
      "outputs": [
        {
          "output_type": "stream",
          "name": "stdout",
          "text": [
            "Hello Python\n"
          ]
        }
      ]
    },
    {
      "cell_type": "markdown",
      "metadata": {
        "id": "mmzbeJNq3uMA"
      },
      "source": [
        "### 반환 값만 있는 함수\n",
        "\n",
        "* 문자열 반환 값을 사용한 함수"
      ]
    },
    {
      "cell_type": "code",
      "metadata": {
        "id": "hv7QPvAN33bB",
        "colab": {
          "base_uri": "https://localhost:8080/",
          "height": 35
        },
        "outputId": "f5f18d3c-7f29-4682-857b-686195c09a36"
      },
      "source": [
        "def hello_something():\n",
        "  return \"Hello Python\"\n",
        "###\n",
        "\n",
        "hello_something()\n",
        "\n",
        "#print(hello_something())"
      ],
      "execution_count": 9,
      "outputs": [
        {
          "output_type": "execute_result",
          "data": {
            "application/vnd.google.colaboratory.intrinsic+json": {
              "type": "string"
            },
            "text/plain": [
              "'Hello Python'"
            ]
          },
          "metadata": {},
          "execution_count": 9
        }
      ]
    },
    {
      "cell_type": "markdown",
      "metadata": {
        "id": "KuQSI5asuMml"
      },
      "source": [
        ""
      ]
    },
    {
      "cell_type": "markdown",
      "metadata": {
        "id": "KY_pW4pZ4CbM"
      },
      "source": [
        "### 매개변수와 반환 값이 있는 함수\n",
        "\n",
        "* 정수형 매개변수와 반환 값을 사용한 함수"
      ]
    },
    {
      "cell_type": "code",
      "metadata": {
        "id": "c3aDaQLX4Hwf",
        "colab": {
          "base_uri": "https://localhost:8080/"
        },
        "outputId": "a2275e1a-3911-4179-92c8-5fb0ab4eb48c"
      },
      "source": [
        "def return_square(num):\n",
        "  return num * num\n",
        "###\n",
        "\n",
        "return_square(5)"
      ],
      "execution_count": 10,
      "outputs": [
        {
          "output_type": "execute_result",
          "data": {
            "text/plain": [
              "25"
            ]
          },
          "metadata": {},
          "execution_count": 10
        }
      ]
    },
    {
      "cell_type": "markdown",
      "metadata": {
        "id": "BY9mQXbf4TRK"
      },
      "source": [
        "### 매개변수가 여러개 있는 함수\n",
        "\n",
        "* 정수형 매개변수 여러개를 사용한 함수\n",
        "* 매개변수를 지정하여 호출 가능"
      ]
    },
    {
      "cell_type": "code",
      "metadata": {
        "id": "DBc8hUNE4YKr",
        "colab": {
          "base_uri": "https://localhost:8080/"
        },
        "outputId": "a92636b4-a05e-4bf1-a0a7-bb403d3c82b4"
      },
      "source": [
        "def add_number(n1, n2):\n",
        "  return n1 + n2\n",
        "###\n",
        "\n",
        "print(add_number(5, 7))\n",
        "print(add_number(n1 = 5, n2 = 7))\n",
        "print(add_number(n2 = 7, n1 = 5))"
      ],
      "execution_count": 12,
      "outputs": [
        {
          "output_type": "stream",
          "name": "stdout",
          "text": [
            "12\n",
            "12\n",
            "12\n"
          ]
        }
      ]
    },
    {
      "cell_type": "markdown",
      "metadata": {
        "id": "meUZXmUR4knx"
      },
      "source": [
        "### 키워드 매개변수\n",
        "\n",
        "* 함수의 매개변수를 변수명을 지정하여 호출 가능"
      ]
    },
    {
      "cell_type": "code",
      "metadata": {
        "id": "k0FipvNp4pXl"
      },
      "source": [
        "def add_number(n1, n2):\n",
        "  return n1 + n2\n",
        "###\n",
        "\n",
        "print(add_number(n1 = 5, n2 = 7))\n",
        "print(add_number(n2 = 7, n1 = 5))"
      ],
      "execution_count": null,
      "outputs": []
    },
    {
      "cell_type": "markdown",
      "metadata": {
        "id": "3f_8Jxyh5EKA"
      },
      "source": [
        "### 가변 매개변수\n",
        "\n",
        "* 매개변수가 몇 개인지 알 수 없을 때 사용\n",
        "* 매개변수 앞에 '*'을 표시\n",
        "\n",
        "* tuple의 특징은 변경불가"
      ]
    },
    {
      "cell_type": "code",
      "metadata": {
        "id": "uVpBRKq65JLe",
        "colab": {
          "base_uri": "https://localhost:8080/"
        },
        "outputId": "a6a1112b-1ea0-463c-ee06-fe7f02a4194e"
      },
      "source": [
        "def sum_numbers(*args):\n",
        "  result = 0\n",
        "  print(type(args))\n",
        "  for i in args:\n",
        "    result += i\n",
        "  ###\n",
        "  return result\n",
        "###\n",
        "\n",
        "print(sum_numbers(1, 2, 3))\n",
        "print(sum_numbers(1, 2, 3, 4, 6))"
      ],
      "execution_count": 14,
      "outputs": [
        {
          "output_type": "stream",
          "name": "stdout",
          "text": [
            "<class 'tuple'>\n",
            "6\n",
            "<class 'tuple'>\n",
            "16\n"
          ]
        }
      ]
    },
    {
      "cell_type": "markdown",
      "metadata": {
        "id": "czo-wmdL5YRR"
      },
      "source": [
        "### 가변 키워드 매개변수\n",
        "\n",
        "* 매개변수의 이름을 따로 지정하지 않고 사용\n",
        "* 매개변수 앞에 '**'을 표시\n",
        "* dictionary 형태로 받아 옴"
      ]
    },
    {
      "cell_type": "code",
      "metadata": {
        "id": "jcPIBpWF5d9N",
        "colab": {
          "base_uri": "https://localhost:8080/"
        },
        "outputId": "ee2b5fee-6d0b-49a9-863b-2664709a6bd6"
      },
      "source": [
        "def print_kwags(**kwargs):\n",
        "  print(kwargs)\n",
        "  print(type(kwargs))\n",
        "###\n",
        "\n",
        "print_kwags(n1 = 5, n2 = 7)\n",
        "print_kwags(id = \"mkbahk\", pw=\"12345\")"
      ],
      "execution_count": 16,
      "outputs": [
        {
          "output_type": "stream",
          "name": "stdout",
          "text": [
            "{'n1': 5, 'n2': 7}\n",
            "<class 'dict'>\n",
            "{'id': 'mkbahk', 'pw': '12345'}\n",
            "<class 'dict'>\n"
          ]
        }
      ]
    },
    {
      "cell_type": "markdown",
      "metadata": {
        "id": "BcE5o1GR5ugB"
      },
      "source": [
        "### 초기값 매개변수\n",
        "\n",
        "* 매개변수에 초기값을 설정하여 사용\n",
        "* 함수에 매개변수를 사용하지 않을 때 초기값을 사용"
      ]
    },
    {
      "cell_type": "code",
      "metadata": {
        "id": "Wdsz0tcZ50s_",
        "colab": {
          "base_uri": "https://localhost:8080/"
        },
        "outputId": "e2caeb24-417a-4f59-f4e7-3ade283af42a"
      },
      "source": [
        "def power(b = 2, n = 2):\n",
        "  return pow(b, n)\n",
        "###\n",
        "\n",
        "\n",
        "print(power())\n",
        "print(power(2, 5))\n",
        "print(power(3))\n",
        "print(power(n=3))"
      ],
      "execution_count": 19,
      "outputs": [
        {
          "output_type": "stream",
          "name": "stdout",
          "text": [
            "4\n",
            "32\n",
            "9\n",
            "8\n"
          ]
        }
      ]
    },
    {
      "cell_type": "markdown",
      "metadata": {
        "id": "zEmGFAyv6ARs"
      },
      "source": [
        "### 여러 반환 값이 있는 함수\n",
        "\n",
        "* 함수의 반환값은 하나\n",
        "* 여러 반환값을 사용할 경우 튜플 형태로 반환\n",
        "* return은 tuple 임."
      ]
    },
    {
      "cell_type": "code",
      "metadata": {
        "id": "4uA_PmQR6FW5",
        "colab": {
          "base_uri": "https://localhost:8080/"
        },
        "outputId": "50184d42-aedd-4457-d7e4-c601ae7d982b"
      },
      "source": [
        "def plus_and_minus(n1, n2):\n",
        "  return n1 + n2, n1 - n2\n",
        "###\n",
        "\n",
        "result = plus_and_minus(8, 5)\n",
        "print(result)\n",
        "\n",
        "#튜플로 따로따로 받을 수도 있음\n",
        "result1, result2 = plus_and_minus(7, 8)\n",
        "print(result1, result2)"
      ],
      "execution_count": 22,
      "outputs": [
        {
          "output_type": "stream",
          "name": "stdout",
          "text": [
            "(13, 3)\n",
            "15 -1\n"
          ]
        }
      ]
    },
    {
      "cell_type": "markdown",
      "metadata": {
        "id": "XM8NFJC96cX7"
      },
      "source": [
        "### [Lab] 계산기 함수\n",
        "\n",
        "* 두 수에 대해서 덧셈, 뺄셈, 곱셈, 나눗셈을 수행하는 함수"
      ]
    },
    {
      "cell_type": "code",
      "metadata": {
        "id": "XDXeVHIJ6gpm",
        "colab": {
          "base_uri": "https://localhost:8080/"
        },
        "outputId": "4ff90c49-dcf0-4c2f-dfca-20aa08d187ab"
      },
      "source": [
        "def calc(op, n1, n2):\n",
        "  result =  0\n",
        "  \n",
        "  if op == '+':\n",
        "    result = n1 + n2\n",
        "  elif op == '-':\n",
        "    result = n1 - n2\n",
        "  elif op == '*':\n",
        "    result = n1 * n2\n",
        "  elif op == '/':\n",
        "    result = n1 / n2\n",
        "  ###\n",
        "  return result\n",
        "\n",
        "print(calc('+', 5, 8))\n",
        "\n",
        "print(calc('*', 5, 8))"
      ],
      "execution_count": 24,
      "outputs": [
        {
          "output_type": "stream",
          "name": "stdout",
          "text": [
            "13\n",
            "40\n"
          ]
        }
      ]
    },
    {
      "cell_type": "markdown",
      "metadata": {
        "id": "GXfPMgdV696x"
      },
      "source": [
        "### [Lab] 가변 매개변수의 평균값 계산\n",
        "\n",
        "* 가변 매개변수로 들어오는 모든 수의 평균값 계산"
      ]
    },
    {
      "cell_type": "code",
      "metadata": {
        "id": "xgVFwpIm7CPY",
        "colab": {
          "base_uri": "https://localhost:8080/"
        },
        "outputId": "52c66d9c-be4f-47fe-a386-9216a917f87f"
      },
      "source": [
        "def avg(*agrs):\n",
        "  sum = 0\n",
        "  for i in args:\n",
        "    sum += i\n",
        "  ###\n",
        "  return (sum / len(args))\n",
        "###\n",
        "\n",
        "print(1, 2, 3, 4, 5)"
      ],
      "execution_count": 26,
      "outputs": [
        {
          "output_type": "stream",
          "name": "stdout",
          "text": [
            "1 2 3 4 5\n"
          ]
        }
      ]
    },
    {
      "cell_type": "markdown",
      "metadata": {
        "id": "G8OTXx4aw7mY"
      },
      "source": [
        "\n",
        "\n",
        "---\n",
        "\n"
      ]
    },
    {
      "cell_type": "markdown",
      "metadata": {
        "id": "4y7j6wwPw9zd"
      },
      "source": [
        "## 변수의 유효범위\n"
      ]
    },
    {
      "cell_type": "markdown",
      "metadata": {
        "id": "UjzGwc9D7b9d"
      },
      "source": [
        "### 유효 범위\n",
        "\n",
        "* 변수는 유효한 범위가 존재\n",
        "* 함수 안에서 선언된 변수는 함수 내부에서 유효함"
      ]
    },
    {
      "cell_type": "code",
      "metadata": {
        "id": "vvew4Dhq7gYv",
        "colab": {
          "base_uri": "https://localhost:8080/"
        },
        "outputId": "8e85f46a-7b66-4e2f-984d-576a8fc4fa41"
      },
      "source": [
        "def var_scope(a):\n",
        "  a = a + 1\n",
        "###\n",
        "\n",
        "a = 10\n",
        "var_scope(a)\n",
        "print(a) # 11일 아니라 10일, 이것이 scope임"
      ],
      "execution_count": 29,
      "outputs": [
        {
          "output_type": "stream",
          "name": "stdout",
          "text": [
            "10\n"
          ]
        }
      ]
    },
    {
      "cell_type": "markdown",
      "metadata": {
        "id": "7O3U3dYT7nXD"
      },
      "source": [
        "### 변수의 종류\n",
        "\n",
        "* 지역 변수: 한정된 지역에서만 사용되는 변수\n",
        "* 전역 변수: 프로그램 전체에서 사용되는 변수"
      ]
    },
    {
      "cell_type": "code",
      "metadata": {
        "id": "dhTOG0Uj7tOL",
        "colab": {
          "base_uri": "https://localhost:8080/"
        },
        "outputId": "b95882bc-997d-479e-bae7-b5471d723326"
      },
      "source": [
        "a = 10 #전역변수\n",
        "\n",
        "def func1():\n",
        "  a = 20 #지역변수\n",
        "  print(a)\n",
        "###\n",
        "\n",
        "def func2():\n",
        "  print(a) # 전역변수 사용\n",
        "###\n",
        "\n",
        "func1()\n",
        "func2()"
      ],
      "execution_count": 31,
      "outputs": [
        {
          "output_type": "stream",
          "name": "stdout",
          "text": [
            "20\n",
            "10\n"
          ]
        }
      ]
    },
    {
      "cell_type": "markdown",
      "metadata": {
        "id": "3-OF8own71vk"
      },
      "source": [
        "\n",
        "### 전역 변수 사용 global\n",
        "\n",
        "* 함수 내부에서 전역 변수를 사용하기 위한 `global` 키워드"
      ]
    },
    {
      "cell_type": "code",
      "metadata": {
        "id": "J_P_WGSr75jp",
        "colab": {
          "base_uri": "https://localhost:8080/"
        },
        "outputId": "ac8506f5-8467-4e6b-f20d-49a2d49d09a4"
      },
      "source": [
        "a = 10 #전역변수\n",
        "\n",
        "def func1():\n",
        "  global a\n",
        "  a = 20 #전역변수 사용\n",
        "  print(a)\n",
        "###\n",
        "\n",
        "def func2():\n",
        "  print(a)\n",
        "###\n",
        "\n",
        "func1()\n",
        "func2() #전역변수를 func1()에서 변경해서 결과가 20임"
      ],
      "execution_count": 33,
      "outputs": [
        {
          "output_type": "stream",
          "name": "stdout",
          "text": [
            "20\n",
            "20\n"
          ]
        }
      ]
    },
    {
      "cell_type": "markdown",
      "metadata": {
        "id": "NxjgnIKoxGkH"
      },
      "source": [
        "\n",
        "\n",
        "---\n",
        "\n"
      ]
    },
    {
      "cell_type": "markdown",
      "metadata": {
        "id": "8x-oWtbBxCpE"
      },
      "source": [
        "## 함수 심화"
      ]
    },
    {
      "cell_type": "markdown",
      "metadata": {
        "id": "GbFr5qM78B41"
      },
      "source": [
        "### 내부 함수(Nested Function)\n",
        "\n",
        "* 함수 안에 함수가 존재\n",
        "* 내부 함수는 외부에서 호출 불가\n",
        "* 내부 함수는 내부에서만 호출"
      ]
    },
    {
      "cell_type": "code",
      "metadata": {
        "id": "6aBHDw7x8Gr5",
        "colab": {
          "base_uri": "https://localhost:8080/",
          "height": 222
        },
        "outputId": "5f12750e-cb7c-47dc-e539-e9ecb538b233"
      },
      "source": [
        "def func1(n1, n2):\n",
        "  def func2(num1, num2):\n",
        "    return num1 + num2\n",
        "  ###\n",
        "  return func2(n1, n2)\n",
        "###\n",
        "\n",
        "print(func1(5, 8))\n",
        "\n",
        "print(func2(5, 8))"
      ],
      "execution_count": 36,
      "outputs": [
        {
          "output_type": "stream",
          "name": "stdout",
          "text": [
            "13\n"
          ]
        },
        {
          "output_type": "error",
          "ename": "TypeError",
          "evalue": "ignored",
          "traceback": [
            "\u001b[0;31m---------------------------------------------------------------------------\u001b[0m",
            "\u001b[0;31mTypeError\u001b[0m                                 Traceback (most recent call last)",
            "\u001b[0;32m<ipython-input-36-1c5f082efb49>\u001b[0m in \u001b[0;36m<module>\u001b[0;34m()\u001b[0m\n\u001b[1;32m      7\u001b[0m \u001b[0mprint\u001b[0m\u001b[0;34m(\u001b[0m\u001b[0mfunc1\u001b[0m\u001b[0;34m(\u001b[0m\u001b[0;36m5\u001b[0m\u001b[0;34m,\u001b[0m \u001b[0;36m8\u001b[0m\u001b[0;34m)\u001b[0m\u001b[0;34m)\u001b[0m\u001b[0;34m\u001b[0m\u001b[0;34m\u001b[0m\u001b[0m\n\u001b[1;32m      8\u001b[0m \u001b[0;34m\u001b[0m\u001b[0m\n\u001b[0;32m----> 9\u001b[0;31m \u001b[0mprint\u001b[0m\u001b[0;34m(\u001b[0m\u001b[0mfunc2\u001b[0m\u001b[0;34m(\u001b[0m\u001b[0;36m5\u001b[0m\u001b[0;34m,\u001b[0m \u001b[0;36m8\u001b[0m\u001b[0;34m)\u001b[0m\u001b[0;34m)\u001b[0m\u001b[0;34m\u001b[0m\u001b[0;34m\u001b[0m\u001b[0m\n\u001b[0m",
            "\u001b[0;31mTypeError\u001b[0m: func2() takes 0 positional arguments but 2 were given"
          ]
        }
      ]
    },
    {
      "cell_type": "markdown",
      "metadata": {
        "id": "RMlNesEi87cD"
      },
      "source": [
        "### 재귀 함수(Recursive Function)\n",
        "\n",
        "* 함수가 자기 자신을 다시 부르는 함수\n",
        "* `count()` 함수 내부에서 `count()` 함수를 호출\n",
        "* 재귀적으로 카운트 수를 출력"
      ]
    },
    {
      "cell_type": "code",
      "metadata": {
        "id": "ATwXBqDH9Fuk",
        "colab": {
          "base_uri": "https://localhost:8080/"
        },
        "outputId": "31503cc0-26ad-4741-a4b0-20240329f8c4"
      },
      "source": [
        "def count(n):\n",
        "  if n >= 1:\n",
        "    print(n, end=\" \")\n",
        "    count(n - 1)\n",
        "  else:\n",
        "    return #그냥 종료\n",
        "  ###\n",
        "###\n",
        "\n",
        "count(10)"
      ],
      "execution_count": 37,
      "outputs": [
        {
          "output_type": "stream",
          "name": "stdout",
          "text": [
            "10 9 8 7 6 5 4 3 2 1 "
          ]
        }
      ]
    },
    {
      "cell_type": "markdown",
      "metadata": {
        "id": "8GTG0ukpIfRm"
      },
      "source": [
        "#### [Lab] 재귀 함수를 이용한 합계\n",
        "\n",
        "* `sum()` 함수 내부에서 `sum()` 함수를 호출\n",
        "* 재귀적으로 합계를 계산"
      ]
    },
    {
      "cell_type": "code",
      "metadata": {
        "id": "5oIubHWwHj_j",
        "colab": {
          "base_uri": "https://localhost:8080/",
          "height": 422
        },
        "outputId": "bf942547-10c2-435c-85e5-94881aad2236"
      },
      "source": [
        "def sum(n):\n",
        "  if n == 1:\n",
        "    return 1\n",
        "  else:\n",
        "    return n + sum(n - 1)\n",
        "  ###\n",
        "###\n",
        "\n",
        "print(sum(10))\n",
        "print(sum(100))\n",
        "print(sum(0))"
      ],
      "execution_count": 39,
      "outputs": [
        {
          "output_type": "stream",
          "name": "stdout",
          "text": [
            "55\n",
            "5050\n"
          ]
        },
        {
          "output_type": "error",
          "ename": "RecursionError",
          "evalue": "ignored",
          "traceback": [
            "\u001b[0;31m---------------------------------------------------------------------------\u001b[0m",
            "\u001b[0;31mRecursionError\u001b[0m                            Traceback (most recent call last)",
            "\u001b[0;32m<ipython-input-39-474cb2d4f05b>\u001b[0m in \u001b[0;36m<module>\u001b[0;34m()\u001b[0m\n\u001b[1;32m      9\u001b[0m \u001b[0mprint\u001b[0m\u001b[0;34m(\u001b[0m\u001b[0msum\u001b[0m\u001b[0;34m(\u001b[0m\u001b[0;36m10\u001b[0m\u001b[0;34m)\u001b[0m\u001b[0;34m)\u001b[0m\u001b[0;34m\u001b[0m\u001b[0;34m\u001b[0m\u001b[0m\n\u001b[1;32m     10\u001b[0m \u001b[0mprint\u001b[0m\u001b[0;34m(\u001b[0m\u001b[0msum\u001b[0m\u001b[0;34m(\u001b[0m\u001b[0;36m100\u001b[0m\u001b[0;34m)\u001b[0m\u001b[0;34m)\u001b[0m\u001b[0;34m\u001b[0m\u001b[0;34m\u001b[0m\u001b[0m\n\u001b[0;32m---> 11\u001b[0;31m \u001b[0mprint\u001b[0m\u001b[0;34m(\u001b[0m\u001b[0msum\u001b[0m\u001b[0;34m(\u001b[0m\u001b[0;36m0\u001b[0m\u001b[0;34m)\u001b[0m\u001b[0;34m)\u001b[0m\u001b[0;34m\u001b[0m\u001b[0;34m\u001b[0m\u001b[0m\n\u001b[0m",
            "\u001b[0;32m<ipython-input-39-474cb2d4f05b>\u001b[0m in \u001b[0;36msum\u001b[0;34m(n)\u001b[0m\n\u001b[1;32m      3\u001b[0m     \u001b[0;32mreturn\u001b[0m \u001b[0;36m1\u001b[0m\u001b[0;34m\u001b[0m\u001b[0;34m\u001b[0m\u001b[0m\n\u001b[1;32m      4\u001b[0m   \u001b[0;32melse\u001b[0m\u001b[0;34m:\u001b[0m\u001b[0;34m\u001b[0m\u001b[0;34m\u001b[0m\u001b[0m\n\u001b[0;32m----> 5\u001b[0;31m     \u001b[0;32mreturn\u001b[0m \u001b[0mn\u001b[0m \u001b[0;34m+\u001b[0m \u001b[0msum\u001b[0m\u001b[0;34m(\u001b[0m\u001b[0mn\u001b[0m \u001b[0;34m-\u001b[0m \u001b[0;36m1\u001b[0m\u001b[0;34m)\u001b[0m\u001b[0;34m\u001b[0m\u001b[0;34m\u001b[0m\u001b[0m\n\u001b[0m\u001b[1;32m      6\u001b[0m   \u001b[0;31m###\u001b[0m\u001b[0;34m\u001b[0m\u001b[0;34m\u001b[0m\u001b[0;34m\u001b[0m\u001b[0m\n\u001b[1;32m      7\u001b[0m \u001b[0;31m###\u001b[0m\u001b[0;34m\u001b[0m\u001b[0;34m\u001b[0m\u001b[0;34m\u001b[0m\u001b[0m\n",
            "... last 1 frames repeated, from the frame below ...\n",
            "\u001b[0;32m<ipython-input-39-474cb2d4f05b>\u001b[0m in \u001b[0;36msum\u001b[0;34m(n)\u001b[0m\n\u001b[1;32m      3\u001b[0m     \u001b[0;32mreturn\u001b[0m \u001b[0;36m1\u001b[0m\u001b[0;34m\u001b[0m\u001b[0;34m\u001b[0m\u001b[0m\n\u001b[1;32m      4\u001b[0m   \u001b[0;32melse\u001b[0m\u001b[0;34m:\u001b[0m\u001b[0;34m\u001b[0m\u001b[0;34m\u001b[0m\u001b[0m\n\u001b[0;32m----> 5\u001b[0;31m     \u001b[0;32mreturn\u001b[0m \u001b[0mn\u001b[0m \u001b[0;34m+\u001b[0m \u001b[0msum\u001b[0m\u001b[0;34m(\u001b[0m\u001b[0mn\u001b[0m \u001b[0;34m-\u001b[0m \u001b[0;36m1\u001b[0m\u001b[0;34m)\u001b[0m\u001b[0;34m\u001b[0m\u001b[0;34m\u001b[0m\u001b[0m\n\u001b[0m\u001b[1;32m      6\u001b[0m   \u001b[0;31m###\u001b[0m\u001b[0;34m\u001b[0m\u001b[0;34m\u001b[0m\u001b[0;34m\u001b[0m\u001b[0m\n\u001b[1;32m      7\u001b[0m \u001b[0;31m###\u001b[0m\u001b[0;34m\u001b[0m\u001b[0;34m\u001b[0m\u001b[0;34m\u001b[0m\u001b[0m\n",
            "\u001b[0;31mRecursionError\u001b[0m: maximum recursion depth exceeded in comparison"
          ]
        }
      ]
    },
    {
      "cell_type": "markdown",
      "metadata": {
        "id": "fB5LHNGv9v_U"
      },
      "source": [
        "#### [Lab] 팩토리얼 함수(Factorial Function)\n",
        "\n",
        "* 팩토리얼(factorial) 함수는 대표적인 재귀 함수\n",
        "* 팩토리얼 함수: $n!=1 \\times 2 \\times 3 \\dots (n-2) \\times (n-1) \\times n = n! = n \\times (n-1)!$"
      ]
    },
    {
      "cell_type": "code",
      "metadata": {
        "id": "Mh_3nSfC9ggl",
        "colab": {
          "base_uri": "https://localhost:8080/",
          "height": 474
        },
        "outputId": "09831f95-293d-4b92-e7ff-2b750a3e43a1"
      },
      "source": [
        "def factorial(n):\n",
        "  if n == 1:\n",
        "    return 1\n",
        "  else:\n",
        "    return n * factorial(n - 1)\n",
        "  ###\n",
        "###\n",
        "\n",
        "print(factorial(3)) # 3 * 2 * 1\n",
        "print(factorial(5))\n",
        "print(factorial(10))\n",
        "print(factorial(100))\n",
        "print(factorial(1000))\n",
        "print(factorial(10000))"
      ],
      "execution_count": 44,
      "outputs": [
        {
          "output_type": "stream",
          "name": "stdout",
          "text": [
            "6\n",
            "120\n",
            "3628800\n",
            "93326215443944152681699238856266700490715968264381621468592963895217599993229915608941463976156518286253697920827223758251185210916864000000000000000000000000\n"
          ]
        },
        {
          "output_type": "error",
          "ename": "RecursionError",
          "evalue": "ignored",
          "traceback": [
            "\u001b[0;31m---------------------------------------------------------------------------\u001b[0m",
            "\u001b[0;31mRecursionError\u001b[0m                            Traceback (most recent call last)",
            "\u001b[0;32m<ipython-input-44-afb1e31ff02f>\u001b[0m in \u001b[0;36m<module>\u001b[0;34m()\u001b[0m\n\u001b[1;32m     11\u001b[0m \u001b[0mprint\u001b[0m\u001b[0;34m(\u001b[0m\u001b[0mfactorial\u001b[0m\u001b[0;34m(\u001b[0m\u001b[0;36m10\u001b[0m\u001b[0;34m)\u001b[0m\u001b[0;34m)\u001b[0m\u001b[0;34m\u001b[0m\u001b[0;34m\u001b[0m\u001b[0m\n\u001b[1;32m     12\u001b[0m \u001b[0mprint\u001b[0m\u001b[0;34m(\u001b[0m\u001b[0mfactorial\u001b[0m\u001b[0;34m(\u001b[0m\u001b[0;36m100\u001b[0m\u001b[0;34m)\u001b[0m\u001b[0;34m)\u001b[0m\u001b[0;34m\u001b[0m\u001b[0;34m\u001b[0m\u001b[0m\n\u001b[0;32m---> 13\u001b[0;31m \u001b[0mprint\u001b[0m\u001b[0;34m(\u001b[0m\u001b[0mfactorial\u001b[0m\u001b[0;34m(\u001b[0m\u001b[0;36m1000\u001b[0m\u001b[0;34m)\u001b[0m\u001b[0;34m)\u001b[0m\u001b[0;34m\u001b[0m\u001b[0;34m\u001b[0m\u001b[0m\n\u001b[0m\u001b[1;32m     14\u001b[0m \u001b[0mprint\u001b[0m\u001b[0;34m(\u001b[0m\u001b[0mfactorial\u001b[0m\u001b[0;34m(\u001b[0m\u001b[0;36m10000\u001b[0m\u001b[0;34m)\u001b[0m\u001b[0;34m)\u001b[0m\u001b[0;34m\u001b[0m\u001b[0;34m\u001b[0m\u001b[0m\n",
            "\u001b[0;32m<ipython-input-44-afb1e31ff02f>\u001b[0m in \u001b[0;36mfactorial\u001b[0;34m(n)\u001b[0m\n\u001b[1;32m      3\u001b[0m     \u001b[0;32mreturn\u001b[0m \u001b[0;36m1\u001b[0m\u001b[0;34m\u001b[0m\u001b[0;34m\u001b[0m\u001b[0m\n\u001b[1;32m      4\u001b[0m   \u001b[0;32melse\u001b[0m\u001b[0;34m:\u001b[0m\u001b[0;34m\u001b[0m\u001b[0;34m\u001b[0m\u001b[0m\n\u001b[0;32m----> 5\u001b[0;31m     \u001b[0;32mreturn\u001b[0m \u001b[0mn\u001b[0m \u001b[0;34m*\u001b[0m \u001b[0mfactorial\u001b[0m\u001b[0;34m(\u001b[0m\u001b[0mn\u001b[0m \u001b[0;34m-\u001b[0m \u001b[0;36m1\u001b[0m\u001b[0;34m)\u001b[0m\u001b[0;34m\u001b[0m\u001b[0;34m\u001b[0m\u001b[0m\n\u001b[0m\u001b[1;32m      6\u001b[0m   \u001b[0;31m###\u001b[0m\u001b[0;34m\u001b[0m\u001b[0;34m\u001b[0m\u001b[0;34m\u001b[0m\u001b[0m\n\u001b[1;32m      7\u001b[0m \u001b[0;31m###\u001b[0m\u001b[0;34m\u001b[0m\u001b[0;34m\u001b[0m\u001b[0;34m\u001b[0m\u001b[0m\n",
            "... last 1 frames repeated, from the frame below ...\n",
            "\u001b[0;32m<ipython-input-44-afb1e31ff02f>\u001b[0m in \u001b[0;36mfactorial\u001b[0;34m(n)\u001b[0m\n\u001b[1;32m      3\u001b[0m     \u001b[0;32mreturn\u001b[0m \u001b[0;36m1\u001b[0m\u001b[0;34m\u001b[0m\u001b[0;34m\u001b[0m\u001b[0m\n\u001b[1;32m      4\u001b[0m   \u001b[0;32melse\u001b[0m\u001b[0;34m:\u001b[0m\u001b[0;34m\u001b[0m\u001b[0;34m\u001b[0m\u001b[0m\n\u001b[0;32m----> 5\u001b[0;31m     \u001b[0;32mreturn\u001b[0m \u001b[0mn\u001b[0m \u001b[0;34m*\u001b[0m \u001b[0mfactorial\u001b[0m\u001b[0;34m(\u001b[0m\u001b[0mn\u001b[0m \u001b[0;34m-\u001b[0m \u001b[0;36m1\u001b[0m\u001b[0;34m)\u001b[0m\u001b[0;34m\u001b[0m\u001b[0;34m\u001b[0m\u001b[0m\n\u001b[0m\u001b[1;32m      6\u001b[0m   \u001b[0;31m###\u001b[0m\u001b[0;34m\u001b[0m\u001b[0;34m\u001b[0m\u001b[0;34m\u001b[0m\u001b[0m\n\u001b[1;32m      7\u001b[0m \u001b[0;31m###\u001b[0m\u001b[0;34m\u001b[0m\u001b[0;34m\u001b[0m\u001b[0;34m\u001b[0m\u001b[0m\n",
            "\u001b[0;31mRecursionError\u001b[0m: maximum recursion depth exceeded in comparison"
          ]
        }
      ]
    },
    {
      "cell_type": "markdown",
      "metadata": {
        "id": "zxfnzzyh_CVn"
      },
      "source": [
        "### 람다 함수(Lambda Function)\n",
        "\n",
        "* 함수를 한 줄로 간결하게 만들어 사용"
      ]
    },
    {
      "cell_type": "code",
      "metadata": {
        "id": "Dm05soHF-7O1",
        "colab": {
          "base_uri": "https://localhost:8080/"
        },
        "outputId": "43f383ef-ea76-4abb-9d14-76d3170ba742"
      },
      "source": [
        "def add(n1, n2):\n",
        "  return n1 + n2\n",
        "###\n",
        "\n",
        "print(add(5, 8))\n",
        "\n",
        "#람다함수 정의\n",
        "add2 = lambda n1, n2 : n1 + n2\n",
        "print(add2(5, 8))\n",
        "\n",
        "def add3(n1, n2):\n",
        "  return lambda n1, n2: n1 + n2\n",
        "###\n",
        "print(add3(5, 8))\n",
        "\n",
        "def add4(n1, n2):\n",
        "  return (lambda n1, n2: n1 + n2)\n",
        "###\n",
        "print(add4(5, 8))\n",
        "\n",
        "def add4(n11, n21):\n",
        "  return (lambda n1 = n11, n2 = n21: n1 + n2)\n",
        "###\n",
        "print(add4(5, 8))\n",
        "\n",
        "##결국 아래와 같이 호출해야 한다.함수의 인자는 함수이름() 다음에 (인자1, 인자2) 이기 때문입니다.\n",
        "def add5(n1, n2):\n",
        "  return (lambda n1, n2: n1 + n2)(n1, n2)\n",
        "###\n",
        "print(add5(5, 8))\n",
        "\n",
        "\n",
        "#아래와 형태도 가능\n",
        "print((lambda n1, n2: n1 + n2)(5, 8))"
      ],
      "execution_count": 54,
      "outputs": [
        {
          "output_type": "stream",
          "name": "stdout",
          "text": [
            "13\n",
            "13\n",
            "<function add3.<locals>.<lambda> at 0x7fa083897a70>\n",
            "<function add4.<locals>.<lambda> at 0x7fa083897320>\n",
            "<function add4.<locals>.<lambda> at 0x7fa0838970e0>\n",
            "13\n",
            "13\n"
          ]
        }
      ]
    },
    {
      "cell_type": "markdown",
      "metadata": {
        "id": "Rwi3kI22_tMu"
      },
      "source": [
        "#### map()\n",
        "\n",
        "* `map()`: built-in 함수로 list 나 dictionary 와 같은 iterable 한 데이터를 인자로 받아 list 안의 개별 item을 함수의 인자로 전달하여 결과를 list로 형태로 반환해 주는 함수\n",
        "* 람다 함수와 `map()` 함수를 이용한 리스트 계산"
      ]
    },
    {
      "cell_type": "code",
      "metadata": {
        "id": "1TajyYRT_Sld",
        "colab": {
          "base_uri": "https://localhost:8080/"
        },
        "outputId": "fda3e960-82d9-4e9d-fb3a-debd131c12a1"
      },
      "source": [
        "li = [1, 2, 3, 4, 5]\n",
        "square = lambda n : n * n\n",
        "li2 = list(map(square, li))\n",
        "print(li2)"
      ],
      "execution_count": 61,
      "outputs": [
        {
          "output_type": "stream",
          "name": "stdout",
          "text": [
            "[1, 4, 9, 16, 25]\n"
          ]
        }
      ]
    },
    {
      "cell_type": "code",
      "metadata": {
        "id": "u4rA2lJm_rAM",
        "outputId": "69b0048d-3eed-48ec-897c-c466c9756823",
        "colab": {
          "base_uri": "https://localhost:8080/"
        }
      },
      "source": [
        "li3 = [1, 2, 3, 4, 5, 6, 7, 8, 9, 10]\n",
        "li4 = list(map(lambda n : n * n, li3))  #li3은 원래 리스트인데 map()가 값을 하나씩 끄집어 내어주는 역할\n",
        "print(li4)"
      ],
      "execution_count": 62,
      "outputs": [
        {
          "output_type": "stream",
          "name": "stdout",
          "text": [
            "[1, 4, 9, 16, 25, 36, 49, 64, 81, 100]\n"
          ]
        }
      ]
    },
    {
      "cell_type": "code",
      "metadata": {
        "id": "b3EB-KD7_9wu",
        "outputId": "fb5b0b90-7660-4e07-cf3c-eec4f015ec50",
        "colab": {
          "base_uri": "https://localhost:8080/"
        }
      },
      "source": [
        "li5 = [1, 2, 3, 4, 5, 6, 7, 8, 9, 10]\n",
        "print(list(map(lambda n : n, li5)))  #li3은 원래 리스트인데 map()가 값을 하나씩 끄집어 내어주는 역할"
      ],
      "execution_count": 64,
      "outputs": [
        {
          "output_type": "stream",
          "name": "stdout",
          "text": [
            "[1, 2, 3, 4, 5, 6, 7, 8, 9, 10]\n"
          ]
        }
      ]
    },
    {
      "cell_type": "code",
      "metadata": {
        "id": "tSiiIydTABWe",
        "colab": {
          "base_uri": "https://localhost:8080/"
        },
        "outputId": "16f9b5dd-3c6e-4d89-c06c-838141487ae5"
      },
      "source": [
        "li_1 = [1, 2, 3, 4, 5]\n",
        "li_2 = [6, 7, 8, 9,10]\n",
        "\n",
        "li_3 = list(map((lambda n_1, n_2 : n_1 + n_2), li_1, li_2))\n",
        "print(li_3)"
      ],
      "execution_count": 67,
      "outputs": [
        {
          "output_type": "stream",
          "name": "stdout",
          "text": [
            "[7, 9, 11, 13, 15]\n"
          ]
        }
      ]
    },
    {
      "cell_type": "markdown",
      "metadata": {
        "id": "GjjDPmSgGST7"
      },
      "source": [
        "### filter()\n",
        "\n",
        "* `filter()` 함수: iterable 한 데이터를 인자로 개별 item을 특정 조건에 해당하는 값으로만 필터링\n",
        "* 람다 함수와 `filter()` 함수를 이용한 리스트 필터링"
      ]
    },
    {
      "cell_type": "code",
      "metadata": {
        "id": "Uplpmb0kGMVt"
      },
      "source": [
        ""
      ],
      "execution_count": null,
      "outputs": []
    },
    {
      "cell_type": "markdown",
      "metadata": {
        "id": "upgP4WxEG347"
      },
      "source": [
        "### reduce()\n",
        "\n",
        "* reduce() 함수: iterable 한 데이터를 인자로 받아 개별 item을 축약하여 하나의 값으로 만들어 가는 과정\n",
        "* 람다 함수와 reduce() 함수를 이용한 리스트 계산"
      ]
    },
    {
      "cell_type": "code",
      "metadata": {
        "id": "7-O3VyyYGexM"
      },
      "source": [
        ""
      ],
      "execution_count": null,
      "outputs": []
    },
    {
      "cell_type": "markdown",
      "metadata": {
        "id": "QJg6wYdSHKFh"
      },
      "source": [
        "## 제너레이터(generator)와 yield\n",
        "\n",
        "* 함수 안에서 yield를 사용하면 제너레이터\n",
        "* yield: 함수를 끝내지 않고 값을 계속 반환"
      ]
    },
    {
      "cell_type": "code",
      "metadata": {
        "id": "iI142ekSHH5z"
      },
      "source": [
        ""
      ],
      "execution_count": null,
      "outputs": []
    },
    {
      "cell_type": "code",
      "metadata": {
        "id": "aVpEaM_jHX0_"
      },
      "source": [
        ""
      ],
      "execution_count": null,
      "outputs": []
    },
    {
      "cell_type": "code",
      "metadata": {
        "id": "phpfTn9gHeUy"
      },
      "source": [
        ""
      ],
      "execution_count": null,
      "outputs": []
    },
    {
      "cell_type": "markdown",
      "metadata": {
        "id": "vCwxB_lyIv5D"
      },
      "source": [
        "### [Lab] 짝수만 생성하는 제너레이터\n",
        "\n",
        "* 0 ~ n개의 숫자 중에서 짝수만 생성하는 제너레이터 함수 생성"
      ]
    },
    {
      "cell_type": "code",
      "metadata": {
        "id": "U3T8U0tpItDl"
      },
      "source": [
        ""
      ],
      "execution_count": null,
      "outputs": []
    }
  ]
}