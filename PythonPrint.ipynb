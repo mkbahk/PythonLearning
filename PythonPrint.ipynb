{
  "nbformat": 4,
  "nbformat_minor": 0,
  "metadata": {
    "colab": {
      "provenance": [],
      "authorship_tag": "ABX9TyPYJyMGkngAa/3rI1WCpl85",
      "include_colab_link": true
    },
    "kernelspec": {
      "name": "python3",
      "display_name": "Python 3"
    },
    "language_info": {
      "name": "python"
    }
  },
  "cells": [
    {
      "cell_type": "markdown",
      "metadata": {
        "id": "view-in-github",
        "colab_type": "text"
      },
      "source": [
        "<a href=\"https://colab.research.google.com/github/mkbahk/PythonLearning/blob/main/PythonPrint.ipynb\" target=\"_parent\"><img src=\"https://colab.research.google.com/assets/colab-badge.svg\" alt=\"Open In Colab\"/></a>"
      ]
    },
    {
      "cell_type": "code",
      "execution_count": 7,
      "metadata": {
        "colab": {
          "base_uri": "https://localhost:8080/"
        },
        "id": "urqSUyXj2hiD",
        "outputId": "ad1244ac-6f44-4696-a219-cc95f4826dc2"
      },
      "outputs": [
        {
          "output_type": "stream",
          "name": "stdout",
          "text": [
            "Bahk, Moon-Kee : 52\n",
            "Bahk, Moon-Kee : 52\n",
            "Bahk, Moon-Kee : 52\n",
            "Bahk, Moon-Kee : 52\n",
            "Bahk, Moon-Kee : 52\n"
          ]
        }
      ],
      "source": [
        "name = 'Bahk, Moon-Kee'\n",
        "age = 52\n",
        "\n",
        "print(name + ' : ' + str(age))\n",
        "print(name, ':' ,age)\n",
        "print(f'{name} : {age}')\n",
        "print('%s : %s' % (name, age))\n",
        "print('{} : {}'.format(name, str(age)))"
      ]
    }
  ]
}