{
  "nbformat": 4,
  "nbformat_minor": 0,
  "metadata": {
    "colab": {
      "name": "_03 문자열.ipynb",
      "provenance": [],
      "collapsed_sections": [],
      "toc_visible": true,
      "include_colab_link": true
    },
    "kernelspec": {
      "name": "python3",
      "display_name": "Python 3"
    }
  },
  "cells": [
    {
      "cell_type": "markdown",
      "metadata": {
        "id": "view-in-github",
        "colab_type": "text"
      },
      "source": [
        "<a href=\"https://colab.research.google.com/github/mkbahk/PythonLearning/blob/main/_03_%EB%AC%B8%EC%9E%90%EC%97%B4.ipynb\" target=\"_parent\"><img src=\"https://colab.research.google.com/assets/colab-badge.svg\" alt=\"Open In Colab\"/></a>"
      ]
    },
    {
      "cell_type": "markdown",
      "metadata": {
        "id": "bg5ZXMV2sn1M"
      },
      "source": [
        "# 문자열(String)"
      ]
    },
    {
      "cell_type": "markdown",
      "metadata": {
        "id": "Lj_iZPKnCRP0"
      },
      "source": [
        "\n",
        "\n",
        "---\n",
        "\n"
      ]
    },
    {
      "cell_type": "markdown",
      "metadata": {
        "id": "E3Cd7WwAxDxm"
      },
      "source": [
        "## 문자열 정의\n"
      ]
    },
    {
      "cell_type": "code",
      "metadata": {
        "id": "YLGtw6y5iHPK",
        "colab": {
          "base_uri": "https://localhost:8080/"
        },
        "outputId": "37ce0bfb-390f-457f-b618-1955d1b2bd0f"
      },
      "source": [
        "s = \"String\"\n",
        "print(s)\n",
        "print(s[0])\n",
        "print(s[1])\n",
        "print(s[2])\n",
        "print(s[3])\n",
        "print(s[4])\n",
        "print(s[5])"
      ],
      "execution_count": 3,
      "outputs": [
        {
          "output_type": "stream",
          "name": "stdout",
          "text": [
            "String\n",
            "S\n",
            "t\n",
            "r\n",
            "i\n",
            "n\n",
            "g\n"
          ]
        }
      ]
    },
    {
      "cell_type": "markdown",
      "metadata": {
        "id": "V_VUNpzCW8wG"
      },
      "source": [
        "* 파이선은 Unicode 지원으로 각국의 모든 문자들을 저장 및 표현가능"
      ]
    },
    {
      "cell_type": "code",
      "metadata": {
        "id": "1t41e-64iKjc",
        "colab": {
          "base_uri": "https://localhost:8080/"
        },
        "outputId": "a4caa5d3-14b3-4986-e6f5-1894ffd86b15"
      },
      "source": [
        "s= \"문자열\"\n",
        "print(s)\n",
        "print(s[0])\n",
        "print(s[1])\n",
        "print(s[2])"
      ],
      "execution_count": 5,
      "outputs": [
        {
          "output_type": "stream",
          "name": "stdout",
          "text": [
            "문자열\n",
            "문\n",
            "자\n",
            "열\n"
          ]
        }
      ]
    },
    {
      "cell_type": "markdown",
      "metadata": {
        "id": "aKsMBDZohTu4"
      },
      "source": [
        "## 문자열 생성\n",
        "\n",
        "* 파이썬에서 문자열은 작은따옴표(') 또는 큰 따옴표(\")로 표현\n"
      ]
    },
    {
      "cell_type": "code",
      "metadata": {
        "id": "qLh1E-1_hxR_",
        "colab": {
          "base_uri": "https://localhost:8080/"
        },
        "outputId": "d17d604f-a332-4b27-da2d-9eb012f5b17d"
      },
      "source": [
        "print('Hello')\n",
        "print(\"파이선은 재미있다.\")\n",
        "print('''파이선은 심플하다.''')\n",
        "print(\"\"\"파이선은 문자열처리가 뛰어나다\"\"\")"
      ],
      "execution_count": 7,
      "outputs": [
        {
          "output_type": "stream",
          "name": "stdout",
          "text": [
            "Hello\n",
            "파이선은 재미있다.\n",
            "파이선은 심플하다.\n",
            "파이선은 문자열처리가 뛰어나다\n"
          ]
        }
      ]
    },
    {
      "cell_type": "markdown",
      "metadata": {
        "id": "z250OOXBirgb"
      },
      "source": [
        "### 따옴표가 있는 문자열 생성\n",
        "\n",
        "* 문자열에 작은따옴표가 있을 경우, 큰따옴표로 둘러싸서 표현\n",
        "* 문자열에 큰따옴표가 있을 경우, 작은따옴표로 둘러싸서 표현\n",
        "* 이스케이프 코드 \\를 이용하여 작은따옴표(‘)와 큰따옴표(“)를 문자열에 포함"
      ]
    },
    {
      "cell_type": "code",
      "metadata": {
        "id": "JYNKaVT0i0aF",
        "colab": {
          "base_uri": "https://localhost:8080/"
        },
        "outputId": "1fac07fe-6fa7-4364-f392-ed6303e49623"
      },
      "source": [
        "print(\"'따옴표 포함'\")\n",
        "string = \"Python's built-in string classes\"\n",
        "print(string)\n",
        "\n",
        "string2 = '모두가 \"파이선은 아주 쉽다라고 생각한다.\"'\n",
        "print(string2)\n",
        "\n",
        "string3 = 'Python\\'s built-in string classes'\n",
        "print(string3)"
      ],
      "execution_count": 16,
      "outputs": [
        {
          "output_type": "stream",
          "name": "stdout",
          "text": [
            "'따옴표 포함'\n",
            "Python's built-in string classes\n",
            "모두가 \"파이선은 아주 쉽다라고 생각한다.\"\n",
            "Python's built-in string classes\n"
          ]
        }
      ]
    },
    {
      "cell_type": "markdown",
      "metadata": {
        "id": "kwEa0RTuZ94y"
      },
      "source": [
        "## 이스케이프 문자(Escape Character)\n",
        "* 특수문자\n",
        "* 문자앞에 백슬래시(\\)를 사용\n",
        "* 문자열에서 특수문자를 표현하는데 사용\n",
        "\n",
        "![스크린샷 2021-10-12 오전 7.12.50.png](data:image/png;base64,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)"
      ]
    },
    {
      "cell_type": "markdown",
      "metadata": {
        "id": "rM5rFj7nnx6Z"
      },
      "source": [
        "### 여러 줄이 있는 문자열 생성\n",
        "\n",
        "* 이스케이프 문자(\\\\n)를 이용하여 여러 줄이 있는 문자열 생성 가능"
      ]
    },
    {
      "cell_type": "code",
      "metadata": {
        "id": "XWqwisIai6ot",
        "colab": {
          "base_uri": "https://localhost:8080/"
        },
        "outputId": "eac797c5-55c8-40db-ea0d-2f0fa1788e5f"
      },
      "source": [
        "text = \"동해물과 백두산이 마르고 닳도록\\n하느님이 보우하사 우리나라 만세\\n무궁화 삼천리 화려강산 대한사람 \\n대한으로 길이 보전하세.\"\n",
        "print(text)"
      ],
      "execution_count": 20,
      "outputs": [
        {
          "output_type": "stream",
          "name": "stdout",
          "text": [
            "동해물과 백두산이 마르고 닳도록\n",
            "하느님이 보우하사 우리나라 만세\n",
            "무궁화 삼천리 화려강산 대한사람 \n",
            "대한으로 길이 보전하세.\n"
          ]
        }
      ]
    },
    {
      "cell_type": "markdown",
      "metadata": {
        "id": "IKC5jvDpoGAT"
      },
      "source": [
        "* 작은 따옴표 3개 또는 큰 따옴표 3개를 이용하여 여러 줄이 있는 문자열 생성"
      ]
    },
    {
      "cell_type": "code",
      "metadata": {
        "id": "pgxgO7QwoDH8",
        "colab": {
          "base_uri": "https://localhost:8080/"
        },
        "outputId": "fc99c9c8-0b5a-44d3-ab38-b2ae8700e26c"
      },
      "source": [
        "text2 = \"\"\"동해물과 백두산이 마르고 닳도록\n",
        "하느님이 보우하사 우리나라 만세\n",
        "무궁화 삼천리 화려강산 대한사람\n",
        "대한으로 길이 보전하세.\"\"\"\n",
        "\n",
        "print(text2)"
      ],
      "execution_count": 25,
      "outputs": [
        {
          "output_type": "stream",
          "name": "stdout",
          "text": [
            "동해물과 백두산이 마르고 닳도록\n",
            "하느님이 보우하사 우리나라 만세\n",
            "무궁화 삼천리 화려강산 대한사람\n",
            "대한으로 길이 보전하세.\n"
          ]
        }
      ]
    },
    {
      "cell_type": "markdown",
      "metadata": {
        "id": "PzXHy8FxoW5l"
      },
      "source": [
        "\n",
        "\n",
        "---\n",
        "\n"
      ]
    },
    {
      "cell_type": "markdown",
      "metadata": {
        "id": "d38eO6_roX5E"
      },
      "source": [
        "## 문자열 연산(String Operators)"
      ]
    },
    {
      "cell_type": "markdown",
      "metadata": {
        "id": "SP7ztoZhXRV4"
      },
      "source": [
        "### 문자열 더하기\n",
        "\n",
        "+ 연산자를 사용하여 문자열 연결\n"
      ]
    },
    {
      "cell_type": "code",
      "metadata": {
        "id": "ZuecZ1D2oPnq",
        "colab": {
          "base_uri": "https://localhost:8080/"
        },
        "outputId": "c8918bf1-1783-4f99-eb04-85c085f03aa9"
      },
      "source": [
        "s1 = \"동해물과 \"\n",
        "s2 = \"백두산이 \"\n",
        "print(s1, s2)\n",
        "print(s1+s2)"
      ],
      "execution_count": 27,
      "outputs": [
        {
          "output_type": "stream",
          "name": "stdout",
          "text": [
            "동해물과  백두산이 \n",
            "동해물과 백두산이 \n"
          ]
        }
      ]
    },
    {
      "cell_type": "markdown",
      "metadata": {
        "id": "0CPt-XMbvjWx"
      },
      "source": [
        "### 문자열 곱하기\n",
        "\n",
        "* \\* 연산자를 사용하여 문자열 반복\n"
      ]
    },
    {
      "cell_type": "code",
      "metadata": {
        "id": "tmpi5CMDolHd",
        "colab": {
          "base_uri": "https://localhost:8080/"
        },
        "outputId": "97115087-ea02-4f93-fc2c-aead0e92a4dd"
      },
      "source": [
        "s = \"String \"\n",
        "print(s * 3)"
      ],
      "execution_count": 28,
      "outputs": [
        {
          "output_type": "stream",
          "name": "stdout",
          "text": [
            "String String String \n"
          ]
        }
      ]
    },
    {
      "cell_type": "markdown",
      "metadata": {
        "id": "pjKywfKlvvp5"
      },
      "source": [
        "### 문자열 길이(length)\n",
        "\n",
        "* 문자열 길이를 구하는 `len()` 함수"
      ]
    },
    {
      "cell_type": "code",
      "metadata": {
        "id": "vKff0qQdvtqh",
        "colab": {
          "base_uri": "https://localhost:8080/"
        },
        "outputId": "8490ea75-db1d-46d4-b897-2a09621d4925"
      },
      "source": [
        "print(len(s))\n",
        "print(len(s * 3))"
      ],
      "execution_count": 30,
      "outputs": [
        {
          "output_type": "stream",
          "name": "stdout",
          "text": [
            "7\n",
            "21\n"
          ]
        }
      ]
    },
    {
      "cell_type": "markdown",
      "metadata": {
        "id": "QaeVCcgnv_lD"
      },
      "source": [
        "### 문자열 인덱싱(indexing)\n",
        "\n",
        "* 문자열은 리스트처럼 문자 하나하나가 상대적인 주소(offset)를 가짐\n",
        "* 이 주소를 사용해 할당된 값을 가져오는 인덱싱을 사용\n",
        "\n",
        "![스크린샷 2021-10-12 오전 7.27.05.png](data:image/png;base64,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)"
      ]
    },
    {
      "cell_type": "code",
      "metadata": {
        "id": "yuYQOYe3v5iF",
        "colab": {
          "base_uri": "https://localhost:8080/"
        },
        "outputId": "c81b4a52-44d7-4908-c8a9-bd8b70073f80"
      },
      "source": [
        "s = \"String\"\n",
        "print(s)\n",
        "print(s[0])\n",
        "print(s[1])\n",
        "print(s[2])\n",
        "print(s[3])\n",
        "print(s[4])\n",
        "print(s[5])\n",
        "print(s[-6])\n",
        "print(s[-5])\n",
        "print(s[-4])\n",
        "print(s[-3])\n",
        "print(s[-2])\n",
        "print(s[-1])"
      ],
      "execution_count": 31,
      "outputs": [
        {
          "output_type": "stream",
          "name": "stdout",
          "text": [
            "String\n",
            "S\n",
            "t\n",
            "r\n",
            "i\n",
            "n\n",
            "g\n",
            "S\n",
            "t\n",
            "r\n",
            "i\n",
            "n\n",
            "g\n"
          ]
        }
      ]
    },
    {
      "cell_type": "markdown",
      "metadata": {
        "id": "zcTUuycAw7np"
      },
      "source": [
        "### 문자열 슬라이싱(slicing)\n",
        "\n",
        "* 문자열의 주소를 이용하여 문자열을 조각(부분)을 추출"
      ]
    },
    {
      "cell_type": "code",
      "metadata": {
        "id": "JJUbjwcgw6PG",
        "colab": {
          "base_uri": "https://localhost:8080/"
        },
        "outputId": "d525fff7-8779-46e4-d9a2-d97963db5aae"
      },
      "source": [
        "s = \"SuanLab - Suan Computer Laboratory\"\n",
        "print(s)\n",
        "print(s[0:7])\n",
        "print(s[:7])\n",
        "print(s[10:])\n",
        "print(s[-10:])\n",
        "print(s[-19:-11])"
      ],
      "execution_count": 39,
      "outputs": [
        {
          "output_type": "stream",
          "name": "stdout",
          "text": [
            "SuanLab - Suan Computer Laboratory\n",
            "SuanLab\n",
            "SuanLab\n",
            "Suan Computer Laboratory\n",
            "Laboratory\n",
            "Computer\n"
          ]
        }
      ]
    },
    {
      "cell_type": "markdown",
      "metadata": {
        "id": "-drrAXi3xY3y"
      },
      "source": [
        "\n",
        "\n",
        "---\n",
        "\n"
      ]
    },
    {
      "cell_type": "markdown",
      "metadata": {
        "id": "ZYyzer0TxVll"
      },
      "source": [
        "## 문자열 메소드(String Methods)\n"
      ]
    },
    {
      "cell_type": "markdown",
      "metadata": {
        "id": "5VO3DGMAyxHc"
      },
      "source": [
        "### capitalize() / casefold()\n",
        "\n",
        "* 문자열 \"string\"에 대해 `capitalize()`를 실행하면, 첫 문자가 대문자인 \"String\" 문자열로 변환\n",
        "* 문자열 \"String\"에 대해 `casefold()`를 실행하면, 모든 문자가 소문자인 \"string\" 문자열로 변환"
      ]
    },
    {
      "cell_type": "code",
      "metadata": {
        "id": "cXTaqtYbxNb3"
      },
      "source": [
        ""
      ],
      "execution_count": null,
      "outputs": []
    },
    {
      "cell_type": "markdown",
      "metadata": {
        "id": "XE4t6o1f0haA"
      },
      "source": [
        "### count()\n",
        "\n",
        "* 문자열 \"string string\"에 포함된 문자 's'의 갯수를 반환하도록 `count()`를 실행\n",
        "* 문자 's'가 총 2개 존재하므로 2를 반환\n",
        "* 부분 문자열 \"str\"이 몇개인지 반환하는 것도 가능하고, 부분 문자열 \"str\"이 총 2개 존재하므로 2를 반환"
      ]
    },
    {
      "cell_type": "code",
      "metadata": {
        "id": "4o34mT_N0UDY"
      },
      "source": [
        ""
      ],
      "execution_count": null,
      "outputs": []
    },
    {
      "cell_type": "markdown",
      "metadata": {
        "id": "8k0mftqo0yVe"
      },
      "source": [
        "### find() / rfind()\n",
        "\n",
        "* 문자열 \"string string\"에서 문자 's'의 해당 위치를 `find()`를 통해 반환\n",
        "* 문자열 \"string string\"에서 부분 문자열 \"ing\"의 해당 위치를 `find()`를 통해 반환\n",
        "* 문자열 \"string string\"에서 문자 's'를 해당 위치를 `rfind()`를 통해 오른쪽부터 탐색하여 가장 큰 인덱스를 반환\n",
        "* 문자열 \"string string\"에서 부분 문자열 \"ring\"를 해당 위치를 `rfind()`를 통해 오른쪽부터 탐색하여 가장 큰 인덱스를 반환"
      ]
    },
    {
      "cell_type": "code",
      "metadata": {
        "id": "1TDT5Akz0nQn"
      },
      "source": [
        ""
      ],
      "execution_count": null,
      "outputs": []
    },
    {
      "cell_type": "markdown",
      "metadata": {
        "id": "T9p8ylMq1-u7"
      },
      "source": [
        "### index() / rindex()\n",
        "\n",
        "* 문자열 \"string string\"에서 문자 's'의 해당 위치를 `index()`를 통해 반환\n",
        "* 문자열 \"string string\"에서 부분 문자열 \"ing\"의 해당 위치를 `index()`를 통해 반환\n",
        "* 문자열 \"string string\"에서 문자 's'를 해당 위치를 `rindex()`를 통해 오른쪽부터 탐색하여 가장 큰 인덱스를 반환\n",
        "* 문자열 \"string string\"에서 부분 문자열 \"ring\"를 해당 위치를 `rindex()`를 통해 오른쪽부터 탐색하여 가장 큰 인덱스를 반환\n",
        "* 문자열 \"string string\"에서 문자 'z'를 해당 위치를 `rindex()` 함수를 통해 오른쪽부터 탐색하지만 찾을 수 없어서 'ValueError' 발생"
      ]
    },
    {
      "cell_type": "code",
      "metadata": {
        "id": "tzp-p20519Bv"
      },
      "source": [
        ""
      ],
      "execution_count": null,
      "outputs": []
    },
    {
      "cell_type": "markdown",
      "metadata": {
        "id": "prav01jjje_G"
      },
      "source": [
        "### isalnum()\n",
        "\n",
        "* `isalnum()`은 문자열에 알파벳이나 숫자가 1개 이상 있으면 True 반환\n",
        "* 문자열 \"string\"은 알파벳으로 구성 되었으므로 True 반환\n",
        "* 문자열 \"한글\"은 알파벳으로 구성 되어있으므로 True 반환\n",
        "* 문자열 \"!@#\"은 특수기호로 구성 되어있으므로 False 반환\n",
        "* 문자열 \"123\"은 숫자들로 구성 되어있으므로 True 반환"
      ]
    },
    {
      "cell_type": "code",
      "metadata": {
        "id": "6H6gBF44DIke"
      },
      "source": [
        ""
      ],
      "execution_count": null,
      "outputs": []
    },
    {
      "cell_type": "markdown",
      "metadata": {
        "id": "eHIt6rNFYCGE"
      },
      "source": [
        "### isalpha()\n",
        "\n",
        "* `isalpha()`는 문자열에 알파벳이 1개 이상 있으면 True 반환\n",
        "* 문자열 \"string\"은 알파벳으로 구성 되었으므로 True 반환\n",
        "* 문자열 \"한글\"은 알파벳으로 구성 되어있으므로 True 반환\n",
        "* 문자열 \"!@#\"은 특수기호로 구성 되어있으므로 False 반환\n",
        "* 문자열 \"123\"은 숫자들로 구성 되어있으므로 Flase 반환"
      ]
    },
    {
      "cell_type": "code",
      "metadata": {
        "id": "_dFo8ynlmd_B"
      },
      "source": [
        ""
      ],
      "execution_count": null,
      "outputs": []
    },
    {
      "cell_type": "markdown",
      "metadata": {
        "id": "_WGNBgfilCZg"
      },
      "source": [
        "### isdecimal()\n",
        "\n",
        "* `isdecimal()`는 문자열의 모든 문자가 10진수 문자이면 True 반환\n",
        "* 문자열 \"123\"은 모두 10진수 문자열이므로 True 반환\n",
        "* 문자열 \"1.23\"은 실수형 문자열이므로 False 반환"
      ]
    },
    {
      "cell_type": "code",
      "metadata": {
        "id": "E2kVKYNHjtlN"
      },
      "source": [
        ""
      ],
      "execution_count": null,
      "outputs": []
    },
    {
      "cell_type": "markdown",
      "metadata": {
        "id": "J0pJ-8T_Yhlx"
      },
      "source": [
        "### isdigit()\n",
        "\n",
        "* `isdigit()`는 문자열의 모든 문자가 숫자일 때 True 반환\n",
        "* 문자열 \"123\"은 모든 문자가 숫자에 해당하므로 True 반환\n",
        "* 문자열 \"1.23\"은 문자 중 숫자에 해당안되는 . 이 존재하여 False"
      ]
    },
    {
      "cell_type": "code",
      "metadata": {
        "id": "oOsCWfMhmjHo"
      },
      "source": [
        ""
      ],
      "execution_count": null,
      "outputs": []
    },
    {
      "cell_type": "markdown",
      "metadata": {
        "id": "2jPib-Z8ZAlj"
      },
      "source": [
        "### isnumeric()\n",
        "\n",
        "* `isnumeric()`는 문자열의 모든 문자가 수치형일 때 True 반환\n",
        "* 문자열 \"123\"은 모든 문자가 숫자에 해당하므로 True 반환\n",
        "* 문자열 \"1.23\"은 문자 중 수치형에 해당안되는 . 이 존재하여 False"
      ]
    },
    {
      "cell_type": "code",
      "metadata": {
        "id": "J5EsHyjfpidQ"
      },
      "source": [
        ""
      ],
      "execution_count": null,
      "outputs": []
    },
    {
      "cell_type": "markdown",
      "metadata": {
        "id": "krM9QrrEp5TB"
      },
      "source": [
        "### isidentifier()\n",
        "\n",
        "* `isidentifier()`는 문자열이 파이썬에서 사용하는 식별자인 경우 True 반환\n",
        "* 문자열 \"123\"은 식별자로 사용되지 않는 문자열이라서 False 반환\n",
        "* 문자열 \"True\"는 식별자로 사용되기 때문에 True 반환\n",
        "* 문자열 \"print\"는 식별자로 사용되기 때문에 True 반환"
      ]
    },
    {
      "cell_type": "code",
      "metadata": {
        "id": "ir5WknFUpO7r"
      },
      "source": [
        ""
      ],
      "execution_count": null,
      "outputs": []
    },
    {
      "cell_type": "markdown",
      "metadata": {
        "id": "jHm6aRyAlypa"
      },
      "source": [
        "### isspace()\n",
        "\n",
        "* 문자열 \" \"은 문자열 내에 공백 문자가 있어서 True 반환\n",
        "* 문자열 \" 1 \"은 문자열 내에 공백 아닌 문자가 있어서 False 반환"
      ]
    },
    {
      "cell_type": "code",
      "metadata": {
        "id": "x0Nmi2NtqQpI"
      },
      "source": [
        ""
      ],
      "execution_count": null,
      "outputs": []
    },
    {
      "cell_type": "markdown",
      "metadata": {
        "id": "SG3Odc9fIHpT"
      },
      "source": [
        "### istitle()\n",
        "\n",
        "* 문자열 \"String\"은 문자열 내에 제목과 같이 첫 글자가 대문자여서 True 반환\n",
        "* 문자열 \"STRING\"은 모든 문자가 대문자이기 때문에 False 반환"
      ]
    },
    {
      "cell_type": "code",
      "metadata": {
        "id": "c7eht5HErgrr"
      },
      "source": [
        ""
      ],
      "execution_count": null,
      "outputs": []
    },
    {
      "cell_type": "markdown",
      "metadata": {
        "id": "ctZKMIrHI8-A"
      },
      "source": [
        "### islower()\n",
        "\n",
        "* 문자열 \"string\"은 모든 문자가 소문자여서 True 반환\n",
        "* 문자열 \"String\"은 첫 문자가 대문자여서 False 반환"
      ]
    },
    {
      "cell_type": "code",
      "metadata": {
        "id": "xznSyZT9lzp5"
      },
      "source": [
        ""
      ],
      "execution_count": null,
      "outputs": []
    },
    {
      "cell_type": "markdown",
      "metadata": {
        "id": "KVnECEUXI_MN"
      },
      "source": [
        "### isupper() 함수\n",
        "\n",
        "* 문자열 \"STRING\"은 모든 문자가 대문자여서 True 반환\n",
        "* 문자열 \"String\"은 첫 문자만 대문자여서 False 반환"
      ]
    },
    {
      "cell_type": "code",
      "metadata": {
        "id": "ZAmXy2lCqIbi"
      },
      "source": [
        ""
      ],
      "execution_count": null,
      "outputs": []
    },
    {
      "cell_type": "markdown",
      "metadata": {
        "id": "mGdbqGsSr8Ee"
      },
      "source": [
        "### join()\n",
        "\n",
        "* 문자열 \"String\"에 대해서 `join()`으로 공백 문자 ' '를 문자 사이마다 추가한 문자열 \"S t r i n g\"을 반환\n",
        "* 문자열 \"String\"에 대해서 `join()` 으로 공백 문자 '_'를 문자 사이마다 추가한 문자열 \"S_t_r_i_n_g\"을 반환\n",
        "* 문자열 \"String\"에 대해서 `join()` 으로 공백 문자 '|'를 문자 사이마다 추가한 문자열 \"S|t|r|i|n|g\"을 반환"
      ]
    },
    {
      "cell_type": "code",
      "metadata": {
        "id": "A8tTe2l3rwLw"
      },
      "source": [
        ""
      ],
      "execution_count": null,
      "outputs": []
    },
    {
      "cell_type": "markdown",
      "metadata": {
        "id": "zDmq0ExIsdtu"
      },
      "source": [
        "### center() / ljust() / rjust()\n",
        "\n",
        "* 문자열 \"String\"에 대해서 `center()`를 사용하여 너비 10에 해당하는 문자열 길이에 가운데 정렬한 문자열 '  String  '로 변환\n",
        "* 문자열 \"String\"에 대해서 `ljust()`를 사용하여 너비 10에 해당하는 문자열 길이에 왼쪽 정렬한 문자열 'String    '로 변환\n",
        "* 문자열 \"String\"에 대해서 `rjust()`를 사용하여 너비 10에 해당하는 문자열 길이에 오른쪽 정렬한 문자열 '    String'로 변환"
      ]
    },
    {
      "cell_type": "code",
      "metadata": {
        "id": "sFA02kX3sf2q"
      },
      "source": [
        ""
      ],
      "execution_count": null,
      "outputs": []
    },
    {
      "cell_type": "markdown",
      "metadata": {
        "id": "-iP2QrFn0kWZ"
      },
      "source": [
        "### lower() / upper() / title() / swapcase()\n",
        "\n",
        "* 문자열 \"String\"을 `lower()`를 이용하여 모든 문자가 소문자로 변환된 \"string\" 반환\n",
        "* 문자열 \"String\"을 `upper()`를 이용하여 모든 문자가 대문자로 변환된 \"STRING\" 반환\n",
        "* 문자열 \"string\"을 `title()`를 이용하여 첫 문자가 대문자로 변환된 \"String\" 반환\n",
        "* 문자열 \"String\"을 `swapcase()`를 이용하여 대문자는 소문자로 변환되고 소문자는 대문자로 변환된 \"sTRING\" 반환\n"
      ]
    },
    {
      "cell_type": "code",
      "metadata": {
        "id": "K8JmvhjC0j-e"
      },
      "source": [
        ""
      ],
      "execution_count": null,
      "outputs": []
    },
    {
      "cell_type": "markdown",
      "metadata": {
        "id": "oyk35mDo1d2M"
      },
      "source": [
        "### strip() / lstrip() / rstrip()\n",
        "\n",
        "* 양쪽 공백이 포함된 문자열 \"  String  \"을 `strip()`를 통해 공백 제거\n",
        "* 양쪽 공백이 포함된 문자열 \"  String  \"을 `lstrip()`를 통해 왼쪽 공백 제거\n",
        "* 양쪽 공백이 포함된 문자열 \"  String  \"을 `rstrip()`를 통해 오른쪽 공백 제거"
      ]
    },
    {
      "cell_type": "code",
      "metadata": {
        "id": "Y8D90szl1YOa"
      },
      "source": [
        ""
      ],
      "execution_count": null,
      "outputs": []
    },
    {
      "cell_type": "markdown",
      "metadata": {
        "id": "zPLZHaXu7OYj"
      },
      "source": [
        "### partition() / rpartition()\n",
        "\n",
        "* 문자열 \"String\"을 `partition()`를 이용하여 문자 't' 기준으로 분할\n",
        "* 문자열 \"String String\"을 `rpartition()`를 이용하여 마지막 문자 'S'를 기준으로 분할"
      ]
    },
    {
      "cell_type": "code",
      "metadata": {
        "id": "fhmrvPHl4I6Q"
      },
      "source": [
        ""
      ],
      "execution_count": null,
      "outputs": []
    },
    {
      "cell_type": "markdown",
      "metadata": {
        "id": "8YF_Rheq7fe6"
      },
      "source": [
        "### replace()\n",
        "\n",
        "* 문자열 \"String\"을 `replace()`를 이용해 문자열 \"Str\"을 문자 'R'로 교체"
      ]
    },
    {
      "cell_type": "code",
      "metadata": {
        "id": "nNuELc1q7Wwf"
      },
      "source": [
        ""
      ],
      "execution_count": null,
      "outputs": []
    },
    {
      "cell_type": "markdown",
      "metadata": {
        "id": "rIP8GXbM7p3w"
      },
      "source": [
        "### split() / rsplit() / splitlines()\n",
        "\n",
        "* 문자열 \"1 2 3\"을 `split()`의 기본 구분자를 이용하여 '1', '2', '3' 으로 구분\n",
        "* 문자열 \"1_2_3\"을 `split()`으로 구분자 '_'를 이용하여 '1', '2', '3' 으로 구분\n",
        "* 문자열 \"1 2 3\"을 `rsplit()`으로 구분자 '_'를 이용하여 오른쪽부터 1번만 구분하여 '1_2', '3' 으로 구분\n",
        "* 문자열 \"123\\n123\\n123\\n\"을 `splitlines()` 함수를 이용하여 라인 단위로 구분하여 '123, '123, '123 반환"
      ]
    },
    {
      "cell_type": "code",
      "metadata": {
        "id": "Ns3ZMQJ17mv7"
      },
      "source": [
        ""
      ],
      "execution_count": null,
      "outputs": []
    },
    {
      "cell_type": "markdown",
      "metadata": {
        "id": "tx8dAOPm8DTv"
      },
      "source": [
        "### startswith() / endswith()\n",
        "\n",
        "* 문자열 \"String\"에서 시작 문자가 'S'인지 `startswith()`를 통해 확인\n",
        "* 문자열 \"String\"에서 마지막 문자가 'g'인지 `endswith()`를 통해 확인"
      ]
    },
    {
      "cell_type": "code",
      "metadata": {
        "id": "dNB3Da_x7587"
      },
      "source": [
        ""
      ],
      "execution_count": null,
      "outputs": []
    },
    {
      "cell_type": "markdown",
      "metadata": {
        "id": "OZatwJSe8Svd"
      },
      "source": [
        "### zfill()\n",
        "\n",
        "* 문자열 \"123\"에서 너비 8만큼으로 늘리고 비어있는 부분에 '0'이 채워진 문자열 \"00000123\" 반환"
      ]
    },
    {
      "cell_type": "code",
      "metadata": {
        "id": "rWqlvXJV8MJF"
      },
      "source": [
        ""
      ],
      "execution_count": null,
      "outputs": []
    },
    {
      "cell_type": "markdown",
      "metadata": {
        "id": "yjsh7OcA8fIu"
      },
      "source": [
        "\n",
        "\n",
        "---\n",
        "\n"
      ]
    },
    {
      "cell_type": "markdown",
      "metadata": {
        "id": "Og91a1bd8gd-"
      },
      "source": [
        "## 문자열 서식(String Format)\n"
      ]
    },
    {
      "cell_type": "markdown",
      "metadata": {
        "id": "U7QLYGjk8qbO"
      },
      "source": [
        "### 문자열 포맷팅(String Formatting)\n",
        "\n",
        "* 문자열 내에서 서식에 맞추어 특정 값을 삽입 또는 변경\n",
        "* 기호 % 뒤에 있는 값이 문자열 내의 서식에 순서대로 매핑"
      ]
    },
    {
      "cell_type": "code",
      "metadata": {
        "id": "_z3A1Rmu8Wex"
      },
      "source": [
        ""
      ],
      "execution_count": null,
      "outputs": []
    },
    {
      "cell_type": "markdown",
      "metadata": {
        "id": "PP32b9L3-eVL"
      },
      "source": [
        "### 정렬, 공백, 소수점 포맷\n",
        "\n",
        "* 포맷 문자 앞에 숫자는 길이를 의미\n",
        "* -는 왼쪽 정렬을 의미\n",
        "* 소수점 ‘.’ 뒤에 숫자는 소숫점 이하 개수를 의미"
      ]
    },
    {
      "cell_type": "code",
      "metadata": {
        "id": "uG9qhf2L9K_A"
      },
      "source": [
        ""
      ],
      "execution_count": null,
      "outputs": []
    },
    {
      "cell_type": "markdown",
      "metadata": {
        "id": "SrIx3mkM_C8G"
      },
      "source": [
        "### 문자열 format 메소드\n",
        "\n",
        "* 문자열 `format()`의 인덱스를 이용한 고급 포맷팅\n",
        "* 인덱스 번호에 따라 `format()` 함수의 각 값들이 매핑"
      ]
    },
    {
      "cell_type": "code",
      "metadata": {
        "id": "uf469Z6l-6E0"
      },
      "source": [
        ""
      ],
      "execution_count": null,
      "outputs": []
    },
    {
      "cell_type": "markdown",
      "metadata": {
        "id": "0pTK7FHW_jIn"
      },
      "source": [
        "* 문자열 `format()` 메소드의 인덱스와 변수 이름을 이용한 포맷팅\n",
        "* 변수 이름 s와 n을 지정하여 \"사과\"와 숫자 2를 매핑"
      ]
    },
    {
      "cell_type": "code",
      "metadata": {
        "id": "Bwx0XnkE_Yvn"
      },
      "source": [
        ""
      ],
      "execution_count": null,
      "outputs": []
    },
    {
      "cell_type": "markdown",
      "metadata": {
        "id": "0yErNkKPAA2F"
      },
      "source": [
        "* 문자열 `format()` 함수의 정렬, 공백, 소수점\n"
      ]
    },
    {
      "cell_type": "code",
      "metadata": {
        "id": "Nfi9kAeD_z3p"
      },
      "source": [
        ""
      ],
      "execution_count": null,
      "outputs": []
    },
    {
      "cell_type": "markdown",
      "metadata": {
        "id": "1GS_wR86BmtE"
      },
      "source": [
        "### f 문자열 포맷팅\n",
        "\n",
        "* 문자열 포맷팅을 위해 새롭게 나온 기능으로 문자열 앞에 f를 붙여서 구분\n",
        "* 변수 s와 n에 대해서 문자열에 포함된 이름으로 매핑하여 사용 가능"
      ]
    },
    {
      "cell_type": "code",
      "metadata": {
        "id": "3ffhQ807BYLf"
      },
      "source": [
        ""
      ],
      "execution_count": null,
      "outputs": []
    },
    {
      "cell_type": "markdown",
      "metadata": {
        "id": "9zQ6zYkRR_dt"
      },
      "source": [
        "* 기존의 문자열 포맷을 문자열 다음 기호 : 뒤에 표현하여 그대로 사용 가능"
      ]
    },
    {
      "cell_type": "code",
      "metadata": {
        "id": "UOYcnlERBxhy"
      },
      "source": [
        ""
      ],
      "execution_count": null,
      "outputs": []
    }
  ]
}