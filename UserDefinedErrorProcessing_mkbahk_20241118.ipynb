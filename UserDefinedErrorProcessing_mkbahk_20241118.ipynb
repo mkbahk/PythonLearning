{
  "nbformat": 4,
  "nbformat_minor": 0,
  "metadata": {
    "colab": {
      "provenance": [],
      "authorship_tag": "ABX9TyOp44t3mP/5L+PchHCjcMv6",
      "include_colab_link": true
    },
    "kernelspec": {
      "name": "python3",
      "display_name": "Python 3"
    },
    "language_info": {
      "name": "python"
    }
  },
  "cells": [
    {
      "cell_type": "markdown",
      "metadata": {
        "id": "view-in-github",
        "colab_type": "text"
      },
      "source": [
        "<a href=\"https://colab.research.google.com/github/mkbahk/PythonLearning/blob/main/UserDefinedErrorProcessing_mkbahk_20241118.ipynb\" target=\"_parent\"><img src=\"https://colab.research.google.com/assets/colab-badge.svg\" alt=\"Open In Colab\"/></a>"
      ]
    },
    {
      "cell_type": "code",
      "source": [
        "class BigNumberError(Exception):\n",
        "  def __init__(self, msg):\n",
        "    self.msg = msg\n",
        "  ###def\n",
        "\n",
        "  def __str__(self):\n",
        "    return self.msg\n",
        "  ###def\n",
        "###"
      ],
      "metadata": {
        "id": "kmdzUewsaD3r"
      },
      "execution_count": 3,
      "outputs": []
    },
    {
      "cell_type": "code",
      "execution_count": 5,
      "metadata": {
        "colab": {
          "base_uri": "https://localhost:8080/"
        },
        "id": "RIPedU99ZT7G",
        "outputId": "837d7ed8-d668-4cff-c4b5-ecf7dfdb56e0"
      },
      "outputs": [
        {
          "output_type": "stream",
          "name": "stdout",
          "text": [
            "한 자리 숫자 나누기 전용 계산기입니다.\n",
            "첫 번째 숫자를 입력하세요 : 10\n",
            "두 번째 숫자를 입력하세요 : 20\n",
            "에러! 잘못된 값을 입력하였습니다.\n",
            "입력값 : 10, 20\n"
          ]
        }
      ],
      "source": [
        "try:\n",
        "  print(\"한 자리 숫자 나누기 전용 계산기입니다.\")\n",
        "  num1 = int(input(\"첫 번째 숫자를 입력하세요 : \"))\n",
        "  nu2m2 = int(input(\"두 번째 숫자를 입력하세요 : \"))\n",
        "  if num1 >= 10 or num2 >= 10:\n",
        "    raise BigNumberError(\"입력값 : {0}, {1}\".format(num1, num2))\n",
        "  else:\n",
        "    print(\"{0} / {1} = {2}\".format(num1, num2, i요t(num1 / num2)))\n",
        "  ###if\n",
        "except ValueError:\n",
        "  print(\"에러! 잘못된 값을 입력하였습니다. 한 자리 숫자만 입력하세요\")\n",
        "except BigNumberError as err:\n",
        "  print(\"에러! 잘못된 값을 입력하였습니다.\")\n",
        "  print(err)\n",
        "###try"
      ]
    }
  ]
}