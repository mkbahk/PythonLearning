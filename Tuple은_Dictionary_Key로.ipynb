{
  "nbformat": 4,
  "nbformat_minor": 0,
  "metadata": {
    "colab": {
      "provenance": [],
      "authorship_tag": "ABX9TyM82Tm0mmMk0ahxsa/jGrf4",
      "include_colab_link": true
    },
    "kernelspec": {
      "name": "python3",
      "display_name": "Python 3"
    },
    "language_info": {
      "name": "python"
    }
  },
  "cells": [
    {
      "cell_type": "markdown",
      "metadata": {
        "id": "view-in-github",
        "colab_type": "text"
      },
      "source": [
        "<a href=\"https://colab.research.google.com/github/mkbahk/PythonLearning/blob/main/Tuple%EC%9D%80_Dictionary_Key%EB%A1%9C.ipynb\" target=\"_parent\"><img src=\"https://colab.research.google.com/assets/colab-badge.svg\" alt=\"Open In Colab\"/></a>"
      ]
    },
    {
      "cell_type": "code",
      "execution_count": 1,
      "metadata": {
        "id": "cYEuafEcX4EK"
      },
      "outputs": [],
      "source": [
        "# 학생의 이름과 세 과목 점수를 튜플로 저장하고, 딕셔너리에 저장\n",
        "students = {\n",
        "    ('홍길동', 20231234): (90, 85, 78),\n",
        "    ('김철수', 20235678): (88, 92, 89)\n",
        "}\n",
        "\n",
        "# 학생의 성적 조회\n",
        "print(students[('홍길동', 20231234)])  # 출력: (90, 85, 78)"
      ]
    },
    {
      "cell_type": "code",
      "source": [
        "# 2차원 좌표를 튜플로 저장하고, 딕셔너리에 저장\n",
        "points = {\n",
        "    (1, 2): \"A점\",\n",
        "    (3, 4): \"B점\",\n",
        "    (5, 6): \"C점\"\n",
        "}\n",
        "\n",
        "# 좌표에 해당하는 이름 조회\n",
        "print(points[(3, 4)])  # 출력: B점"
      ],
      "metadata": {
        "colab": {
          "base_uri": "https://localhost:8080/"
        },
        "id": "FENbK8ILYGx2",
        "outputId": "7db959bc-f8bd-4e99-ca30-d3f1aed40089"
      },
      "execution_count": 3,
      "outputs": [
        {
          "output_type": "stream",
          "name": "stdout",
          "text": [
            "B점\n"
          ]
        }
      ]
    },
    {
      "cell_type": "code",
      "source": [
        "# 다중 인덱싱을 위한 딕셔너리 생성\n",
        "data = {\n",
        "    (0, 'A'): 10,\n",
        "    (0, 'B'): 20,\n",
        "    (1, 'A'): 30,\n",
        "    (1, 'B'): 40\n",
        "}\n",
        "\n",
        "# 값 조회\n",
        "print(data[(1, 'A')])  # 출력: 30"
      ],
      "metadata": {
        "id": "dCVqZblvYORn"
      },
      "execution_count": null,
      "outputs": []
    }
  ]
}