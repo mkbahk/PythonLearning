{
  "nbformat": 4,
  "nbformat_minor": 0,
  "metadata": {
    "colab": {
      "name": "_01 파이썬 프로그래밍 언어.ipynb",
      "provenance": [],
      "collapsed_sections": [],
      "toc_visible": true,
      "include_colab_link": true
    },
    "kernelspec": {
      "name": "python3",
      "display_name": "Python 3"
    }
  },
  "cells": [
    {
      "cell_type": "markdown",
      "metadata": {
        "id": "view-in-github",
        "colab_type": "text"
      },
      "source": [
        "<a href=\"https://colab.research.google.com/github/mkbahk/PythonLearning/blob/main/_01_%ED%8C%8C%EC%9D%B4%EC%8D%AC_%ED%94%84%EB%A1%9C%EA%B7%B8%EB%9E%98%EB%B0%8D_%EC%96%B8%EC%96%B4.ipynb\" target=\"_parent\"><img src=\"https://colab.research.google.com/assets/colab-badge.svg\" alt=\"Open In Colab\"/></a>"
      ]
    },
    {
      "cell_type": "markdown",
      "metadata": {
        "id": "bg5ZXMV2sn1M"
      },
      "source": [
        "# 파이썬 프로그래밍 언어(Python Programming Language)"
      ]
    },
    {
      "cell_type": "markdown",
      "metadata": {
        "id": "Lj_iZPKnCRP0"
      },
      "source": [
        "\n",
        "\n",
        "---\n",
        "\n"
      ]
    },
    {
      "cell_type": "markdown",
      "metadata": {
        "id": "qHumj4Amv_r0"
      },
      "source": [
        "## 파이썬 시작하기\n",
        "\n",
        "* 프로그래밍 언어를 배울 때 보통 가장 먼저 하는 것은 인사\n",
        "* 가장 기본이 되는 화면 출력 함수인 `print()`를 이용해서 문자열 \"Hello Python\"을 출력"
      ]
    },
    {
      "cell_type": "code",
      "metadata": {
        "id": "wGQsH_uNlSbS",
        "colab": {
          "base_uri": "https://localhost:8080/"
        },
        "outputId": "d3bc90c3-48df-499f-8ece-2d3722f0de1d"
      },
      "source": [
        "print(\"Hello Python\")"
      ],
      "execution_count": 1,
      "outputs": [
        {
          "output_type": "stream",
          "name": "stdout",
          "text": [
            "Hello Python\n"
          ]
        }
      ]
    },
    {
      "cell_type": "markdown",
      "metadata": {
        "id": "6LUMthH9Lf9Z"
      },
      "source": [
        "## 파이썬으로 계산하기"
      ]
    },
    {
      "cell_type": "markdown",
      "metadata": {
        "id": "zImoFsf6T4U9"
      },
      "source": [
        "### 사칙연산\n",
        "\n",
        "* 파이썬에서는 기본적인 산술 연산을 바로 수행 가능\n",
        "* 더하기, 빼기, 곱하기, 나누기 같은 간단한 산술연산 예제"
      ]
    },
    {
      "cell_type": "code",
      "metadata": {
        "id": "VaRaodRLF6N_",
        "colab": {
          "base_uri": "https://localhost:8080/"
        },
        "outputId": "877180e2-0482-43dd-bddc-963170ff5e0c"
      },
      "source": [
        "1 + 1"
      ],
      "execution_count": 2,
      "outputs": [
        {
          "output_type": "execute_result",
          "data": {
            "text/plain": [
              "2"
            ]
          },
          "metadata": {},
          "execution_count": 2
        }
      ]
    },
    {
      "cell_type": "code",
      "metadata": {
        "id": "zpBz_0y9H_7I",
        "colab": {
          "base_uri": "https://localhost:8080/"
        },
        "outputId": "46e8d4d2-521e-4c34-9ac3-4abce8da62fe"
      },
      "source": [
        "5 - 1 "
      ],
      "execution_count": 3,
      "outputs": [
        {
          "output_type": "execute_result",
          "data": {
            "text/plain": [
              "4"
            ]
          },
          "metadata": {},
          "execution_count": 3
        }
      ]
    },
    {
      "cell_type": "code",
      "metadata": {
        "id": "PLTZwXWFHPmv",
        "colab": {
          "base_uri": "https://localhost:8080/"
        },
        "outputId": "29ab8ba8-e264-4e2e-ccca-7c940d024f5c"
      },
      "source": [
        "4 * 3 "
      ],
      "execution_count": 4,
      "outputs": [
        {
          "output_type": "execute_result",
          "data": {
            "text/plain": [
              "12"
            ]
          },
          "metadata": {},
          "execution_count": 4
        }
      ]
    },
    {
      "cell_type": "code",
      "metadata": {
        "id": "8BFrh9HmHVkz",
        "colab": {
          "base_uri": "https://localhost:8080/"
        },
        "outputId": "867fe87e-326e-47a2-9aa9-9eda3f4740ab"
      },
      "source": [
        "5 / 3"
      ],
      "execution_count": 5,
      "outputs": [
        {
          "output_type": "execute_result",
          "data": {
            "text/plain": [
              "1.6666666666666667"
            ]
          },
          "metadata": {},
          "execution_count": 5
        }
      ]
    },
    {
      "cell_type": "markdown",
      "metadata": {
        "id": "G3WJblW4KKLh"
      },
      "source": [
        "### 실수 사칙연산\n",
        "\n",
        "* 실수에 대해서도 사칙연산 가능"
      ]
    },
    {
      "cell_type": "code",
      "metadata": {
        "id": "SUWi_GcFKSH5",
        "colab": {
          "base_uri": "https://localhost:8080/"
        },
        "outputId": "673b01d4-fb60-40cf-8161-ee07a1485019"
      },
      "source": [
        "1.1 + 2.4"
      ],
      "execution_count": 6,
      "outputs": [
        {
          "output_type": "execute_result",
          "data": {
            "text/plain": [
              "3.5"
            ]
          },
          "metadata": {},
          "execution_count": 6
        }
      ]
    },
    {
      "cell_type": "code",
      "metadata": {
        "id": "CqBZeD9oKU72",
        "colab": {
          "base_uri": "https://localhost:8080/"
        },
        "outputId": "eb9b12ee-c566-4acc-ba9f-82267e1fbbbf"
      },
      "source": [
        "4.2 - 1.2"
      ],
      "execution_count": 7,
      "outputs": [
        {
          "output_type": "execute_result",
          "data": {
            "text/plain": [
              "3.0"
            ]
          },
          "metadata": {},
          "execution_count": 7
        }
      ]
    },
    {
      "cell_type": "code",
      "metadata": {
        "id": "s1xyEhRJKXZL",
        "colab": {
          "base_uri": "https://localhost:8080/"
        },
        "outputId": "48b5c5d5-6b6b-4d3b-fd9d-42d4b339c279"
      },
      "source": [
        "1.2 * 2.2"
      ],
      "execution_count": 8,
      "outputs": [
        {
          "output_type": "execute_result",
          "data": {
            "text/plain": [
              "2.64"
            ]
          },
          "metadata": {},
          "execution_count": 8
        }
      ]
    },
    {
      "cell_type": "code",
      "metadata": {
        "id": "XKz3Ahc6KZwu",
        "colab": {
          "base_uri": "https://localhost:8080/"
        },
        "outputId": "88053860-b1c0-45b8-8259-04dc7149e47e"
      },
      "source": [
        "5.4 / 2.7"
      ],
      "execution_count": 9,
      "outputs": [
        {
          "output_type": "execute_result",
          "data": {
            "text/plain": [
              "2.0"
            ]
          },
          "metadata": {},
          "execution_count": 9
        }
      ]
    },
    {
      "cell_type": "markdown",
      "metadata": {
        "id": "2g1kd0ReKnvh"
      },
      "source": [
        "### 복잡한 연산\n",
        "\n",
        "* 여러 산술연산들이 포함된 복잡한 연산들도 가능"
      ]
    },
    {
      "cell_type": "code",
      "metadata": {
        "id": "06Tq0A94KvqH",
        "colab": {
          "base_uri": "https://localhost:8080/"
        },
        "outputId": "1e51519c-4d99-4e7e-d0e5-747552b11144"
      },
      "source": [
        " 1+ 2 + 3 / 3 *2"
      ],
      "execution_count": 10,
      "outputs": [
        {
          "output_type": "execute_result",
          "data": {
            "text/plain": [
              "5.0"
            ]
          },
          "metadata": {},
          "execution_count": 10
        }
      ]
    },
    {
      "cell_type": "code",
      "metadata": {
        "id": "zODjpBPxKyKy",
        "colab": {
          "base_uri": "https://localhost:8080/"
        },
        "outputId": "68ff72ce-a72e-4f3c-8f03-2538fefffc21"
      },
      "source": [
        "4 / 2 * 2 - 10 / 4"
      ],
      "execution_count": 11,
      "outputs": [
        {
          "output_type": "execute_result",
          "data": {
            "text/plain": [
              "1.5"
            ]
          },
          "metadata": {},
          "execution_count": 11
        }
      ]
    },
    {
      "cell_type": "code",
      "metadata": {
        "id": "yCDpG51AK6Vm",
        "colab": {
          "base_uri": "https://localhost:8080/"
        },
        "outputId": "37e5de2c-1898-4130-8464-c61092f20f78"
      },
      "source": [
        "(10 - 2 * 4) / (1 + 2) * (10 - 4)"
      ],
      "execution_count": 12,
      "outputs": [
        {
          "output_type": "execute_result",
          "data": {
            "text/plain": [
              "4.0"
            ]
          },
          "metadata": {},
          "execution_count": 12
        }
      ]
    },
    {
      "cell_type": "markdown",
      "metadata": {
        "id": "dI2C7NDyQ_Uq"
      },
      "source": [
        "\n",
        "\n",
        "---\n",
        "\n"
      ]
    },
    {
      "cell_type": "markdown",
      "metadata": {
        "id": "FiUzzSZOVuIK"
      },
      "source": [
        "## 파이썬 문법(Python Syntax)\n"
      ]
    },
    {
      "cell_type": "markdown",
      "metadata": {
        "id": "Ia0eyXfzV5b7"
      },
      "source": [
        "### 들여쓰기(Indentation)\n",
        "\n",
        "* 코드 라인의 시작 부분에 들여쓰기\n",
        "* 파이썬은 들여쓰기로 코드의 블록을 표시"
      ]
    },
    {
      "cell_type": "code",
      "metadata": {
        "id": "jDZmAkxVV32c",
        "colab": {
          "base_uri": "https://localhost:8080/"
        },
        "outputId": "8711705e-30a3-4e17-862c-b09040cf118e"
      },
      "source": [
        "if 2 > 1:\n",
        "  print(2)"
      ],
      "execution_count": 13,
      "outputs": [
        {
          "output_type": "stream",
          "name": "stdout",
          "text": [
            "2\n"
          ]
        }
      ]
    },
    {
      "cell_type": "code",
      "metadata": {
        "id": "Hffc6CB4b8F6",
        "colab": {
          "base_uri": "https://localhost:8080/"
        },
        "outputId": "5412c624-98f2-4aa4-ede4-0c80f8a8563b"
      },
      "source": [
        "if 2 > 1:\n",
        "  print(2)"
      ],
      "execution_count": 15,
      "outputs": [
        {
          "output_type": "stream",
          "name": "stdout",
          "text": [
            "2\n"
          ]
        }
      ]
    },
    {
      "cell_type": "markdown",
      "metadata": {
        "id": "XmkeU7cUWy2A"
      },
      "source": [
        "### 주석(Comments)\n",
        "\n",
        "* 코드에 대해 설명하는데 사용하고 가독성 증가\n",
        "* 일부 코드를 주석처리하여 실행 방지 가능"
      ]
    },
    {
      "cell_type": "code",
      "metadata": {
        "id": "qw9MLmHrW16P"
      },
      "source": [
        "# 주석부분\n",
        "print(\"주석문\") #주석\n",
        "\n",
        "#print(\"Comment\")\n",
        "\n"
      ],
      "execution_count": null,
      "outputs": []
    }
  ]
}