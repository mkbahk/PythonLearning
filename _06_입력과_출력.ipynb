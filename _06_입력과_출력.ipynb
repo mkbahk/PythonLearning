{
  "nbformat": 4,
  "nbformat_minor": 0,
  "metadata": {
    "colab": {
      "name": "_06 입력과 출력.ipynb",
      "provenance": [],
      "collapsed_sections": [],
      "include_colab_link": true
    },
    "kernelspec": {
      "name": "python3",
      "display_name": "Python 3"
    }
  },
  "cells": [
    {
      "cell_type": "markdown",
      "metadata": {
        "id": "view-in-github",
        "colab_type": "text"
      },
      "source": [
        "<a href=\"https://colab.research.google.com/github/mkbahk/PythonLearning/blob/main/_06_%EC%9E%85%EB%A0%A5%EA%B3%BC_%EC%B6%9C%EB%A0%A5.ipynb\" target=\"_parent\"><img src=\"https://colab.research.google.com/assets/colab-badge.svg\" alt=\"Open In Colab\"/></a>"
      ]
    },
    {
      "cell_type": "markdown",
      "metadata": {
        "id": "bg5ZXMV2sn1M"
      },
      "source": [
        "# 입력과 출력"
      ]
    },
    {
      "cell_type": "markdown",
      "metadata": {
        "id": "Lj_iZPKnCRP0"
      },
      "source": [
        "\n",
        "\n",
        "---\n",
        "\n"
      ]
    },
    {
      "cell_type": "markdown",
      "metadata": {
        "id": "zXbENjlMCrkU"
      },
      "source": [
        "## 표준 입출력(Standard Input/Output)\n",
        "표준입력장치(키보드) ->  input():표준입력함수 -> 파이썬 프로그램 -> print():표준출력함수 -> 표준출력장치(화면)\n"
      ]
    },
    {
      "cell_type": "markdown",
      "metadata": {
        "id": "QerabWfwCvtt"
      },
      "source": [
        "### 표준 입력 함수\n",
        "\n",
        "\n",
        "*   input() 함수: 콘솔 창을 통해서 사용자 입력을 받는 표준 입력 함수\n",
        "*   input()함수 안에 입력 받기 위한 질문을 텍스트로 넣을 수 있음\n",
        "\n"
      ]
    },
    {
      "cell_type": "code",
      "metadata": {
        "id": "22ALZ21LE60j",
        "colab": {
          "base_uri": "https://localhost:8080/"
        },
        "outputId": "d54ab465-f2a7-4cd0-c7d0-4402d3d94926"
      },
      "source": [
        "name = input(\"이름을 입력: \")\n",
        "print(\"입력한 이름은: \", name)"
      ],
      "execution_count": null,
      "outputs": [
        {
          "output_type": "stream",
          "name": "stdout",
          "text": [
            "이름을 입력: 박문기\n",
            "입력한 이름은:  박문기\n"
          ]
        }
      ]
    },
    {
      "cell_type": "markdown",
      "metadata": {
        "id": "7eTpB0QqxKI5"
      },
      "source": [
        "#### [Lab] 섭씨 온도를 화씨 온도로 변환\n",
        "\n",
        "* 섭씨 온도를 화씨 온도로 변환하는 공식: $F = (C * 1.8) + 32$"
      ]
    },
    {
      "cell_type": "code",
      "metadata": {
        "id": "ILFOCS30xVAJ",
        "colab": {
          "base_uri": "https://localhost:8080/"
        },
        "outputId": "e30b6869-322f-4643-ad85-bdedb9c0e834"
      },
      "source": [
        "celsius = float(input(\"섭씨 온도: \"))\n",
        "fahrenheit = (celsius * 1.8) + 32\n",
        "print(\"화씨 온도: \", fahrenheit)\n",
        "\n"
      ],
      "execution_count": null,
      "outputs": [
        {
          "output_type": "stream",
          "name": "stdout",
          "text": [
            "섭씨 온도: 10\n",
            "화씨 온도:  50.0\n"
          ]
        }
      ]
    },
    {
      "cell_type": "markdown",
      "metadata": {
        "id": "i8D8CzQAyLET"
      },
      "source": [
        "#### [Lab] 구구단 중의 하나의 단을 입력받아 계산\n",
        "\n",
        "* 출력할 단을 입력\n",
        "* 해당 단의 계산 결과 출력"
      ]
    },
    {
      "cell_type": "code",
      "metadata": {
        "id": "s5_zXZsvyXu1",
        "colab": {
          "base_uri": "https://localhost:8080/"
        },
        "outputId": "336228eb-ec6f-4ca8-d562-285b67125238"
      },
      "source": [
        "i = int(input(\"출력할 단: \"))\n",
        "for j in range(1, 10):\n",
        "  print(\"{0} x {1} = {2}\".format(i, j, i * j))\n",
        "###"
      ],
      "execution_count": null,
      "outputs": [
        {
          "output_type": "stream",
          "name": "stdout",
          "text": [
            "출력할 단: 7\n",
            "7 x 1 = 7\n",
            "7 x 2 = 14\n",
            "7 x 3 = 21\n",
            "7 x 4 = 28\n",
            "7 x 5 = 35\n",
            "7 x 6 = 42\n",
            "7 x 7 = 49\n",
            "7 x 8 = 56\n",
            "7 x 9 = 63\n"
          ]
        }
      ]
    },
    {
      "cell_type": "markdown",
      "metadata": {
        "id": "dq9yEA9J20Mg"
      },
      "source": [
        "### 표준 출력 함수\n",
        "\n",
        "\n",
        "*   print()함수: 콘솔 창을 통해서 결과를 출력하는 표준 출력 함수\n",
        "*   sep='separator': 개체가 분리하는 방법 지정, 기본값은 ''\n",
        "*   end='end': 끝에 출력할 항목 지정, 기본값은 '\\n'\n",
        "*   file: 쓰기 방법이 있는 객체, 기본값은 sys.stdout\n",
        "*   flush: Ture일 경우 flush하고, False일 경우 버펴, 기본값은 False\n",
        "\n"
      ]
    },
    {
      "cell_type": "code",
      "metadata": {
        "id": "pUGNUXMx292v",
        "colab": {
          "base_uri": "https://localhost:8080/"
        },
        "outputId": "5ea20317-1548-4026-cee5-8736135e0c5a"
      },
      "source": [
        "print(\"Hello Python\")\n",
        "print(\"안녕 파이션\")\n",
        "print(7)\n",
        "print(3.14)\n",
        "print(\"Hello\", \"Python\", sep = \"---\")\n",
        "print(1, 2, 3)\n",
        "print(1, end=' ')\n",
        "print(2, end=' ')\n",
        "print(3, end=' ')"
      ],
      "execution_count": null,
      "outputs": [
        {
          "output_type": "stream",
          "name": "stdout",
          "text": [
            "Hello Python\n",
            "안녕 파이션\n",
            "7\n",
            "3.14\n",
            "Hello---Python\n",
            "1 2 3\n",
            "1 2 3 "
          ]
        }
      ]
    },
    {
      "cell_type": "markdown",
      "metadata": {
        "id": "ll_m-EALwmJ-"
      },
      "source": [
        "#### [Lab] 구구단 출력\n",
        "\n",
        "* `print()` 함수를 사용하여 각 단마다 횡으로 출력\n"
      ]
    },
    {
      "cell_type": "code",
      "metadata": {
        "id": "wgtwEAQywy03",
        "colab": {
          "base_uri": "https://localhost:8080/"
        },
        "outputId": "478e28f9-cf84-4518-9d46-5b83ee69819f"
      },
      "source": [
        "for i in range(2, 10):\n",
        "  for j in range(1, 10):\n",
        "    print(\"{0} x {1} = {2}\".format(i, j, i * j), end='\\t')\n",
        "  ###\n",
        "  print()\n",
        "###"
      ],
      "execution_count": null,
      "outputs": [
        {
          "output_type": "stream",
          "name": "stdout",
          "text": [
            "2 x 1 = 2\t2 x 2 = 4\t2 x 3 = 6\t2 x 4 = 8\t2 x 5 = 10\t2 x 6 = 12\t2 x 7 = 14\t2 x 8 = 16\t2 x 9 = 18\t\n",
            "3 x 1 = 3\t3 x 2 = 6\t3 x 3 = 9\t3 x 4 = 12\t3 x 5 = 15\t3 x 6 = 18\t3 x 7 = 21\t3 x 8 = 24\t3 x 9 = 27\t\n",
            "4 x 1 = 4\t4 x 2 = 8\t4 x 3 = 12\t4 x 4 = 16\t4 x 5 = 20\t4 x 6 = 24\t4 x 7 = 28\t4 x 8 = 32\t4 x 9 = 36\t\n",
            "5 x 1 = 5\t5 x 2 = 10\t5 x 3 = 15\t5 x 4 = 20\t5 x 5 = 25\t5 x 6 = 30\t5 x 7 = 35\t5 x 8 = 40\t5 x 9 = 45\t\n",
            "6 x 1 = 6\t6 x 2 = 12\t6 x 3 = 18\t6 x 4 = 24\t6 x 5 = 30\t6 x 6 = 36\t6 x 7 = 42\t6 x 8 = 48\t6 x 9 = 54\t\n",
            "7 x 1 = 7\t7 x 2 = 14\t7 x 3 = 21\t7 x 4 = 28\t7 x 5 = 35\t7 x 6 = 42\t7 x 7 = 49\t7 x 8 = 56\t7 x 9 = 63\t\n",
            "8 x 1 = 8\t8 x 2 = 16\t8 x 3 = 24\t8 x 4 = 32\t8 x 5 = 40\t8 x 6 = 48\t8 x 7 = 56\t8 x 8 = 64\t8 x 9 = 72\t\n",
            "9 x 1 = 9\t9 x 2 = 18\t9 x 3 = 27\t9 x 4 = 36\t9 x 5 = 45\t9 x 6 = 54\t9 x 7 = 63\t9 x 8 = 72\t9 x 9 = 81\t\n"
          ]
        }
      ]
    },
    {
      "cell_type": "markdown",
      "metadata": {
        "id": "0BWIlqrPCr__"
      },
      "source": [
        "\n",
        "\n",
        "---\n",
        "\n"
      ]
    },
    {
      "cell_type": "markdown",
      "metadata": {
        "id": "ZfKg8LniN113"
      },
      "source": [
        "## 파일 입출력(File Input/Output)\n",
        "파일 -> read(), readline(), readlines() -> 파이썬 프로그램 -> write(), writelines() -> 파일"
      ]
    },
    {
      "cell_type": "markdown",
      "metadata": {
        "id": "mwhDmG2GBd-P"
      },
      "source": [
        "### 파일 입출력 과정\n",
        "\n",
        "* 파일의 입출력 과정은 단계를 가짐\n",
        "* 파일을 열고, 파일을 읽거나 쓰고, 파일을 닫는 순서\n",
        "\n",
        "파일열기 -> 파일읽기, 파일쓰기 -> 파일 닫기"
      ]
    },
    {
      "cell_type": "markdown",
      "metadata": {
        "id": "lTETVHfIBYER"
      },
      "source": [
        "### 파일 열기/닫기\n",
        "\n",
        "* file.txt 파일을 생성하고, 열고 닫기\n",
        "\n"
      ]
    },
    {
      "cell_type": "code",
      "metadata": {
        "id": "nea-tg6gNSQB"
      },
      "source": [
        "f1 = open(\"file1.txt\", mode='w')\n",
        "#f2 = open(\"file2.txt\", mode='r')\n",
        "#f2 = open(\"file2.txt\", mode='rw')\n",
        "f2 = open(\"file2.txt\", mode='a')\n",
        "f1.close()\n",
        "f2.close()"
      ],
      "execution_count": null,
      "outputs": []
    },
    {
      "cell_type": "code",
      "metadata": {
        "id": "dzvmCBufDrhK",
        "colab": {
          "base_uri": "https://localhost:8080/"
        },
        "outputId": "c7530567-c3d4-4dbd-eebc-b6df24749c40"
      },
      "source": [
        "!ls -al file1.txt\n",
        "!ls -al file2.txt"
      ],
      "execution_count": null,
      "outputs": [
        {
          "output_type": "stream",
          "name": "stdout",
          "text": [
            "-rw-r--r-- 1 root root 0 Nov 12 00:00 file1.txt\n",
            "-rw-r--r-- 1 root root 0 Nov 12 00:00 file2.txt\n"
          ]
        }
      ]
    },
    {
      "cell_type": "markdown",
      "metadata": {
        "id": "h1fePk0YCnXV"
      },
      "source": [
        "### 파일 모드(File Mode)\n",
        "* 파일모드: 설   명\n",
        "* (생략): r과 동일한 모드\n",
        "* r: 읽기모드(기본값)\n",
        "* w: 쓰기모드, 기존에 파일이 있으면 덮어쓰기, 없으면 새로 생성\n",
        "* a: 쓰기모드, 기존에 파일이 있으면 이어서 쓰기(append), 없으면 새로 생성\n",
        "* +: 읽기/쓰기 모드\n",
        "* t: 텍스트 모드(기본값), 텍스트 파일을 처리\n",
        "* b: 이진모드\n"
      ]
    },
    {
      "cell_type": "markdown",
      "metadata": {
        "id": "iCfc-ODYDZQY"
      },
      "source": [
        "### 텍스트 파일 쓰기\n",
        "표준 입력장치 -> input() -> 파이썬 프로그램 -> write(), writelines() ->파일"
      ]
    },
    {
      "cell_type": "markdown",
      "metadata": {
        "id": "Hpq36wnEGoYT"
      },
      "source": [
        "#### write()\n",
        "\n",
        "* `write()`를 이용하여 파일에 쓰기"
      ]
    },
    {
      "cell_type": "code",
      "metadata": {
        "id": "7TftagQSBp7Y"
      },
      "source": [
        "f = open(\"file3.txt\", mode='w')\n",
        "f.write(\"Hello Python\")\n",
        "f.close()"
      ],
      "execution_count": null,
      "outputs": []
    },
    {
      "cell_type": "code",
      "metadata": {
        "id": "Vu2IvULnDo71",
        "colab": {
          "base_uri": "https://localhost:8080/"
        },
        "outputId": "be48ba63-9b1f-439e-acb9-d2da146e3023"
      },
      "source": [
        "!cat file3.txt"
      ],
      "execution_count": null,
      "outputs": [
        {
          "output_type": "stream",
          "name": "stdout",
          "text": [
            "Hello Python"
          ]
        }
      ]
    },
    {
      "cell_type": "markdown",
      "metadata": {
        "id": "JP9cNh9bGso1"
      },
      "source": [
        "#### writelines()\n",
        "\n",
        "* `writelines()`를 이용하여 list를 파일에 쓰기"
      ]
    },
    {
      "cell_type": "code",
      "metadata": {
        "id": "uQih5aQjD1ie"
      },
      "source": [
        "list = [\"One\\n\", \"Two\\n\", \"Three\\n\"]\n",
        "f =  open(\"file4.txt\", 'w')\n",
        "f.writelines(list)\n",
        "f.close()"
      ],
      "execution_count": null,
      "outputs": []
    },
    {
      "cell_type": "code",
      "metadata": {
        "id": "tziPz-7uHDIN",
        "colab": {
          "base_uri": "https://localhost:8080/"
        },
        "outputId": "59f65542-fdc9-43a5-9e53-1800a31f20f0"
      },
      "source": [
        "!cat file4.txt"
      ],
      "execution_count": null,
      "outputs": [
        {
          "output_type": "stream",
          "name": "stdout",
          "text": [
            "One\n",
            "Two\n",
            "Three\n"
          ]
        }
      ]
    },
    {
      "cell_type": "markdown",
      "metadata": {
        "id": "Y4JzUhHklI3f"
      },
      "source": [
        "#### 표준 입력 → 파일 쓰기\n",
        "\n",
        "* 표준 입력을 `input()` 함수를 통해 입력 받고, `write()` 함수를 통해 파일에 쓰기"
      ]
    },
    {
      "cell_type": "code",
      "metadata": {
        "id": "0hUDWW-zHJp3",
        "colab": {
          "base_uri": "https://localhost:8080/"
        },
        "outputId": "843d719b-66dd-4225-b8b0-e4de3190882d"
      },
      "source": [
        "text = input(\"입력: \")\n",
        "f = open(\"file5.txt\", mode='w')\n",
        "f.write(text)\n",
        "f.close()"
      ],
      "execution_count": null,
      "outputs": [
        {
          "name": "stdout",
          "output_type": "stream",
          "text": [
            "입력: 철학자처럼 생각하고, 시인처럼 느끼며, 농부처럼 일하자.\n"
          ]
        }
      ]
    },
    {
      "cell_type": "code",
      "metadata": {
        "id": "DpDnU6y9eWSI",
        "colab": {
          "base_uri": "https://localhost:8080/"
        },
        "outputId": "52880f70-395e-4032-cb15-e7e7561ce99e"
      },
      "source": [
        "!cat file5.txt"
      ],
      "execution_count": null,
      "outputs": [
        {
          "output_type": "stream",
          "name": "stdout",
          "text": [
            "철학자처럼 생각하고, 시인처럼 느끼며, 농부처럼 일하자."
          ]
        }
      ]
    },
    {
      "cell_type": "code",
      "metadata": {
        "id": "YX-QNXwEjEA0",
        "colab": {
          "base_uri": "https://localhost:8080/"
        },
        "outputId": "c3bebb45-62ea-4838-a4f9-e891d306f974"
      },
      "source": [
        "f = open(\"file5.txt\", mode = 'r')\n",
        "print(f.readlines())\n",
        "f.close()"
      ],
      "execution_count": null,
      "outputs": [
        {
          "output_type": "stream",
          "name": "stdout",
          "text": [
            "['철학자처럼 생각하고, 시인처럼 느끼며, 농부처럼 일하자.']\n"
          ]
        }
      ]
    },
    {
      "cell_type": "code",
      "metadata": {
        "id": "x3bZ3RoOjFf4",
        "colab": {
          "base_uri": "https://localhost:8080/"
        },
        "outputId": "6e8b8568-7e28-490d-fb0e-7db8c17c6ff1"
      },
      "source": [
        "text =  input(\"여러 값을 입력: \").split()\n",
        "print(text)\n",
        "f = open(\"file7.txt\", mode='w')\n",
        "f.writelines(text)\n",
        "f.close()"
      ],
      "execution_count": null,
      "outputs": [
        {
          "output_type": "stream",
          "name": "stdout",
          "text": [
            "여러 값을 입력: 1 2 3 4 5\n",
            "['1', '2', '3', '4', '5']\n"
          ]
        }
      ]
    },
    {
      "cell_type": "code",
      "metadata": {
        "id": "6p_C8UUjmMSF",
        "colab": {
          "base_uri": "https://localhost:8080/"
        },
        "outputId": "3c0c13b9-8ec1-4be6-e9ee-b34ef8d72bda"
      },
      "source": [
        "!cat file7.txt"
      ],
      "execution_count": null,
      "outputs": [
        {
          "output_type": "stream",
          "name": "stdout",
          "text": [
            "12345"
          ]
        }
      ]
    },
    {
      "cell_type": "code",
      "metadata": {
        "id": "aZyEMmshkV-j",
        "colab": {
          "base_uri": "https://localhost:8080/"
        },
        "outputId": "0c6607cd-7b54-4db9-d5ab-e50cf158b7f0"
      },
      "source": [
        "text = [str(text + '\\n') for text in input(\"여러 값을 입력: \").split()] #하나의 리스트로\n",
        "print(text)\n",
        "f = open(\"file8.txt\", mode='w')\n",
        "f.writelines(text)\n",
        "f.close()"
      ],
      "execution_count": null,
      "outputs": [
        {
          "output_type": "stream",
          "name": "stdout",
          "text": [
            "여러 값을 입력: 철학자 처럼 생각하고 시인처럼 느끼며 농부처럼 일하자.\n",
            "['철학자\\n', '처럼\\n', '생각하고\\n', '시인처럼\\n', '느끼며\\n', '농부처럼\\n', '일하자.\\n']\n"
          ]
        }
      ]
    },
    {
      "cell_type": "code",
      "metadata": {
        "id": "7szpp1H5kWrr",
        "colab": {
          "base_uri": "https://localhost:8080/"
        },
        "outputId": "a27f90be-3fa4-458c-9719-34cf45c36aaa"
      },
      "source": [
        "! cat file8.txt"
      ],
      "execution_count": null,
      "outputs": [
        {
          "output_type": "stream",
          "name": "stdout",
          "text": [
            "철학자\n",
            "처럼\n",
            "생각하고\n",
            "시인처럼\n",
            "느끼며\n",
            "농부처럼\n",
            "일하자.\n"
          ]
        }
      ]
    },
    {
      "cell_type": "code",
      "metadata": {
        "id": "ZQukhioqgPr8",
        "colab": {
          "base_uri": "https://localhost:8080/"
        },
        "outputId": "1b168458-654f-4042-8e95-2eea4d1a9288"
      },
      "source": [
        "x = \"\"\n",
        "text = \"\"\n",
        "while x != 'q':\n",
        "  x = input(\"반복 입력, q는 종료: \")\n",
        "  text += x + '\\n'\n",
        "###\n",
        "f = open('file9.txt', mode='w')\n",
        "f.writelines(text)\n",
        "f.close()"
      ],
      "execution_count": null,
      "outputs": [
        {
          "name": "stdout",
          "output_type": "stream",
          "text": [
            "반복 입력, q는 종료: 1\n",
            "반복 입력, q는 종료: 3\n",
            "반복 입력, q는 종료: \n",
            "반복 입력, q는 종료: \n",
            "반복 입력, q는 종료: 11\n",
            "반복 입력, q는 종료: \n",
            "반복 입력, q는 종료: \n",
            "반복 입력, q는 종료: 1\n",
            "반복 입력, q는 종료: q\n"
          ]
        }
      ]
    },
    {
      "cell_type": "code",
      "metadata": {
        "id": "-u4LGJHugPdF",
        "colab": {
          "base_uri": "https://localhost:8080/"
        },
        "outputId": "d4b8710b-37ee-4f02-aa2d-95b72c59ee67"
      },
      "source": [
        "!cat file9.txt"
      ],
      "execution_count": null,
      "outputs": [
        {
          "output_type": "stream",
          "name": "stdout",
          "text": [
            "1\n",
            "3\n",
            "\n",
            "\n",
            "11\n",
            "\n",
            "\n",
            "1\n",
            "q\n"
          ]
        }
      ]
    },
    {
      "cell_type": "markdown",
      "metadata": {
        "id": "WNkV859qiqU1"
      },
      "source": [
        "### [Lab] 구구단 결과를 파일에 쓰기\n",
        "\n",
        "* 구구단 결과를 파일에 쓰기"
      ]
    },
    {
      "cell_type": "code",
      "metadata": {
        "id": "Z-Dj-GKcnyvq"
      },
      "source": [
        "f = open(\"99dan.txt\", mode='w')\n",
        "for i in range(1, 10):\n",
        "  for j in range(1, 10):\n",
        "    f.write(\"{0} x {1} = {2}\\n\".format(i, j, i * j)) #print시는 자동적으로 개행문자 입력해주시면, write는 그렇지 않아서 넣어주어야 함\n",
        "  else:\n",
        "    f.write('\\n')\n",
        "  ###\n",
        "###\n",
        "f.close()"
      ],
      "execution_count": null,
      "outputs": []
    },
    {
      "cell_type": "code",
      "metadata": {
        "id": "KGuAERghrA1X",
        "colab": {
          "base_uri": "https://localhost:8080/"
        },
        "outputId": "7cc6dc57-7c97-44c7-929e-ab01d1230ac4"
      },
      "source": [
        "!cat 99dan.txt"
      ],
      "execution_count": null,
      "outputs": [
        {
          "output_type": "stream",
          "name": "stdout",
          "text": [
            "1 x 1 = 1\n",
            "1 x 2 = 2\n",
            "1 x 3 = 3\n",
            "1 x 4 = 4\n",
            "1 x 5 = 5\n",
            "1 x 6 = 6\n",
            "1 x 7 = 7\n",
            "1 x 8 = 8\n",
            "1 x 9 = 9\n",
            "\n",
            "2 x 1 = 2\n",
            "2 x 2 = 4\n",
            "2 x 3 = 6\n",
            "2 x 4 = 8\n",
            "2 x 5 = 10\n",
            "2 x 6 = 12\n",
            "2 x 7 = 14\n",
            "2 x 8 = 16\n",
            "2 x 9 = 18\n",
            "\n",
            "3 x 1 = 3\n",
            "3 x 2 = 6\n",
            "3 x 3 = 9\n",
            "3 x 4 = 12\n",
            "3 x 5 = 15\n",
            "3 x 6 = 18\n",
            "3 x 7 = 21\n",
            "3 x 8 = 24\n",
            "3 x 9 = 27\n",
            "\n",
            "4 x 1 = 4\n",
            "4 x 2 = 8\n",
            "4 x 3 = 12\n",
            "4 x 4 = 16\n",
            "4 x 5 = 20\n",
            "4 x 6 = 24\n",
            "4 x 7 = 28\n",
            "4 x 8 = 32\n",
            "4 x 9 = 36\n",
            "\n",
            "5 x 1 = 5\n",
            "5 x 2 = 10\n",
            "5 x 3 = 15\n",
            "5 x 4 = 20\n",
            "5 x 5 = 25\n",
            "5 x 6 = 30\n",
            "5 x 7 = 35\n",
            "5 x 8 = 40\n",
            "5 x 9 = 45\n",
            "\n",
            "6 x 1 = 6\n",
            "6 x 2 = 12\n",
            "6 x 3 = 18\n",
            "6 x 4 = 24\n",
            "6 x 5 = 30\n",
            "6 x 6 = 36\n",
            "6 x 7 = 42\n",
            "6 x 8 = 48\n",
            "6 x 9 = 54\n",
            "\n",
            "7 x 1 = 7\n",
            "7 x 2 = 14\n",
            "7 x 3 = 21\n",
            "7 x 4 = 28\n",
            "7 x 5 = 35\n",
            "7 x 6 = 42\n",
            "7 x 7 = 49\n",
            "7 x 8 = 56\n",
            "7 x 9 = 63\n",
            "\n",
            "8 x 1 = 8\n",
            "8 x 2 = 16\n",
            "8 x 3 = 24\n",
            "8 x 4 = 32\n",
            "8 x 5 = 40\n",
            "8 x 6 = 48\n",
            "8 x 7 = 56\n",
            "8 x 8 = 64\n",
            "8 x 9 = 72\n",
            "\n",
            "9 x 1 = 9\n",
            "9 x 2 = 18\n",
            "9 x 3 = 27\n",
            "9 x 4 = 36\n",
            "9 x 5 = 45\n",
            "9 x 6 = 54\n",
            "9 x 7 = 63\n",
            "9 x 8 = 72\n",
            "9 x 9 = 81\n",
            "\n"
          ]
        }
      ]
    },
    {
      "cell_type": "markdown",
      "metadata": {
        "id": "Qb_pHnyWmXhf"
      },
      "source": [
        "### 텍스트 파일 출력\n"
      ]
    },
    {
      "cell_type": "markdown",
      "metadata": {
        "id": "04674ECuaVeg"
      },
      "source": [
        "* 텍스트 파일 예제"
      ]
    },
    {
      "cell_type": "code",
      "metadata": {
        "id": "ZBqDkuKHmPRl"
      },
      "source": [
        "!echo \"동해물과 백두산이 마라고 닳도록\" > anthem.txt\n",
        "!echo \"하느님이 보우하사 우리나라 만세\" >> anthem.txt"
      ],
      "execution_count": null,
      "outputs": []
    },
    {
      "cell_type": "markdown",
      "metadata": {
        "id": "ynAP34NKmzBs"
      },
      "source": [
        "#### readline()\n",
        "\n",
        "* `readline()`를 이용하여 텍스트 파일을 라인 단위로 읽고 화면에 출력"
      ]
    },
    {
      "cell_type": "code",
      "metadata": {
        "id": "aSr5-3jbTpXL",
        "colab": {
          "base_uri": "https://localhost:8080/"
        },
        "outputId": "1a00e4fd-5c3b-43ce-a687-e03fc8ba8998"
      },
      "source": [
        "f = open('anthem.txt', 'r')\n",
        "while True:\n",
        "  line = f.readline()\n",
        "  if not line: \n",
        "    break\n",
        "  else:\n",
        "    print(line)\n",
        "  ###\n",
        "###\n",
        "\n",
        "f.close()"
      ],
      "execution_count": null,
      "outputs": [
        {
          "output_type": "stream",
          "name": "stdout",
          "text": [
            "동해물과 백두산이 마라고 닳도록\n",
            "\n",
            "하느님이 보우하사 우리나라 만세\n",
            "\n"
          ]
        }
      ]
    },
    {
      "cell_type": "markdown",
      "metadata": {
        "id": "wfRSe7X7YQQr"
      },
      "source": [
        "#### readlines()\n",
        "\n",
        "* `readlines()`를 이용하여 텍스트 파일의 여러 라인을 읽고 화면에 출력"
      ]
    },
    {
      "cell_type": "code",
      "metadata": {
        "id": "UKvvxHziYdgS",
        "colab": {
          "base_uri": "https://localhost:8080/"
        },
        "outputId": "60eca9be-b00b-4601-b6cf-8334f6b4c802"
      },
      "source": [
        "f = open(\"anthem.txt\", mode='r')\n",
        "lines = f.readlines()\n",
        "print(lines)\n",
        "f.close()\n"
      ],
      "execution_count": null,
      "outputs": [
        {
          "output_type": "stream",
          "name": "stdout",
          "text": [
            "['동해물과 백두산이 마라고 닳도록\\n', '하느님이 보우하사 우리나라 만세\\n']\n"
          ]
        }
      ]
    },
    {
      "cell_type": "markdown",
      "metadata": {
        "id": "AW6SmMx8aEVn"
      },
      "source": [
        "#### read()\n",
        "\n",
        "* `read()`를 이용하여 텍스트 파일을 읽고 화면에 출력"
      ]
    },
    {
      "cell_type": "code",
      "metadata": {
        "id": "WGgYorQ0Yi6c",
        "colab": {
          "base_uri": "https://localhost:8080/"
        },
        "outputId": "9fbcdf86-9b62-4acd-d0f4-f774028dc9fe"
      },
      "source": [
        "f = open(\"anthem.txt\", mode='r')\n",
        "data = f.read() #통으로 다 읽어옴\n",
        "print(data)\n",
        "f.close()"
      ],
      "execution_count": null,
      "outputs": [
        {
          "output_type": "stream",
          "name": "stdout",
          "text": [
            "동해물과 백두산이 마라고 닳도록\n",
            "하느님이 보우하사 우리나라 만세\n",
            "\n"
          ]
        }
      ]
    },
    {
      "cell_type": "markdown",
      "metadata": {
        "id": "Qy5AKrmZexQR"
      },
      "source": [
        "#### tell()\n",
        "\n",
        "* 파일 포인터 위치 변경"
      ]
    },
    {
      "cell_type": "code",
      "metadata": {
        "id": "b5FgVeUjaeB1",
        "colab": {
          "base_uri": "https://localhost:8080/"
        },
        "outputId": "83e24239-5677-45a4-bd14-df0db9dd469a"
      },
      "source": [
        "f = open(\"anthem.txt\", mode='r')\n",
        "while True:\n",
        "  print(f.tell())\n",
        "  line = f.readline()\n",
        "  if not line:\n",
        "    break\n",
        "  else:\n",
        "    print(line)\n",
        "  ###\n",
        "###\n",
        "f.close()\n"
      ],
      "execution_count": null,
      "outputs": [
        {
          "output_type": "stream",
          "name": "stdout",
          "text": [
            "0\n",
            "동해물과 백두산이 마라고 닳도록\n",
            "\n",
            "46\n",
            "하느님이 보우하사 우리나라 만세\n",
            "\n",
            "92\n"
          ]
        }
      ]
    },
    {
      "cell_type": "markdown",
      "metadata": {
        "id": "TGOuMtV-fmzX"
      },
      "source": [
        "#### seek()\n",
        "\n",
        "* 파일 포인터 위치 이동"
      ]
    },
    {
      "cell_type": "code",
      "metadata": {
        "id": "iv9v8YgWe7ps",
        "colab": {
          "base_uri": "https://localhost:8080/"
        },
        "outputId": "756d7303-994b-430d-c6d5-fb135ca22d08"
      },
      "source": [
        "f = open(\"anthem.txt\", mode='r')\n",
        "f.seek(46)\n",
        "line = f.readline()\n",
        "print(line)\n",
        "f.seek(0)\n",
        "line = f.readline()\n",
        "print(line)\n",
        "f.close()"
      ],
      "execution_count": null,
      "outputs": [
        {
          "output_type": "stream",
          "name": "stdout",
          "text": [
            "하느님이 보우하사 우리나라 만세\n",
            "\n",
            "동해물과 백두산이 마라고 닳도록\n",
            "\n"
          ]
        }
      ]
    },
    {
      "cell_type": "markdown",
      "metadata": {
        "id": "L_Suw_pGgTir"
      },
      "source": [
        "### with 문\n",
        "\n",
        "* 항상 파일을 `open()` 함수로 열고, `close()` 함수로 닫아야 하는 일을 자동으로 처리\n",
        "* with문을 이용하면 with 블록 내에서 파일을 열고 벗어나면 파일을 닫음"
      ]
    },
    {
      "cell_type": "code",
      "metadata": {
        "id": "UoCCDoZSfxfm"
      },
      "source": [
        "with open(\"anthem.txt\", 'w') as f:\n",
        "  f.write(\"Hello Python\")\n",
        "###"
      ],
      "execution_count": null,
      "outputs": []
    },
    {
      "cell_type": "code",
      "metadata": {
        "id": "SQRXWFlrgsoz",
        "colab": {
          "base_uri": "https://localhost:8080/"
        },
        "outputId": "3220774d-84b0-4c05-ea59-24a9ffa6f8b5"
      },
      "source": [
        "!cat anthem.txt"
      ],
      "execution_count": null,
      "outputs": [
        {
          "output_type": "stream",
          "name": "stdout",
          "text": [
            "Hello Python"
          ]
        }
      ]
    },
    {
      "cell_type": "markdown",
      "metadata": {
        "id": "pdqlyRyrhJrO"
      },
      "source": [
        "### [Lab] 표준 입력으로 받은 내용을 파일로 쓰기\n",
        "\n",
        "* 사용자로부터 표준 입력 받음\n",
        "* 받은 내용을 계속 파일 쓰기"
      ]
    },
    {
      "cell_type": "code",
      "metadata": {
        "id": "Qy7mVrrggx8r",
        "colab": {
          "base_uri": "https://localhost:8080/"
        },
        "outputId": "938ff5f0-aaf5-4270-995b-77e644f8b86d"
      },
      "source": [
        "f = open(\"anthem2.txt\", mode='w')\n",
        "line = \"\"\n",
        "\n",
        "while True:\n",
        "  line = input()\n",
        "  if not line: break\n",
        "  f.writelines(line + '\\n')\n",
        "###\n",
        "\n",
        "#if None != f.close():\n",
        "if f.close() is not None:\n",
        "  print('파일이 비-정상적으로 닫아짐')\n",
        "else:\n",
        "  print('파일이 정상적으로 닫아짐')\n",
        "###\n"
      ],
      "execution_count": null,
      "outputs": [
        {
          "output_type": "stream",
          "name": "stdout",
          "text": [
            "fdsa\n",
            "ffdsa\n",
            "fdsfdsafdsa\n",
            "\n",
            "파일이 정상적으로 닫아짐\n"
          ]
        }
      ]
    },
    {
      "cell_type": "code",
      "metadata": {
        "id": "CyogsvI8pHDH"
      },
      "source": [
        ""
      ],
      "execution_count": null,
      "outputs": []
    },
    {
      "cell_type": "markdown",
      "metadata": {
        "id": "8u3USAlzkYBc"
      },
      "source": [
        "* 이진 파일(이미지) 예제\n"
      ]
    },
    {
      "cell_type": "code",
      "metadata": {
        "id": "zf2Cv4xBkcZ6"
      },
      "source": [
        ""
      ],
      "execution_count": null,
      "outputs": []
    },
    {
      "cell_type": "code",
      "metadata": {
        "id": "-79_rqZSlAAj"
      },
      "source": [
        ""
      ],
      "execution_count": null,
      "outputs": []
    },
    {
      "cell_type": "markdown",
      "metadata": {
        "id": "xAIKkI0kkNCc"
      },
      "source": [
        "### 이진 파일 복사\n",
        "\n",
        "* 하나의 이진 파일을 읽어서 다른 이진 파일로 쓰기 (복사)"
      ]
    },
    {
      "cell_type": "code",
      "metadata": {
        "id": "O1Lgc0xJifEe"
      },
      "source": [
        ""
      ],
      "execution_count": null,
      "outputs": []
    },
    {
      "cell_type": "code",
      "metadata": {
        "id": "FYokBMPGloiG"
      },
      "source": [
        ""
      ],
      "execution_count": null,
      "outputs": []
    },
    {
      "cell_type": "markdown",
      "metadata": {
        "id": "6cGa9Yu6aYTw"
      },
      "source": [
        "## 디렉토리 및 파일 처리"
      ]
    },
    {
      "cell_type": "markdown",
      "metadata": {
        "id": "Gx6vy4ugmTx3"
      },
      "source": [
        "### 디렉토리 생성\n",
        "\n",
        "* 디렉토리와 파일을 다루는 다양한 함수를 제공하는 shutil와 os 라이브러리\n",
        "* `mkdir()`: 디렉토리 생성"
      ]
    },
    {
      "cell_type": "code",
      "metadata": {
        "id": "7BjQCHTelp3J"
      },
      "source": [
        ""
      ],
      "execution_count": null,
      "outputs": []
    },
    {
      "cell_type": "code",
      "metadata": {
        "id": "C7MpVtiJmi24"
      },
      "source": [
        ""
      ],
      "execution_count": null,
      "outputs": []
    },
    {
      "cell_type": "code",
      "metadata": {
        "id": "bTzCbKxGmmYD"
      },
      "source": [
        ""
      ],
      "execution_count": null,
      "outputs": []
    },
    {
      "cell_type": "markdown",
      "metadata": {
        "id": "O_RHayEvmsZI"
      },
      "source": [
        "### 디렉토리 및 파일 복사\n",
        "\n",
        "* `shutil.copy()`: 파일 복사\n",
        "* `shutil.copytree()`: 디렉토리 전체 복사"
      ]
    },
    {
      "cell_type": "code",
      "metadata": {
        "id": "WoEn0xGxmn0n"
      },
      "source": [
        ""
      ],
      "execution_count": null,
      "outputs": []
    },
    {
      "cell_type": "code",
      "metadata": {
        "id": "kvhbuSyPnYCw"
      },
      "source": [
        ""
      ],
      "execution_count": null,
      "outputs": []
    },
    {
      "cell_type": "code",
      "metadata": {
        "id": "V5TS0NAnnY8z"
      },
      "source": [
        ""
      ],
      "execution_count": null,
      "outputs": []
    },
    {
      "cell_type": "code",
      "metadata": {
        "id": "Y_Uglnwjngzs"
      },
      "source": [
        ""
      ],
      "execution_count": null,
      "outputs": []
    },
    {
      "cell_type": "code",
      "metadata": {
        "id": "GvoCuP-znh5Z"
      },
      "source": [
        ""
      ],
      "execution_count": null,
      "outputs": []
    },
    {
      "cell_type": "markdown",
      "metadata": {
        "id": "V75epsj4nng9"
      },
      "source": [
        "### 디렉토리 및 파일 확인\n",
        "\n",
        "* `isdir()`: 디렉토리 존재 확인\n",
        "* `isfile()`: 파일 존재 확인\n",
        "* `exists()`: 디렉토리/파일 존재 확인"
      ]
    },
    {
      "cell_type": "code",
      "metadata": {
        "id": "aJjYdh2HnjdB"
      },
      "source": [
        ""
      ],
      "execution_count": null,
      "outputs": []
    },
    {
      "cell_type": "markdown",
      "metadata": {
        "id": "dmMqt-iCoD8O"
      },
      "source": [
        "### 디렉토리 목록 보기\n",
        "\n",
        "* `os.walk()`: 디렉토리 목록 보기"
      ]
    },
    {
      "cell_type": "code",
      "metadata": {
        "id": "8dl_wZjKn30X"
      },
      "source": [
        ""
      ],
      "execution_count": null,
      "outputs": []
    },
    {
      "cell_type": "markdown",
      "metadata": {
        "id": "estvZcJApGpc"
      },
      "source": [
        "### 디렉토리 및 파일 삭제\n",
        "\n",
        "* `os.remove()`: 파일 삭제\n",
        "* `shutil.rmtree()`: 디렉토리 안에 모든 파일/디렉토리 삭제"
      ]
    },
    {
      "cell_type": "code",
      "metadata": {
        "id": "czvnvkrKoTLm"
      },
      "source": [
        ""
      ],
      "execution_count": null,
      "outputs": []
    },
    {
      "cell_type": "code",
      "metadata": {
        "id": "CwMlBpVFpXQ-"
      },
      "source": [
        ""
      ],
      "execution_count": null,
      "outputs": []
    },
    {
      "cell_type": "code",
      "metadata": {
        "id": "-dNA3t0Gpb-E"
      },
      "source": [
        ""
      ],
      "execution_count": null,
      "outputs": []
    },
    {
      "cell_type": "code",
      "metadata": {
        "id": "NHqsllWupeU2"
      },
      "source": [
        ""
      ],
      "execution_count": null,
      "outputs": []
    },
    {
      "cell_type": "markdown",
      "metadata": {
        "id": "DiN7c--0pkYn"
      },
      "source": [
        "### 파일 크기\n",
        "\n",
        "* `os.path.getsize()`: 파일의 크기를 바이트 단위로 출력"
      ]
    },
    {
      "cell_type": "code",
      "metadata": {
        "id": "rmiTPJYDpe9m"
      },
      "source": [
        ""
      ],
      "execution_count": null,
      "outputs": []
    },
    {
      "cell_type": "markdown",
      "metadata": {
        "id": "9GITxX2sp0tx"
      },
      "source": [
        "### 파일 압축\n"
      ]
    },
    {
      "cell_type": "code",
      "metadata": {
        "id": "JCXOQV2Ipt-E"
      },
      "source": [
        ""
      ],
      "execution_count": null,
      "outputs": []
    },
    {
      "cell_type": "code",
      "metadata": {
        "id": "cpSLp4pGqeec"
      },
      "source": [
        ""
      ],
      "execution_count": null,
      "outputs": []
    },
    {
      "cell_type": "code",
      "metadata": {
        "id": "PpUzZdiAqfPp"
      },
      "source": [
        ""
      ],
      "execution_count": null,
      "outputs": []
    },
    {
      "cell_type": "code",
      "metadata": {
        "id": "Akgb1WQYqnzq"
      },
      "source": [
        ""
      ],
      "execution_count": null,
      "outputs": []
    }
  ]
}